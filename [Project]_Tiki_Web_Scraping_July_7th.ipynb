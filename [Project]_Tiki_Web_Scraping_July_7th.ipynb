{
  "nbformat": 4,
  "nbformat_minor": 0,
  "metadata": {
    "colab": {
      "name": "[Project] Tiki_Web Scraping_July 7th.ipynb",
      "provenance": [],
      "collapsed_sections": [],
      "include_colab_link": true
    },
    "kernelspec": {
      "name": "python3",
      "display_name": "Python 3"
    },
    "language_info": {
      "name": "python"
    }
  },
  "cells": [
    {
      "cell_type": "markdown",
      "metadata": {
        "id": "view-in-github",
        "colab_type": "text"
      },
      "source": [
        "<a href=\"https://colab.research.google.com/github/Annieng184/Annieng184/blob/main/%5BProject%5D_Tiki_Web_Scraping_July_7th.ipynb\" target=\"_parent\"><img src=\"https://colab.research.google.com/assets/colab-badge.svg\" alt=\"Open In Colab\"/></a>"
      ]
    },
    {
      "cell_type": "code",
      "execution_count": 183,
      "metadata": {
        "colab": {
          "base_uri": "https://localhost:8080/"
        },
        "id": "d4GlZmimV6Dr",
        "outputId": "d3ce5e6f-3be0-440b-d3d4-252a201e44c0"
      },
      "outputs": [
        {
          "output_type": "stream",
          "name": "stdout",
          "text": [
            "Looking in indexes: https://pypi.org/simple, https://us-python.pkg.dev/colab-wheels/public/simple/\n",
            "Requirement already satisfied: selenium in /usr/local/lib/python3.7/dist-packages (4.3.0)\n",
            "Requirement already satisfied: trio~=0.17 in /usr/local/lib/python3.7/dist-packages (from selenium) (0.21.0)\n",
            "Requirement already satisfied: trio-websocket~=0.9 in /usr/local/lib/python3.7/dist-packages (from selenium) (0.9.2)\n",
            "Requirement already satisfied: urllib3[secure,socks]~=1.26 in /usr/local/lib/python3.7/dist-packages (from selenium) (1.26.9)\n",
            "Requirement already satisfied: async-generator>=1.9 in /usr/local/lib/python3.7/dist-packages (from trio~=0.17->selenium) (1.10)\n",
            "Requirement already satisfied: sortedcontainers in /usr/local/lib/python3.7/dist-packages (from trio~=0.17->selenium) (2.4.0)\n",
            "Requirement already satisfied: sniffio in /usr/local/lib/python3.7/dist-packages (from trio~=0.17->selenium) (1.2.0)\n",
            "Requirement already satisfied: outcome in /usr/local/lib/python3.7/dist-packages (from trio~=0.17->selenium) (1.2.0)\n",
            "Requirement already satisfied: attrs>=19.2.0 in /usr/local/lib/python3.7/dist-packages (from trio~=0.17->selenium) (21.4.0)\n",
            "Requirement already satisfied: idna in /usr/local/lib/python3.7/dist-packages (from trio~=0.17->selenium) (2.10)\n",
            "Requirement already satisfied: wsproto>=0.14 in /usr/local/lib/python3.7/dist-packages (from trio-websocket~=0.9->selenium) (1.1.0)\n",
            "Requirement already satisfied: pyOpenSSL>=0.14 in /usr/local/lib/python3.7/dist-packages (from urllib3[secure,socks]~=1.26->selenium) (22.0.0)\n",
            "Requirement already satisfied: cryptography>=1.3.4 in /usr/local/lib/python3.7/dist-packages (from urllib3[secure,socks]~=1.26->selenium) (37.0.4)\n",
            "Requirement already satisfied: certifi in /usr/local/lib/python3.7/dist-packages (from urllib3[secure,socks]~=1.26->selenium) (2022.6.15)\n",
            "Requirement already satisfied: PySocks!=1.5.7,<2.0,>=1.5.6 in /usr/local/lib/python3.7/dist-packages (from urllib3[secure,socks]~=1.26->selenium) (1.7.1)\n",
            "Requirement already satisfied: cffi>=1.12 in /usr/local/lib/python3.7/dist-packages (from cryptography>=1.3.4->urllib3[secure,socks]~=1.26->selenium) (1.15.0)\n",
            "Requirement already satisfied: pycparser in /usr/local/lib/python3.7/dist-packages (from cffi>=1.12->cryptography>=1.3.4->urllib3[secure,socks]~=1.26->selenium) (2.21)\n",
            "Requirement already satisfied: h11<1,>=0.9.0 in /usr/local/lib/python3.7/dist-packages (from wsproto>=0.14->trio-websocket~=0.9->selenium) (0.13.0)\n",
            "Requirement already satisfied: typing-extensions in /usr/local/lib/python3.7/dist-packages (from h11<1,>=0.9.0->wsproto>=0.14->trio-websocket~=0.9->selenium) (4.1.1)\n",
            "Hit:1 http://ppa.launchpad.net/c2d4u.team/c2d4u4.0+/ubuntu bionic InRelease\n",
            "Hit:2 http://archive.ubuntu.com/ubuntu bionic InRelease\n",
            "Get:3 http://security.ubuntu.com/ubuntu bionic-security InRelease [88.7 kB]\n",
            "Hit:4 http://ppa.launchpad.net/cran/libgit2/ubuntu bionic InRelease\n",
            "Get:5 http://archive.ubuntu.com/ubuntu bionic-updates InRelease [88.7 kB]\n",
            "Hit:6 https://developer.download.nvidia.com/compute/cuda/repos/ubuntu1804/x86_64  InRelease\n",
            "Hit:7 http://ppa.launchpad.net/deadsnakes/ppa/ubuntu bionic InRelease\n",
            "Hit:8 https://cloud.r-project.org/bin/linux/ubuntu bionic-cran40/ InRelease\n",
            "Hit:9 http://ppa.launchpad.net/graphics-drivers/ppa/ubuntu bionic InRelease\n",
            "Get:10 http://archive.ubuntu.com/ubuntu bionic-backports InRelease [74.6 kB]\n",
            "Ign:11 https://developer.download.nvidia.com/compute/machine-learning/repos/ubuntu1804/x86_64  InRelease\n",
            "Hit:12 https://developer.download.nvidia.com/compute/machine-learning/repos/ubuntu1804/x86_64  Release\n",
            "Fetched 252 kB in 2s (107 kB/s)\n",
            "Reading package lists... Done\n",
            "Reading package lists... Done\n",
            "Building dependency tree       \n",
            "Reading state information... Done\n",
            "chromium-chromedriver is already the newest version (101.0.4951.64-0ubuntu0.18.04.1).\n",
            "The following package was automatically installed and is no longer required:\n",
            "  libnvidia-common-460\n",
            "Use 'apt autoremove' to remove it.\n",
            "0 upgraded, 0 newly installed, 0 to remove and 67 not upgraded.\n"
          ]
        }
      ],
      "source": [
        "# install selenium and other resources for crawling data\n",
        "!pip install selenium\n",
        "!apt-get update\n",
        "!apt install chromium-chromedriver"
      ]
    },
    {
      "cell_type": "code",
      "source": [
        "import re\n",
        "import time\n",
        "import pandas as pd\n",
        "\n",
        "from selenium import webdriver\n",
        "from selenium.webdriver.common.by import By\n",
        "from selenium.common.exceptions import NoSuchElementException\n",
        "from selenium.common.exceptions import StaleElementReferenceException"
      ],
      "metadata": {
        "id": "BtJ0XQrqV8x4"
      },
      "execution_count": 184,
      "outputs": []
    },
    {
      "cell_type": "code",
      "source": [
        "DRIVER = None"
      ],
      "metadata": {
        "id": "npKeYnz6WCx8"
      },
      "execution_count": 185,
      "outputs": []
    },
    {
      "cell_type": "code",
      "source": [
        "def initialize_driver():\n",
        "    global DRIVER\n",
        "    if DRIVER is None:\n",
        "        print('Initiating driver...')\n",
        "        chrome_options = webdriver.ChromeOptions()\n",
        "        chrome_options.add_argument('-headless') \n",
        "        chrome_options.add_argument('-no-sandbox') \n",
        "        DRIVER = webdriver.Chrome('chromedriver',options=chrome_options)  # Create the new chrome browser with specific options\n",
        "        print('Finished!')"
      ],
      "metadata": {
        "id": "qDN3JnmVWEZy"
      },
      "execution_count": 186,
      "outputs": []
    },
    {
      "cell_type": "code",
      "source": [
        "# Global driver to use throughout the script\n",
        "DRIVER = None\n",
        "\n",
        "# Wrapper to close driver if its created\n",
        "def close_driver():\n",
        "    global DRIVER\n",
        "    if DRIVER is not None:\n",
        "        DRIVER.close()\n",
        "    DRIVER = None\n",
        "\n",
        "# Function to (re)start driver\n",
        "def start_driver(force_restart=False):\n",
        "    global DRIVER\n",
        "    \n",
        "    if force_restart:\n",
        "        close_driver()\n",
        "    \n",
        "    # Setting up the driver\n",
        "    options = webdriver.ChromeOptions()\n",
        "    options.add_argument('-headless') # we don't want a chrome browser opens, so it will run in the background\n",
        "    options.add_argument('-no-sandbox')\n",
        "    options.add_argument('-disable-dev-shm-usage')\n",
        "\n",
        "    DRIVER = webdriver.Chrome('chromedriver',options=options)"
      ],
      "metadata": {
        "id": "OB_iEWoKr8q4"
      },
      "execution_count": 187,
      "outputs": []
    },
    {
      "cell_type": "code",
      "source": [
        "def close_driver():\n",
        "    global DRIVER\n",
        "    if not DRIVER is None:\n",
        "        print(\"Quitting driver...\")\n",
        "        DRIVER.quit()\n",
        "        print(\"Done!\")\n",
        "\n",
        "    DRIVER = None"
      ],
      "metadata": {
        "id": "7iHjs2R2WGuV"
      },
      "execution_count": 188,
      "outputs": []
    },
    {
      "cell_type": "code",
      "source": [
        "close_driver()\n",
        "initialize_driver()"
      ],
      "metadata": {
        "colab": {
          "base_uri": "https://localhost:8080/"
        },
        "id": "9UWDHiidWKlC",
        "outputId": "2868ac2d-c6c9-48f9-eab9-b0a87a2cc07a"
      },
      "execution_count": 189,
      "outputs": [
        {
          "output_type": "stream",
          "name": "stdout",
          "text": [
            "Initiating driver...\n",
            "Finished!\n"
          ]
        }
      ]
    },
    {
      "cell_type": "code",
      "source": [
        "DRIVER"
      ],
      "metadata": {
        "colab": {
          "base_uri": "https://localhost:8080/"
        },
        "id": "5538doj_WL1Z",
        "outputId": "6a97a546-1d6e-476c-a3e4-78ba55887b27"
      },
      "execution_count": 190,
      "outputs": [
        {
          "output_type": "execute_result",
          "data": {
            "text/plain": [
              "<selenium.webdriver.chrome.webdriver.WebDriver (session=\"2e74f7d085df997e1f6fcbdd95322f6c\")>"
            ]
          },
          "metadata": {},
          "execution_count": 190
        }
      ]
    },
    {
      "cell_type": "code",
      "source": [
        "import pandas as pd\n",
        "import numpy as np"
      ],
      "metadata": {
        "id": "3Yiq02iPKAQh"
      },
      "execution_count": 191,
      "outputs": []
    },
    {
      "cell_type": "markdown",
      "source": [
        "**PART 1: Input URL and find number of products within that site**"
      ],
      "metadata": {
        "id": "b3aqEbMTT-ZP"
      }
    },
    {
      "cell_type": "code",
      "source": [
        "DRIVER.get('https://tiki.vn/dien-thoai-may-tinh-bang/c1789') #input URL"
      ],
      "metadata": {
        "id": "6sNC8mhSWM_J"
      },
      "execution_count": 192,
      "outputs": []
    },
    {
      "cell_type": "code",
      "source": [
        "time.sleep(5) #wait for the website to load"
      ],
      "metadata": {
        "id": "rYBtnUny9K7L"
      },
      "execution_count": 193,
      "outputs": []
    },
    {
      "cell_type": "code",
      "source": [
        "products = DRIVER.find_elements(By.CLASS_NAME, 'product-item') #count elements\n",
        "len(products)"
      ],
      "metadata": {
        "colab": {
          "base_uri": "https://localhost:8080/"
        },
        "id": "DvxePIqmFTwh",
        "outputId": "a9e0cee6-d2f5-4753-c187-504eabb04ac2"
      },
      "execution_count": 194,
      "outputs": [
        {
          "output_type": "execute_result",
          "data": {
            "text/plain": [
              "48"
            ]
          },
          "metadata": {},
          "execution_count": 194
        }
      ]
    },
    {
      "cell_type": "code",
      "source": [
        "each_product = products[0] #get 1 element out for example"
      ],
      "metadata": {
        "id": "9P596l89PS7Z"
      },
      "execution_count": 195,
      "outputs": []
    },
    {
      "cell_type": "code",
      "source": [
        "each_product.get_attribute"
      ],
      "metadata": {
        "colab": {
          "base_uri": "https://localhost:8080/"
        },
        "id": "yJkXaZpJjNkM",
        "outputId": "b35e140c-aa42-4092-c429-acdd3663188e"
      },
      "execution_count": 196,
      "outputs": [
        {
          "output_type": "execute_result",
          "data": {
            "text/plain": [
              "<bound method WebElement.get_attribute of <selenium.webdriver.remote.webelement.WebElement (session=\"2e74f7d085df997e1f6fcbdd95322f6c\", element=\"6d5501fd-6781-424b-ab42-2d8feaa48347\")>>"
            ]
          },
          "metadata": {},
          "execution_count": 196
        }
      ]
    },
    {
      "cell_type": "code",
      "source": [
        "each_product.get_attribute('outerHTML')"
      ],
      "metadata": {
        "colab": {
          "base_uri": "https://localhost:8080/",
          "height": 103
        },
        "id": "UEtJXCGOdvuO",
        "outputId": "7f44fc1c-726a-4166-c1c2-e22e2574ca03"
      },
      "execution_count": 197,
      "outputs": [
        {
          "output_type": "execute_result",
          "data": {
            "text/plain": [
              "'<a class=\"product-item\" href=\"//tka.tiki.vn/pixel/pixel?data=djAwMaaUEufulIH8mxk_7zplKNgn412wV0ydsggJvdEHzW-POs2991EOXJsoriY4cCO4t54Zye59L7XNl_LINZNsYdOTgYsVxJkaADksQRVyaOMPyk1GglWrjmZ7JPHV0qWeWZwCrh37_jwQcXQbYeC1mlK8ijyU55WvX7CGju6nW8AUWe54g6J2UmnwWszBOIw2mI-3vA_e9gI3zxnGdF9_aRjxTBEM0d06y4L53zVRYQlB3fn1burFJMxMwZKgC9vHOAVEnLAVNCHY5eGPyG5M2tUxArcznPZ6B1qHJKR2nwI7_4zyAEqoguQQoW1YOK2FO7SPiZ-uOEJdDK3eSXMfyZrZLQe7VwcIz7ym_8VyR76qspIvjrOoDCYp402jLWx6_yOiBIYThIVAsv-8EMH15XbXdGJPw_25f2fBKs4Wu3VvJcH7bGtYTJ-GXb-9YyNdmegR6BzGenyJ7mTrqmP6aRMQ1Hc877bZPgtQkPrO0r1fKAG9ldkWeMCLl4PuFVp1R9Hk9LlRe_bohSX8cZ7e0t4QyKuVkXz8bnw9ODbepCvCJUL-FPcg_G6s02Br91ngjc244--iTHKX-EbrrD72vtwY4V0GJYQe71oFc8FzVINwX7POHeIZopiTmpF4eKBTeb075EdTp5EO4XIa03uJ4aDqVmdnFdiLj03zwhZyxMIL_US9ZRbvkiMgN7vcNs7knDriSQTdEjGaXnLBYAi4-7O-uEJjNjSEiLg56wAiMKUeFa8Nek1uSwbaouU1MR8OQYSMv4pdgHchzGmDUcs5hDrHC6pYktjjs6nZdmDpICPE7ZyQy_oTbypVq2KXP1RnO4avWy8mxH0QHjnhqdOdIO9eQXuIXMJ3Hx91DlOb1SnJuyteJo0KoIsW1kvLWOkVDrsTfHtQAhuYCV8G6_HGgP5GuAaQbQIZ2Q8aAim5PQwZvPyHWz7D9TKCD0M-GTuDKMp2Oz-8DVZHDmuAto56UElAxG46_ayLNrqK96Py6A3of_OEF7XvprO2d1QhISHFEmfmvSlc0tFQAGnmsQbWmf71Nu3xFwGyqeagu3ZnEvw6ZjTHyQfu4CNjazr_tidx3icAEdN521B1RDixbdWkl1U0U2v-x3kfKVlfHBmlEwRCjbJ81dmKZlyQM7fg3k_aHg2pS6uNpKt5c6yFFHpSYwbNG38qxJU&amp;CLICK&amp;reqid=dGS924zQWj&amp;pos=1&amp;redirect=https%3A%2F%2Ftiki.vn%2Fdien-thoai-samsung-galaxy-m23-5g-6gb-128gb-hang-chinh-hang-p172998120.html%3Fspid%3D172998263\" data-view-index=\"0\" data-view-id=\"product_list_item\" data-view-content=\"{&quot;click_data&quot;:{&quot;id&quot;:172998120,&quot;spid&quot;:172998263,&quot;position&quot;:0,&quot;trace_id&quot;:&quot;As2kFFfw6ataJSK3&quot;}}\" rel=\"nofollow\"><span class=\"style__StyledItem-sc-18svp8n-0 fkDgwT\"><div><div class=\"thumbnail\"><img src=\"https://salt.tikicdn.com/ts/upload/dc/0d/49/3251737db2de83b74eba8a9ad6d03338.png\" width=\"136\" height=\"24\" class=\"styles__StyledDynamicIconBadge-sc-cxexs7-0 hdozRK\" style=\"bottom: 0px; left: 0px;\"><img src=\"https://salt.tikicdn.com/ts/upload/b9/1f/4b/557eac9c67a4466ccebfa74cde854215.png\" width=\"74\" height=\"18\" class=\"styles__StyledDynamicIconBadge-sc-cxexs7-0 hdozRK\" style=\"top: 0px; left: 0px;\"><picture class=\"webpimg-container\"><source type=\"image/webp\" srcset=\"https://salt.tikicdn.com/cache/200x200/ts/product/8d/1b/e9/6c4b0e5309a8f34c8db4910e35b9f51d.jpg.webp\"><img src=\"https://salt.tikicdn.com/cache/200x200/ts/product/8d/1b/e9/6c4b0e5309a8f34c8db4910e35b9f51d.jpg\" alt=\"Điện thoại Samsung Galaxy M23 5G (6GB/128GB) - Hàng chính hãng\" class=\"WebpImg__StyledImg-sc-h3ozu8-0 fWjUGo\"></picture></div><div class=\"style__OptionColor-sc-18svp8n-2 dWRAlJ option-color\"><div class=\"Slide__Root-sc-1bhg4sj-0 cDhDcg\" style=\"width: 144px; margin: 16px auto 12px 0px;\"><div class=\"Slide__Slider-sc-1bhg4sj-1 edueVq\"><div class=\"Slide__Frame-sc-1bhg4sj-2 kkgqeG\"><div width=\"25\" class=\"Slide__Item-sc-1bhg4sj-3 kydcof\" style=\"border: 1px solid rgb(253, 130, 10);\"><picture class=\"webpimg-container\"><source type=\"image/webp\" srcset=\"https://salt.tikicdn.com/cache/100x100/ts/product/97/dc/66/1ce05716c0a1a1e643130167c57ff800.jpg.webp\"><img src=\"https://salt.tikicdn.com/cache/100x100/ts/product/97/dc/66/1ce05716c0a1a1e643130167c57ff800.jpg\" class=\"WebpImg__StyledImg-sc-h3ozu8-0 fWjUGo style__BlockImg-sc-18svp8n-5 jepyFG\"></picture></div><div width=\"25\" class=\"Slide__Item-sc-1bhg4sj-3 kydcof\" style=\"border: 1px solid transparent;\"><picture class=\"webpimg-container\"><source type=\"image/webp\" srcset=\"https://salt.tikicdn.com/cache/100x100/ts/product/46/0f/7f/8de09c6b4faaed8136b3b6e4a6ad101f.jpg.webp\"><img src=\"https://salt.tikicdn.com/cache/100x100/ts/product/46/0f/7f/8de09c6b4faaed8136b3b6e4a6ad101f.jpg\" class=\"WebpImg__StyledImg-sc-h3ozu8-0 fWjUGo style__BlockImg-sc-18svp8n-5 jepyFG\"></picture></div></div></div><div class=\"Slide__Dot-sc-1bhg4sj-6 cYMQXT\"></div></div></div><div class=\"info\"><div class=\"name\"><p style=\"background: rgb(242, 242, 242); line-height: 12px; display: inline-block; padding: 0px 4px; font-size: 9px; margin: 0px 4px 0px 0px; position: relative; top: -1px; border-radius: 2px;\">Ad</p><h3>Điện thoại Samsung Galaxy M23 5G (6GB/128GB) - Hàng chính hãng</h3></div><div class=\"styles__StyledRatingQtySold-sc-732h27-0 uDeVr\" style=\"margin-top: 2px; margin-bottom: 2px;\"><div class=\"full-rating\"><div class=\"total\"><svg stroke=\"currentColor\" fill=\"currentColor\" stroke-width=\"0\" viewBox=\"0 0 24 24\" size=\"14\" color=\"#c7c7c7\" height=\"14\" width=\"14\" xmlns=\"http://www.w3.org/2000/svg\" style=\"color: rgb(199, 199, 199);\"><path d=\"M12 17.27L18.18 21l-1.64-7.03L22 9.24l-7.19-.61L12 2 9.19 8.63 2 9.24l5.46 4.73L5.82 21z\"></path></svg><svg stroke=\"currentColor\" fill=\"currentColor\" stroke-width=\"0\" viewBox=\"0 0 24 24\" size=\"14\" color=\"#c7c7c7\" height=\"14\" width=\"14\" xmlns=\"http://www.w3.org/2000/svg\" style=\"color: rgb(199, 199, 199);\"><path d=\"M12 17.27L18.18 21l-1.64-7.03L22 9.24l-7.19-.61L12 2 9.19 8.63 2 9.24l5.46 4.73L5.82 21z\"></path></svg><svg stroke=\"currentColor\" fill=\"currentColor\" stroke-width=\"0\" viewBox=\"0 0 24 24\" size=\"14\" color=\"#c7c7c7\" height=\"14\" width=\"14\" xmlns=\"http://www.w3.org/2000/svg\" style=\"color: rgb(199, 199, 199);\"><path d=\"M12 17.27L18.18 21l-1.64-7.03L22 9.24l-7.19-.61L12 2 9.19 8.63 2 9.24l5.46 4.73L5.82 21z\"></path></svg><svg stroke=\"currentColor\" fill=\"currentColor\" stroke-width=\"0\" viewBox=\"0 0 24 24\" size=\"14\" color=\"#c7c7c7\" height=\"14\" width=\"14\" xmlns=\"http://www.w3.org/2000/svg\" style=\"color: rgb(199, 199, 199);\"><path d=\"M12 17.27L18.18 21l-1.64-7.03L22 9.24l-7.19-.61L12 2 9.19 8.63 2 9.24l5.46 4.73L5.82 21z\"></path></svg><svg stroke=\"currentColor\" fill=\"currentColor\" stroke-width=\"0\" viewBox=\"0 0 24 24\" size=\"14\" color=\"#c7c7c7\" height=\"14\" width=\"14\" xmlns=\"http://www.w3.org/2000/svg\" style=\"color: rgb(199, 199, 199);\"><path d=\"M12 17.27L18.18 21l-1.64-7.03L22 9.24l-7.19-.61L12 2 9.19 8.63 2 9.24l5.46 4.73L5.82 21z\"></path></svg></div><div class=\"average\" style=\"width: 92%;\"><svg stroke=\"currentColor\" fill=\"currentColor\" stroke-width=\"0\" viewBox=\"0 0 24 24\" size=\"14\" color=\"#fdd836\" height=\"14\" width=\"14\" xmlns=\"http://www.w3.org/2000/svg\" style=\"color: rgb(253, 216, 54);\"><path d=\"M12 17.27L18.18 21l-1.64-7.03L22 9.24l-7.19-.61L12 2 9.19 8.63 2 9.24l5.46 4.73L5.82 21z\"></path></svg><svg stroke=\"currentColor\" fill=\"currentColor\" stroke-width=\"0\" viewBox=\"0 0 24 24\" size=\"14\" color=\"#fdd836\" height=\"14\" width=\"14\" xmlns=\"http://www.w3.org/2000/svg\" style=\"color: rgb(253, 216, 54);\"><path d=\"M12 17.27L18.18 21l-1.64-7.03L22 9.24l-7.19-.61L12 2 9.19 8.63 2 9.24l5.46 4.73L5.82 21z\"></path></svg><svg stroke=\"currentColor\" fill=\"currentColor\" stroke-width=\"0\" viewBox=\"0 0 24 24\" size=\"14\" color=\"#fdd836\" height=\"14\" width=\"14\" xmlns=\"http://www.w3.org/2000/svg\" style=\"color: rgb(253, 216, 54);\"><path d=\"M12 17.27L18.18 21l-1.64-7.03L22 9.24l-7.19-.61L12 2 9.19 8.63 2 9.24l5.46 4.73L5.82 21z\"></path></svg><svg stroke=\"currentColor\" fill=\"currentColor\" stroke-width=\"0\" viewBox=\"0 0 24 24\" size=\"14\" color=\"#fdd836\" height=\"14\" width=\"14\" xmlns=\"http://www.w3.org/2000/svg\" style=\"color: rgb(253, 216, 54);\"><path d=\"M12 17.27L18.18 21l-1.64-7.03L22 9.24l-7.19-.61L12 2 9.19 8.63 2 9.24l5.46 4.73L5.82 21z\"></path></svg><svg stroke=\"currentColor\" fill=\"currentColor\" stroke-width=\"0\" viewBox=\"0 0 24 24\" size=\"14\" color=\"#fdd836\" height=\"14\" width=\"14\" xmlns=\"http://www.w3.org/2000/svg\" style=\"color: rgb(253, 216, 54);\"><path d=\"M12 17.27L18.18 21l-1.64-7.03L22 9.24l-7.19-.61L12 2 9.19 8.63 2 9.24l5.46 4.73L5.82 21z\"></path></svg></div></div><div class=\"styles__StyledSeparator-sc-732h27-1 gcwbHk\"></div><div class=\"styles__StyledQtySold-sc-732h27-2 fCfYNm\">Đã bán 1000+</div></div><div class=\"price-discount has-discount\"><div class=\"price-discount__price\">4.390.000 ₫</div><div class=\"price-discount__discount\">-36%</div></div><div class=\"badge-under-price\"><div class=\"item\"><img width=\"124\" height=\"18\" src=\"https://salt.tikicdn.com/ts/upload/51/ac/cc/528e80fe3f464f910174e2fdf8887b6f.png\"><span></span></div></div><div class=\"badge-benefits\"><div class=\"item\"><img width=\"16\" height=\"16\" src=\"https://salt.tikicdn.com/ts/upload/fc/d8/25/e61805952396b6ed4143194298112b0a.png\"><span>Trả góp</span></div></div><div class=\"badge-additional-info\"></div></div></div></span></a>'"
            ],
            "application/vnd.google.colaboratory.intrinsic+json": {
              "type": "string"
            }
          },
          "metadata": {},
          "execution_count": 197
        }
      ]
    },
    {
      "cell_type": "markdown",
      "source": [
        "**PART 2: Find 4 elements: name, price, product_url, image**"
      ],
      "metadata": {
        "id": "uK4gbcWoSpSK"
      }
    },
    {
      "cell_type": "code",
      "source": [
        "#name\n",
        "name = each_product.find_element(By.TAG_NAME, 'h3')\n",
        "print(name.text)"
      ],
      "metadata": {
        "id": "prtqj24naFnB",
        "colab": {
          "base_uri": "https://localhost:8080/"
        },
        "outputId": "c41161c1-7122-437a-d53b-a016ee012dc5"
      },
      "execution_count": 198,
      "outputs": [
        {
          "output_type": "stream",
          "name": "stdout",
          "text": [
            "Điện thoại Samsung Galaxy M23 5G (6GB/128GB) - Hàng chính hãng\n"
          ]
        }
      ]
    },
    {
      "cell_type": "code",
      "source": [
        "#price\n",
        "price = each_product.find_element(By.CLASS_NAME, 'price-discount__price')\n",
        "print(price.get_attribute('innerHTML'))"
      ],
      "metadata": {
        "id": "_-fCPKi_fT6P",
        "colab": {
          "base_uri": "https://localhost:8080/"
        },
        "outputId": "3ba11a85-8b1a-45d4-f980-c94cc5c4ce0c"
      },
      "execution_count": 199,
      "outputs": [
        {
          "output_type": "stream",
          "name": "stdout",
          "text": [
            "4.390.000 ₫\n"
          ]
        }
      ]
    },
    {
      "cell_type": "code",
      "source": [
        "#get product url\n",
        "url = each_product.get_attribute('href')\n",
        "print(url)"
      ],
      "metadata": {
        "id": "XaNVXpqZbfGH",
        "colab": {
          "base_uri": "https://localhost:8080/"
        },
        "outputId": "6e031231-54a7-461c-f635-350f669b0fcd"
      },
      "execution_count": 200,
      "outputs": [
        {
          "output_type": "stream",
          "name": "stdout",
          "text": [
            "https://tka.tiki.vn/pixel/pixel?data=djAwMaaUEufulIH8mxk_7zplKNgn412wV0ydsggJvdEHzW-POs2991EOXJsoriY4cCO4t54Zye59L7XNl_LINZNsYdOTgYsVxJkaADksQRVyaOMPyk1GglWrjmZ7JPHV0qWeWZwCrh37_jwQcXQbYeC1mlK8ijyU55WvX7CGju6nW8AUWe54g6J2UmnwWszBOIw2mI-3vA_e9gI3zxnGdF9_aRjxTBEM0d06y4L53zVRYQlB3fn1burFJMxMwZKgC9vHOAVEnLAVNCHY5eGPyG5M2tUxArcznPZ6B1qHJKR2nwI7_4zyAEqoguQQoW1YOK2FO7SPiZ-uOEJdDK3eSXMfyZrZLQe7VwcIz7ym_8VyR76qspIvjrOoDCYp402jLWx6_yOiBIYThIVAsv-8EMH15XbXdGJPw_25f2fBKs4Wu3VvJcH7bGtYTJ-GXb-9YyNdmegR6BzGenyJ7mTrqmP6aRMQ1Hc877bZPgtQkPrO0r1fKAG9ldkWeMCLl4PuFVp1R9Hk9LlRe_bohSX8cZ7e0t4QyKuVkXz8bnw9ODbepCvCJUL-FPcg_G6s02Br91ngjc244--iTHKX-EbrrD72vtwY4V0GJYQe71oFc8FzVINwX7POHeIZopiTmpF4eKBTeb075EdTp5EO4XIa03uJ4aDqVmdnFdiLj03zwhZyxMIL_US9ZRbvkiMgN7vcNs7knDriSQTdEjGaXnLBYAi4-7O-uEJjNjSEiLg56wAiMKUeFa8Nek1uSwbaouU1MR8OQYSMv4pdgHchzGmDUcs5hDrHC6pYktjjs6nZdmDpICPE7ZyQy_oTbypVq2KXP1RnO4avWy8mxH0QHjnhqdOdIO9eQXuIXMJ3Hx91DlOb1SnJuyteJo0KoIsW1kvLWOkVDrsTfHtQAhuYCV8G6_HGgP5GuAaQbQIZ2Q8aAim5PQwZvPyHWz7D9TKCD0M-GTuDKMp2Oz-8DVZHDmuAto56UElAxG46_ayLNrqK96Py6A3of_OEF7XvprO2d1QhISHFEmfmvSlc0tFQAGnmsQbWmf71Nu3xFwGyqeagu3ZnEvw6ZjTHyQfu4CNjazr_tidx3icAEdN521B1RDixbdWkl1U0U2v-x3kfKVlfHBmlEwRCjbJ81dmKZlyQM7fg3k_aHg2pS6uNpKt5c6yFFHpSYwbNG38qxJU&CLICK&reqid=dGS924zQWj&pos=1&redirect=https%3A%2F%2Ftiki.vn%2Fdien-thoai-samsung-galaxy-m23-5g-6gb-128gb-hang-chinh-hang-p172998120.html%3Fspid%3D172998263\n"
          ]
        }
      ]
    },
    {
      "cell_type": "code",
      "source": [
        "#image\n",
        "image = each_product.find_element(By.TAG_NAME, 'source')\n",
        "print(image.get_attribute('srcset'))"
      ],
      "metadata": {
        "id": "3RHVbLP_izTP",
        "colab": {
          "base_uri": "https://localhost:8080/"
        },
        "outputId": "c34a41b9-b4e3-4abd-ad14-6ad7f31773e0"
      },
      "execution_count": 201,
      "outputs": [
        {
          "output_type": "stream",
          "name": "stdout",
          "text": [
            "https://salt.tikicdn.com/cache/200x200/ts/product/8d/1b/e9/6c4b0e5309a8f34c8db4910e35b9f51d.jpg.webp\n"
          ]
        }
      ]
    },
    {
      "cell_type": "code",
      "source": [
        "#get number of sold items\n",
        "sales = each_product.find_element(By.CLASS_NAME, 'styles__StyledQtySold-sc-732h27-2').get_attribute('innerHTML').split(' ')[2].strip(' ')\n",
        "print(sales)"
      ],
      "metadata": {
        "colab": {
          "base_uri": "https://localhost:8080/"
        },
        "id": "mhcH2-BpTkHk",
        "outputId": "9bafe256-07df-45f5-d891-479eb8145a5e"
      },
      "execution_count": 202,
      "outputs": [
        {
          "output_type": "stream",
          "name": "stdout",
          "text": [
            "1000+\n"
          ]
        }
      ]
    },
    {
      "cell_type": "code",
      "source": [
        "#get discount of items\n",
        "discount = each_product.find_element(By.CLASS_NAME, 'price-discount__discount').get_attribute('innerHTML').strip('%,-')\n",
        "print(discount)"
      ],
      "metadata": {
        "colab": {
          "base_uri": "https://localhost:8080/"
        },
        "id": "MKAoD5_vGOoC",
        "outputId": "bc7550f7-289e-441e-dab7-89ff462c3ce6"
      },
      "execution_count": 203,
      "outputs": [
        {
          "output_type": "stream",
          "name": "stdout",
          "text": [
            "36\n"
          ]
        }
      ]
    },
    {
      "cell_type": "code",
      "source": [
        "#check if item have Tiki Now\n",
        "# tiki_now = each_product.find_element(By.CLASS_NAME, 'badge-service').get_attribute('innerHTML')\n",
        "print(tiki_now)\n",
        "def tiki_now_check(tiki_now):\n",
        "  if tiki_now is None:\n",
        "    return False\n",
        "  else:\n",
        "    return True\n",
        "print(tiki_now_check(tiki_now))"
      ],
      "metadata": {
        "colab": {
          "base_uri": "https://localhost:8080/"
        },
        "id": "tTnV5RzAX46T",
        "outputId": "397f2fb7-9046-43a7-9f94-b977f887b8f8"
      },
      "execution_count": 204,
      "outputs": [
        {
          "output_type": "stream",
          "name": "stdout",
          "text": [
            "<div class=\"item\"><div><img width=\"56\" height=\"16\" src=\"https://salt.tikicdn.com/ts/upload/9f/32/dd/8a8d39d4453399569dfb3e80fe01de75.png\"></div><span style=\"color: rgb(0, 171, 86);\">GIAO SÁNG MAI</span></div>\n",
            "True\n"
          ]
        }
      ]
    },
    {
      "cell_type": "code",
      "source": [
        "#create a function that aggregates the above information\n",
        "def scrap_item(item):\n",
        "  try:\n",
        "    name = item.find_element(By.TAG_NAME, 'h3').get_attribute('innerHTML')\n",
        "  except:\n",
        "    name = ''\n",
        "  try:\n",
        "    price = item.find_element(By.CLASS_NAME, 'price-discount__price').get_attribute('innerHTML')\n",
        "  except:\n",
        "    price = ''\n",
        "  try:\n",
        "    url = item.get_attribute('href')\n",
        "  except:\n",
        "    url = ''\n",
        "  try:\n",
        "    image = item.find_element(By.TAG_NAME, 'source').get_attribute('srcset')\n",
        "  except:\n",
        "    image = ''\n",
        "  try:\n",
        "    sales = item.find_element(By.CLASS_NAME, 'styles__StyledQtySold-sc-732h27-2').get_attribute('innerHTML').split(' ')[2].strip('+')\n",
        "  except:\n",
        "    sales = ''\n",
        "  try:\n",
        "    discount = item.find_element(By.CLASS_NAME, 'price-discount__discount').get_attribute('innerHTML').strip('%,-')\n",
        "  except:\n",
        "    discount = ''\n",
        "  try:\n",
        "    tiki_now = tiki_now_check(item.find_element(By.CLASS_NAME, 'badge-service').get_attribute('innerHTML'))\n",
        "  except:\n",
        "    tiki_now = False\n",
        "  try:\n",
        "    free_ship = free_ship_check(item.find_element(By.CLASS_NAME, 'thumbnail').get_attribute('https://salt.tikicdn.com/ts/upload/dc/0d/49/3251737db2de83b74eba8a9ad6d03338.png'))\n",
        "  except:\n",
        "    free_ship = False\n",
        "\n",
        "  info = {\n",
        "      'name' : name,\n",
        "      'price' : price,\n",
        "      'url': url,\n",
        "      'image' : image,\n",
        "      'sales' : sales,\n",
        "      'discount' : discount,\n",
        "      'tiki_now' : tiki_now,\n",
        "  }\n",
        "  return info"
      ],
      "metadata": {
        "id": "hqSHYlcspFU-"
      },
      "execution_count": 205,
      "outputs": []
    },
    {
      "cell_type": "code",
      "source": [
        "extracted_items = []\n"
      ],
      "metadata": {
        "id": "2mMAbpiJPryn"
      },
      "execution_count": 206,
      "outputs": []
    },
    {
      "cell_type": "code",
      "source": [
        "from selenium.common.exceptions import StaleElementReferenceException"
      ],
      "metadata": {
        "id": "fjBmnfNi3413"
      },
      "execution_count": 207,
      "outputs": []
    },
    {
      "cell_type": "code",
      "source": [
        "for item in products:\n",
        "  extracted_items.append(scrap_item(item))"
      ],
      "metadata": {
        "id": "tIrrgJApqfti"
      },
      "execution_count": 208,
      "outputs": []
    },
    {
      "cell_type": "markdown",
      "source": [
        "**PART 3: Save results as CSV file**"
      ],
      "metadata": {
        "id": "XuGHpM2UrLAh"
      }
    },
    {
      "cell_type": "code",
      "source": [
        "df = pd.DataFrame(extracted_items, columns=['name', 'price', 'url', 'image', 'sales', 'discount', 'tiki_now'])"
      ],
      "metadata": {
        "id": "P5wky1EbrlEE"
      },
      "execution_count": 210,
      "outputs": []
    },
    {
      "cell_type": "code",
      "source": [
        "df.index = np.arange(1, len(df) + 1)"
      ],
      "metadata": {
        "id": "iZz4lX-6_vVi"
      },
      "execution_count": 211,
      "outputs": []
    },
    {
      "cell_type": "code",
      "source": [
        "df\n"
      ],
      "metadata": {
        "id": "iFtJH46ZsCWj",
        "colab": {
          "base_uri": "https://localhost:8080/",
          "height": 1000
        },
        "outputId": "45a686ed-6d50-49bc-b1b0-cddba67d132e"
      },
      "execution_count": 212,
      "outputs": [
        {
          "output_type": "execute_result",
          "data": {
            "text/plain": [
              "                                                 name         price  \\\n",
              "1   Điện thoại Samsung Galaxy M23 5G (6GB/128GB) -...   4.390.000 ₫   \n",
              "2   Điện thoại Samsung Galaxy A52s 5G (8GB/128GB) ...   8.490.000 ₫   \n",
              "3   Điện thoại Samsung M33 5G (8Gb/128GB) - Hàng c...   4.790.000 ₫   \n",
              "4   Máy Đọc Sách All New Kindle 2019 (10th) – Hàng...   2.245.000 ₫   \n",
              "5     Điện thoại Samsung Galaxy M51 - Hàng Chính Hãng   7.690.000 ₫   \n",
              "6   Máy tính bảng Samsung Galaxy Tab A7 Lite LTE S...   3.490.000 ₫   \n",
              "7   Điện thoại Xiaomi Redmi 9A (2GB/32GB) - Hàng c...   2.109.000 ₫   \n",
              "8   Máy tính bảng Samsung Galaxy Tab A8 (4GB/64GB)...   5.890.000 ₫   \n",
              "9   Điện Thoại Samsung Galaxy M32 (8GB/128GB) - Hà...   4.490.000 ₫   \n",
              "10  Điện thoại Samsung Galaxy A03s (4GB/64GB) - Hà...   3.090.000 ₫   \n",
              "11  Tecno Pova 2 6GB l 128GB - Điện Thoại Thông Mi...   3.579.000 ₫   \n",
              "12  Máy Tính Bảng Samsung Galaxy Tab S7 FE LTE T73...   9.690.000 ₫   \n",
              "13   Điện Thoại Oppo A16k (3GB/32G) - Hàng Chính Hãng   2.880.000 ₫   \n",
              "14   Điện Thoại Oppo A94 (8GB/128G) - Hàng Chính Hãng   4.790.000 ₫   \n",
              "15                                    Apple iPhone 13  18.990.000 ₫   \n",
              "16  Điện Thoại Oppo Reno 6Z 5G (8GB/128G) - Hàng C...   6.090.000 ₫   \n",
              "17  Máy đọc sách All New Kindle Paperwhite 5 (11th...   3.825.000 ₫   \n",
              "18    Điện Thoại Nokia C20 2GB/16GB - Hàng Chính Hãng   1.450.000 ₫   \n",
              "19  Điện Thoại OnePlus  Nord CE 5G (12GB/256G) - H...   7.350.000 ₫   \n",
              "20                                    Apple iPhone 12  15.650.000 ₫   \n",
              "21  Máy tính bảng Samsung Galaxy Tab A7 Lite LTE S...   3.270.000 ₫   \n",
              "22   Điện Thoại Oppo A55 (4GB/64GB) - Hàng Chính Hãng   3.750.000 ₫   \n",
              "23  Điện thoại Samsung Galaxy A13 (4GB/128GB) - Hà...   4.190.000 ₫   \n",
              "24  Điện thoại Xiaomi 11 Lite 5G NE (6GB/128GB) - ...   7.440.000 ₫   \n",
              "25                            Apple iPhone 13 Pro Max  26.990.000 ₫   \n",
              "26  Điện Thoại Bàn Panasonic KX-TSC11 - Hàng Chính...     539.600 ₫   \n",
              "27  Điện Thoại Nokia C30 (2GB/32GB) - Hàng Chính Hãng   1.920.000 ₫   \n",
              "28  Điện thoại Samsung Galaxy A53 5G (8GB/128GB) -...   7.990.000 ₫   \n",
              "29  Điện thoại di động Vivo Y21s (4GB/128GB) - Hàn...   3.890.000 ₫   \n",
              "30                                    Apple iPhone 11  10.990.000 ₫   \n",
              "31  Máy Đọc Sách All New Kindle 2019 (10th) – Hàng...   2.245.000 ₫   \n",
              "32  Điện thoại Xiaomi Redmi Note 11 (4GB/64GB) - H...   3.899.000 ₫   \n",
              "33  Điện thoại di động 4G Philips Xenium E506 – Hà...     650.000 ₫   \n",
              "34  Máy Tính Bảng Huawei Matepad | Màn Hình 2K Ful...   5.490.000 ₫   \n",
              "35  Điện thoại Realme Narzo 50i (4GB/64GB) - Hàng ...   2.619.000 ₫   \n",
              "36  Điện Thoại Nokia C01 Plus 2GB/16GB - Hàng Chín...   1.649.000 ₫   \n",
              "37    Điện thoại Nokia C30 2GB/32GB - Hàng chính hãng   2.090.000 ₫   \n",
              "38                                Apple iPhone 13 Pro  26.750.000 ₫   \n",
              "39  Điện Thoại Nokia G21 (4GB/128GB) - Hàng Chính ...   3.480.000 ₫   \n",
              "40         Apple iPad 10.2-inch (9th Gen) Wi-Fi, 2021   8.990.000 ₫   \n",
              "41            Điện thoại bàn KX-TS500 hàng chính hãng     275.500 ₫   \n",
              "42  Máy tính bảng Fire HD10 2021 - 11th - (All New...   3.170.000 ₫   \n",
              "43   Điện Thoại Oppo A16k (4GB/64G) - Hàng Chính Hãng   3.090.000 ₫   \n",
              "44  Điện Thoại Nokia 105 Dual Sim (2019) - Hàng Ch...     490.000 ₫   \n",
              "45         Máy đọc sách Kobo Libra 2 - hàng nhập khẩu   5.039.000 ₫   \n",
              "46  Điện thoại Nokia C01 Plus (2GB/16GB) - Hàng ch...   1.710.000 ₫   \n",
              "47  Tecno Pova 2 4GB l 64GB - Điện Thoại Thông Min...   3.399.000 ₫   \n",
              "48   Điện Thoại Oppo A95 (8GB/128G) - Hàng Chính Hãng   5.450.000 ₫   \n",
              "\n",
              "                                                  url  \\\n",
              "1   https://tka.tiki.vn/pixel/pixel?data=djAwMaaUE...   \n",
              "2   https://tka.tiki.vn/pixel/pixel?data=djAwMUkg4...   \n",
              "3   https://tka.tiki.vn/pixel/pixel?data=djAwMSfqE...   \n",
              "4   https://tka.tiki.vn/pixel/pixel?data=djAwMRLX0...   \n",
              "5   https://tiki.vn/dien-thoai-samsung-galaxy-m51-...   \n",
              "6   https://tiki.vn/may-tinh-bang-samsung-galaxy-t...   \n",
              "7   https://tiki.vn/dien-thoai-xiaomi-redmi-9a-2gb...   \n",
              "8   https://tiki.vn/may-tinh-bang-samsung-galaxy-t...   \n",
              "9   https://tiki.vn/dien-thoai-samsung-galaxy-m32-...   \n",
              "10  https://tiki.vn/dien-thoai-samsung-galaxy-a03s...   \n",
              "11  https://tiki.vn/tecno-pova-2-6gb-l-128gb-dien-...   \n",
              "12  https://tiki.vn/may-tinh-bang-samsung-galaxy-t...   \n",
              "13  https://tiki.vn/dien-thoai-oppo-a16k-3gb-32g-h...   \n",
              "14  https://tiki.vn/dien-thoai-oppo-a94-8gb-128g-h...   \n",
              "15  https://tiki.vn/apple-iphone-13-hang-chinh-han...   \n",
              "16  https://tiki.vn/dien-thoai-oppo-reno-6z-5g-8gb...   \n",
              "17  https://tiki.vn/may-doc-sach-all-new-kindle-pa...   \n",
              "18  https://tiki.vn/dien-thoai-nokia-c20-2gb-16gb-...   \n",
              "19  https://tiki.vn/dien-thoai-oneplus-nord-ce-5g-...   \n",
              "20  https://tiki.vn/apple-iphone-12-hang-chinh-han...   \n",
              "21  https://tiki.vn/may-tinh-bang-samsung-galaxy-t...   \n",
              "22  https://tiki.vn/dien-thoai-oppo-a55-4gb-64gb-h...   \n",
              "23  https://tiki.vn/dien-thoai-samsung-galaxy-a13-...   \n",
              "24  https://tiki.vn/dien-thoai-xiaomi-11-lite-5g-n...   \n",
              "25  https://tiki.vn/apple-iphone-13-pro-max-hang-c...   \n",
              "26  https://tiki.vn/dien-thoai-ban-panasonic-kx-ts...   \n",
              "27  https://tiki.vn/dien-thoai-nokia-c30-2gb-32gb-...   \n",
              "28  https://tiki.vn/dien-thoai-samsung-galaxy-a53-...   \n",
              "29  https://tiki.vn/dien-thoai-di-dong-vivo-y21s-4...   \n",
              "30  https://tiki.vn/apple-iphone-11-p184036446.htm...   \n",
              "31  https://tiki.vn/may-doc-sach-all-new-kindle-20...   \n",
              "32  https://tiki.vn/dien-thoai-xiaomi-redmi-note-1...   \n",
              "33  https://tiki.vn/dien-thoai-di-dong-4g-philips-...   \n",
              "34  https://tiki.vn/may-tinh-bang-huawei-matepad-m...   \n",
              "35  https://tiki.vn/dien-thoai-realme-narzo-50i-4g...   \n",
              "36  https://tiki.vn/dien-thoai-nokia-c01-plus-2gb-...   \n",
              "37  https://tiki.vn/dien-thoai-nokia-c30-2gb-32gb-...   \n",
              "38  https://tiki.vn/apple-iphone-13-pro-hang-chinh...   \n",
              "39  https://tiki.vn/dien-thoai-nokia-g21-4gb-128gb...   \n",
              "40  https://tiki.vn/apple-ipad-10-2-inch-9th-gen-w...   \n",
              "41  https://tiki.vn/dien-thoai-ban-kxts500-hang-ch...   \n",
              "42  https://tiki.vn/may-tinh-bang-fire-hd10-2021-1...   \n",
              "43  https://tiki.vn/dien-thoai-oppo-a16k-4gb-64g-h...   \n",
              "44  https://tiki.vn/dien-thoai-nokia-105-dual-sim-...   \n",
              "45  https://tiki.vn/may-doc-sach-kobo-libra-2-p139...   \n",
              "46  https://tiki.vn/dien-thoai-nokia-c01-plus-2gb-...   \n",
              "47  https://tiki.vn/tecno-pova-2-4gb-l-64gb-dien-t...   \n",
              "48  https://tiki.vn/dien-thoai-oppo-a95-8gb-128g-h...   \n",
              "\n",
              "                                                image sales discount  tiki_now  \n",
              "1   https://salt.tikicdn.com/cache/200x200/ts/prod...  1000       36     False  \n",
              "2   https://salt.tikicdn.com/cache/200x200/ts/prod...  1000        6     False  \n",
              "3   https://salt.tikicdn.com/cache/200x200/ts/prod...   581       40     False  \n",
              "4   https://salt.tikicdn.com/cache/200x200/ts/prod...   441        2     False  \n",
              "5   https://salt.tikicdn.com/cache/200x200/ts/prod...  1000       19     False  \n",
              "6   https://salt.tikicdn.com/cache/200x200/ts/prod...  1000       13     False  \n",
              "7   https://salt.tikicdn.com/cache/200x200/ts/prod...    53       15     False  \n",
              "8   https://salt.tikicdn.com/cache/200x200/ts/prod...    87       31     False  \n",
              "9   https://salt.tikicdn.com/cache/200x200/ts/prod...   371       25      True  \n",
              "10  https://salt.tikicdn.com/cache/200x200/ts/prod...  1000               True  \n",
              "11  https://salt.tikicdn.com/cache/200x200/ts/prod...   883       28      True  \n",
              "12  https://salt.tikicdn.com/cache/200x200/ts/prod...   263       31      True  \n",
              "13  https://salt.tikicdn.com/cache/200x200/ts/prod...  1000       10      True  \n",
              "14  https://salt.tikicdn.com/cache/200x200/media/c...  1000        6      True  \n",
              "15  https://salt.tikicdn.com/cache/200x200/ts/prod...  1000       24      True  \n",
              "16  https://salt.tikicdn.com/cache/200x200/ts/prod...   788       19      True  \n",
              "17  https://salt.tikicdn.com/cache/200x200/ts/prod...   429        4     False  \n",
              "18  https://salt.tikicdn.com/cache/200x200/ts/prod...   156       52     False  \n",
              "19  https://salt.tikicdn.com/cache/200x200/media/c...   369       13      True  \n",
              "20  https://salt.tikicdn.com/cache/200x200/ts/prod...  1000       13      True  \n",
              "21  https://salt.tikicdn.com/cache/200x200/ts/prod...   285       34      True  \n",
              "22  https://salt.tikicdn.com/cache/200x200/ts/prod...  1000       25     False  \n",
              "23  https://salt.tikicdn.com/cache/200x200/ts/prod...  1000       16     False  \n",
              "24  https://salt.tikicdn.com/cache/200x200/ts/prod...    89       29     False  \n",
              "25  https://salt.tikicdn.com/cache/200x200/ts/prod...  1000       21     False  \n",
              "26  https://salt.tikicdn.com/cache/200x200/ts/prod...    83        5     False  \n",
              "27  https://salt.tikicdn.com/cache/200x200/ts/prod...    32        2     False  \n",
              "28  https://salt.tikicdn.com/cache/200x200/ts/prod...   187       20     False  \n",
              "29  https://salt.tikicdn.com/cache/200x200/ts/prod...  1000       26      True  \n",
              "30  https://salt.tikicdn.com/cache/200x200/ts/prod...  1000       15      True  \n",
              "31  https://salt.tikicdn.com/cache/200x200/ts/prod...   441        2     False  \n",
              "32  https://salt.tikicdn.com/cache/200x200/ts/prod...    56       17     False  \n",
              "33  https://salt.tikicdn.com/cache/200x200/ts/prod...    46       19     False  \n",
              "34  https://salt.tikicdn.com/cache/200x200/ts/prod...   306              False  \n",
              "35  https://salt.tikicdn.com/cache/200x200/ts/prod...    80       20     False  \n",
              "36  https://salt.tikicdn.com/cache/200x200/ts/prod...    68       12     False  \n",
              "37  https://salt.tikicdn.com/cache/200x200/ts/prod...    51              False  \n",
              "38  https://salt.tikicdn.com/cache/200x200/ts/prod...  1000       21      True  \n",
              "39  https://salt.tikicdn.com/cache/200x200/ts/prod...    48       13      True  \n",
              "40  https://salt.tikicdn.com/cache/200x200/ts/prod...   816       18     False  \n",
              "41  https://salt.tikicdn.com/cache/200x200/ts/prod...   245        5     False  \n",
              "42  https://salt.tikicdn.com/cache/200x200/ts/prod...   131              False  \n",
              "43  https://salt.tikicdn.com/cache/200x200/ts/prod...  1000       18      True  \n",
              "44  https://salt.tikicdn.com/cache/200x200/ts/prod...  1000               True  \n",
              "45  https://salt.tikicdn.com/cache/200x200/ts/prod...    93       13     False  \n",
              "46  https://salt.tikicdn.com/cache/200x200/ts/prod...   132       14      True  \n",
              "47  https://salt.tikicdn.com/cache/200x200/ts/prod...    84       21      True  \n",
              "48  https://salt.tikicdn.com/cache/200x200/ts/prod...   156       22     False  "
            ],
            "text/html": [
              "\n",
              "  <div id=\"df-77d7010f-4186-4872-a218-ef59619e6727\">\n",
              "    <div class=\"colab-df-container\">\n",
              "      <div>\n",
              "<style scoped>\n",
              "    .dataframe tbody tr th:only-of-type {\n",
              "        vertical-align: middle;\n",
              "    }\n",
              "\n",
              "    .dataframe tbody tr th {\n",
              "        vertical-align: top;\n",
              "    }\n",
              "\n",
              "    .dataframe thead th {\n",
              "        text-align: right;\n",
              "    }\n",
              "</style>\n",
              "<table border=\"1\" class=\"dataframe\">\n",
              "  <thead>\n",
              "    <tr style=\"text-align: right;\">\n",
              "      <th></th>\n",
              "      <th>name</th>\n",
              "      <th>price</th>\n",
              "      <th>url</th>\n",
              "      <th>image</th>\n",
              "      <th>sales</th>\n",
              "      <th>discount</th>\n",
              "      <th>tiki_now</th>\n",
              "    </tr>\n",
              "  </thead>\n",
              "  <tbody>\n",
              "    <tr>\n",
              "      <th>1</th>\n",
              "      <td>Điện thoại Samsung Galaxy M23 5G (6GB/128GB) -...</td>\n",
              "      <td>4.390.000 ₫</td>\n",
              "      <td>https://tka.tiki.vn/pixel/pixel?data=djAwMaaUE...</td>\n",
              "      <td>https://salt.tikicdn.com/cache/200x200/ts/prod...</td>\n",
              "      <td>1000</td>\n",
              "      <td>36</td>\n",
              "      <td>False</td>\n",
              "    </tr>\n",
              "    <tr>\n",
              "      <th>2</th>\n",
              "      <td>Điện thoại Samsung Galaxy A52s 5G (8GB/128GB) ...</td>\n",
              "      <td>8.490.000 ₫</td>\n",
              "      <td>https://tka.tiki.vn/pixel/pixel?data=djAwMUkg4...</td>\n",
              "      <td>https://salt.tikicdn.com/cache/200x200/ts/prod...</td>\n",
              "      <td>1000</td>\n",
              "      <td>6</td>\n",
              "      <td>False</td>\n",
              "    </tr>\n",
              "    <tr>\n",
              "      <th>3</th>\n",
              "      <td>Điện thoại Samsung M33 5G (8Gb/128GB) - Hàng c...</td>\n",
              "      <td>4.790.000 ₫</td>\n",
              "      <td>https://tka.tiki.vn/pixel/pixel?data=djAwMSfqE...</td>\n",
              "      <td>https://salt.tikicdn.com/cache/200x200/ts/prod...</td>\n",
              "      <td>581</td>\n",
              "      <td>40</td>\n",
              "      <td>False</td>\n",
              "    </tr>\n",
              "    <tr>\n",
              "      <th>4</th>\n",
              "      <td>Máy Đọc Sách All New Kindle 2019 (10th) – Hàng...</td>\n",
              "      <td>2.245.000 ₫</td>\n",
              "      <td>https://tka.tiki.vn/pixel/pixel?data=djAwMRLX0...</td>\n",
              "      <td>https://salt.tikicdn.com/cache/200x200/ts/prod...</td>\n",
              "      <td>441</td>\n",
              "      <td>2</td>\n",
              "      <td>False</td>\n",
              "    </tr>\n",
              "    <tr>\n",
              "      <th>5</th>\n",
              "      <td>Điện thoại Samsung Galaxy M51 - Hàng Chính Hãng</td>\n",
              "      <td>7.690.000 ₫</td>\n",
              "      <td>https://tiki.vn/dien-thoai-samsung-galaxy-m51-...</td>\n",
              "      <td>https://salt.tikicdn.com/cache/200x200/ts/prod...</td>\n",
              "      <td>1000</td>\n",
              "      <td>19</td>\n",
              "      <td>False</td>\n",
              "    </tr>\n",
              "    <tr>\n",
              "      <th>6</th>\n",
              "      <td>Máy tính bảng Samsung Galaxy Tab A7 Lite LTE S...</td>\n",
              "      <td>3.490.000 ₫</td>\n",
              "      <td>https://tiki.vn/may-tinh-bang-samsung-galaxy-t...</td>\n",
              "      <td>https://salt.tikicdn.com/cache/200x200/ts/prod...</td>\n",
              "      <td>1000</td>\n",
              "      <td>13</td>\n",
              "      <td>False</td>\n",
              "    </tr>\n",
              "    <tr>\n",
              "      <th>7</th>\n",
              "      <td>Điện thoại Xiaomi Redmi 9A (2GB/32GB) - Hàng c...</td>\n",
              "      <td>2.109.000 ₫</td>\n",
              "      <td>https://tiki.vn/dien-thoai-xiaomi-redmi-9a-2gb...</td>\n",
              "      <td>https://salt.tikicdn.com/cache/200x200/ts/prod...</td>\n",
              "      <td>53</td>\n",
              "      <td>15</td>\n",
              "      <td>False</td>\n",
              "    </tr>\n",
              "    <tr>\n",
              "      <th>8</th>\n",
              "      <td>Máy tính bảng Samsung Galaxy Tab A8 (4GB/64GB)...</td>\n",
              "      <td>5.890.000 ₫</td>\n",
              "      <td>https://tiki.vn/may-tinh-bang-samsung-galaxy-t...</td>\n",
              "      <td>https://salt.tikicdn.com/cache/200x200/ts/prod...</td>\n",
              "      <td>87</td>\n",
              "      <td>31</td>\n",
              "      <td>False</td>\n",
              "    </tr>\n",
              "    <tr>\n",
              "      <th>9</th>\n",
              "      <td>Điện Thoại Samsung Galaxy M32 (8GB/128GB) - Hà...</td>\n",
              "      <td>4.490.000 ₫</td>\n",
              "      <td>https://tiki.vn/dien-thoai-samsung-galaxy-m32-...</td>\n",
              "      <td>https://salt.tikicdn.com/cache/200x200/ts/prod...</td>\n",
              "      <td>371</td>\n",
              "      <td>25</td>\n",
              "      <td>True</td>\n",
              "    </tr>\n",
              "    <tr>\n",
              "      <th>10</th>\n",
              "      <td>Điện thoại Samsung Galaxy A03s (4GB/64GB) - Hà...</td>\n",
              "      <td>3.090.000 ₫</td>\n",
              "      <td>https://tiki.vn/dien-thoai-samsung-galaxy-a03s...</td>\n",
              "      <td>https://salt.tikicdn.com/cache/200x200/ts/prod...</td>\n",
              "      <td>1000</td>\n",
              "      <td></td>\n",
              "      <td>True</td>\n",
              "    </tr>\n",
              "    <tr>\n",
              "      <th>11</th>\n",
              "      <td>Tecno Pova 2 6GB l 128GB - Điện Thoại Thông Mi...</td>\n",
              "      <td>3.579.000 ₫</td>\n",
              "      <td>https://tiki.vn/tecno-pova-2-6gb-l-128gb-dien-...</td>\n",
              "      <td>https://salt.tikicdn.com/cache/200x200/ts/prod...</td>\n",
              "      <td>883</td>\n",
              "      <td>28</td>\n",
              "      <td>True</td>\n",
              "    </tr>\n",
              "    <tr>\n",
              "      <th>12</th>\n",
              "      <td>Máy Tính Bảng Samsung Galaxy Tab S7 FE LTE T73...</td>\n",
              "      <td>9.690.000 ₫</td>\n",
              "      <td>https://tiki.vn/may-tinh-bang-samsung-galaxy-t...</td>\n",
              "      <td>https://salt.tikicdn.com/cache/200x200/ts/prod...</td>\n",
              "      <td>263</td>\n",
              "      <td>31</td>\n",
              "      <td>True</td>\n",
              "    </tr>\n",
              "    <tr>\n",
              "      <th>13</th>\n",
              "      <td>Điện Thoại Oppo A16k (3GB/32G) - Hàng Chính Hãng</td>\n",
              "      <td>2.880.000 ₫</td>\n",
              "      <td>https://tiki.vn/dien-thoai-oppo-a16k-3gb-32g-h...</td>\n",
              "      <td>https://salt.tikicdn.com/cache/200x200/ts/prod...</td>\n",
              "      <td>1000</td>\n",
              "      <td>10</td>\n",
              "      <td>True</td>\n",
              "    </tr>\n",
              "    <tr>\n",
              "      <th>14</th>\n",
              "      <td>Điện Thoại Oppo A94 (8GB/128G) - Hàng Chính Hãng</td>\n",
              "      <td>4.790.000 ₫</td>\n",
              "      <td>https://tiki.vn/dien-thoai-oppo-a94-8gb-128g-h...</td>\n",
              "      <td>https://salt.tikicdn.com/cache/200x200/media/c...</td>\n",
              "      <td>1000</td>\n",
              "      <td>6</td>\n",
              "      <td>True</td>\n",
              "    </tr>\n",
              "    <tr>\n",
              "      <th>15</th>\n",
              "      <td>Apple iPhone 13</td>\n",
              "      <td>18.990.000 ₫</td>\n",
              "      <td>https://tiki.vn/apple-iphone-13-hang-chinh-han...</td>\n",
              "      <td>https://salt.tikicdn.com/cache/200x200/ts/prod...</td>\n",
              "      <td>1000</td>\n",
              "      <td>24</td>\n",
              "      <td>True</td>\n",
              "    </tr>\n",
              "    <tr>\n",
              "      <th>16</th>\n",
              "      <td>Điện Thoại Oppo Reno 6Z 5G (8GB/128G) - Hàng C...</td>\n",
              "      <td>6.090.000 ₫</td>\n",
              "      <td>https://tiki.vn/dien-thoai-oppo-reno-6z-5g-8gb...</td>\n",
              "      <td>https://salt.tikicdn.com/cache/200x200/ts/prod...</td>\n",
              "      <td>788</td>\n",
              "      <td>19</td>\n",
              "      <td>True</td>\n",
              "    </tr>\n",
              "    <tr>\n",
              "      <th>17</th>\n",
              "      <td>Máy đọc sách All New Kindle Paperwhite 5 (11th...</td>\n",
              "      <td>3.825.000 ₫</td>\n",
              "      <td>https://tiki.vn/may-doc-sach-all-new-kindle-pa...</td>\n",
              "      <td>https://salt.tikicdn.com/cache/200x200/ts/prod...</td>\n",
              "      <td>429</td>\n",
              "      <td>4</td>\n",
              "      <td>False</td>\n",
              "    </tr>\n",
              "    <tr>\n",
              "      <th>18</th>\n",
              "      <td>Điện Thoại Nokia C20 2GB/16GB - Hàng Chính Hãng</td>\n",
              "      <td>1.450.000 ₫</td>\n",
              "      <td>https://tiki.vn/dien-thoai-nokia-c20-2gb-16gb-...</td>\n",
              "      <td>https://salt.tikicdn.com/cache/200x200/ts/prod...</td>\n",
              "      <td>156</td>\n",
              "      <td>52</td>\n",
              "      <td>False</td>\n",
              "    </tr>\n",
              "    <tr>\n",
              "      <th>19</th>\n",
              "      <td>Điện Thoại OnePlus  Nord CE 5G (12GB/256G) - H...</td>\n",
              "      <td>7.350.000 ₫</td>\n",
              "      <td>https://tiki.vn/dien-thoai-oneplus-nord-ce-5g-...</td>\n",
              "      <td>https://salt.tikicdn.com/cache/200x200/media/c...</td>\n",
              "      <td>369</td>\n",
              "      <td>13</td>\n",
              "      <td>True</td>\n",
              "    </tr>\n",
              "    <tr>\n",
              "      <th>20</th>\n",
              "      <td>Apple iPhone 12</td>\n",
              "      <td>15.650.000 ₫</td>\n",
              "      <td>https://tiki.vn/apple-iphone-12-hang-chinh-han...</td>\n",
              "      <td>https://salt.tikicdn.com/cache/200x200/ts/prod...</td>\n",
              "      <td>1000</td>\n",
              "      <td>13</td>\n",
              "      <td>True</td>\n",
              "    </tr>\n",
              "    <tr>\n",
              "      <th>21</th>\n",
              "      <td>Máy tính bảng Samsung Galaxy Tab A7 Lite LTE S...</td>\n",
              "      <td>3.270.000 ₫</td>\n",
              "      <td>https://tiki.vn/may-tinh-bang-samsung-galaxy-t...</td>\n",
              "      <td>https://salt.tikicdn.com/cache/200x200/ts/prod...</td>\n",
              "      <td>285</td>\n",
              "      <td>34</td>\n",
              "      <td>True</td>\n",
              "    </tr>\n",
              "    <tr>\n",
              "      <th>22</th>\n",
              "      <td>Điện Thoại Oppo A55 (4GB/64GB) - Hàng Chính Hãng</td>\n",
              "      <td>3.750.000 ₫</td>\n",
              "      <td>https://tiki.vn/dien-thoai-oppo-a55-4gb-64gb-h...</td>\n",
              "      <td>https://salt.tikicdn.com/cache/200x200/ts/prod...</td>\n",
              "      <td>1000</td>\n",
              "      <td>25</td>\n",
              "      <td>False</td>\n",
              "    </tr>\n",
              "    <tr>\n",
              "      <th>23</th>\n",
              "      <td>Điện thoại Samsung Galaxy A13 (4GB/128GB) - Hà...</td>\n",
              "      <td>4.190.000 ₫</td>\n",
              "      <td>https://tiki.vn/dien-thoai-samsung-galaxy-a13-...</td>\n",
              "      <td>https://salt.tikicdn.com/cache/200x200/ts/prod...</td>\n",
              "      <td>1000</td>\n",
              "      <td>16</td>\n",
              "      <td>False</td>\n",
              "    </tr>\n",
              "    <tr>\n",
              "      <th>24</th>\n",
              "      <td>Điện thoại Xiaomi 11 Lite 5G NE (6GB/128GB) - ...</td>\n",
              "      <td>7.440.000 ₫</td>\n",
              "      <td>https://tiki.vn/dien-thoai-xiaomi-11-lite-5g-n...</td>\n",
              "      <td>https://salt.tikicdn.com/cache/200x200/ts/prod...</td>\n",
              "      <td>89</td>\n",
              "      <td>29</td>\n",
              "      <td>False</td>\n",
              "    </tr>\n",
              "    <tr>\n",
              "      <th>25</th>\n",
              "      <td>Apple iPhone 13 Pro Max</td>\n",
              "      <td>26.990.000 ₫</td>\n",
              "      <td>https://tiki.vn/apple-iphone-13-pro-max-hang-c...</td>\n",
              "      <td>https://salt.tikicdn.com/cache/200x200/ts/prod...</td>\n",
              "      <td>1000</td>\n",
              "      <td>21</td>\n",
              "      <td>False</td>\n",
              "    </tr>\n",
              "    <tr>\n",
              "      <th>26</th>\n",
              "      <td>Điện Thoại Bàn Panasonic KX-TSC11 - Hàng Chính...</td>\n",
              "      <td>539.600 ₫</td>\n",
              "      <td>https://tiki.vn/dien-thoai-ban-panasonic-kx-ts...</td>\n",
              "      <td>https://salt.tikicdn.com/cache/200x200/ts/prod...</td>\n",
              "      <td>83</td>\n",
              "      <td>5</td>\n",
              "      <td>False</td>\n",
              "    </tr>\n",
              "    <tr>\n",
              "      <th>27</th>\n",
              "      <td>Điện Thoại Nokia C30 (2GB/32GB) - Hàng Chính Hãng</td>\n",
              "      <td>1.920.000 ₫</td>\n",
              "      <td>https://tiki.vn/dien-thoai-nokia-c30-2gb-32gb-...</td>\n",
              "      <td>https://salt.tikicdn.com/cache/200x200/ts/prod...</td>\n",
              "      <td>32</td>\n",
              "      <td>2</td>\n",
              "      <td>False</td>\n",
              "    </tr>\n",
              "    <tr>\n",
              "      <th>28</th>\n",
              "      <td>Điện thoại Samsung Galaxy A53 5G (8GB/128GB) -...</td>\n",
              "      <td>7.990.000 ₫</td>\n",
              "      <td>https://tiki.vn/dien-thoai-samsung-galaxy-a53-...</td>\n",
              "      <td>https://salt.tikicdn.com/cache/200x200/ts/prod...</td>\n",
              "      <td>187</td>\n",
              "      <td>20</td>\n",
              "      <td>False</td>\n",
              "    </tr>\n",
              "    <tr>\n",
              "      <th>29</th>\n",
              "      <td>Điện thoại di động Vivo Y21s (4GB/128GB) - Hàn...</td>\n",
              "      <td>3.890.000 ₫</td>\n",
              "      <td>https://tiki.vn/dien-thoai-di-dong-vivo-y21s-4...</td>\n",
              "      <td>https://salt.tikicdn.com/cache/200x200/ts/prod...</td>\n",
              "      <td>1000</td>\n",
              "      <td>26</td>\n",
              "      <td>True</td>\n",
              "    </tr>\n",
              "    <tr>\n",
              "      <th>30</th>\n",
              "      <td>Apple iPhone 11</td>\n",
              "      <td>10.990.000 ₫</td>\n",
              "      <td>https://tiki.vn/apple-iphone-11-p184036446.htm...</td>\n",
              "      <td>https://salt.tikicdn.com/cache/200x200/ts/prod...</td>\n",
              "      <td>1000</td>\n",
              "      <td>15</td>\n",
              "      <td>True</td>\n",
              "    </tr>\n",
              "    <tr>\n",
              "      <th>31</th>\n",
              "      <td>Máy Đọc Sách All New Kindle 2019 (10th) – Hàng...</td>\n",
              "      <td>2.245.000 ₫</td>\n",
              "      <td>https://tiki.vn/may-doc-sach-all-new-kindle-20...</td>\n",
              "      <td>https://salt.tikicdn.com/cache/200x200/ts/prod...</td>\n",
              "      <td>441</td>\n",
              "      <td>2</td>\n",
              "      <td>False</td>\n",
              "    </tr>\n",
              "    <tr>\n",
              "      <th>32</th>\n",
              "      <td>Điện thoại Xiaomi Redmi Note 11 (4GB/64GB) - H...</td>\n",
              "      <td>3.899.000 ₫</td>\n",
              "      <td>https://tiki.vn/dien-thoai-xiaomi-redmi-note-1...</td>\n",
              "      <td>https://salt.tikicdn.com/cache/200x200/ts/prod...</td>\n",
              "      <td>56</td>\n",
              "      <td>17</td>\n",
              "      <td>False</td>\n",
              "    </tr>\n",
              "    <tr>\n",
              "      <th>33</th>\n",
              "      <td>Điện thoại di động 4G Philips Xenium E506 – Hà...</td>\n",
              "      <td>650.000 ₫</td>\n",
              "      <td>https://tiki.vn/dien-thoai-di-dong-4g-philips-...</td>\n",
              "      <td>https://salt.tikicdn.com/cache/200x200/ts/prod...</td>\n",
              "      <td>46</td>\n",
              "      <td>19</td>\n",
              "      <td>False</td>\n",
              "    </tr>\n",
              "    <tr>\n",
              "      <th>34</th>\n",
              "      <td>Máy Tính Bảng Huawei Matepad | Màn Hình 2K Ful...</td>\n",
              "      <td>5.490.000 ₫</td>\n",
              "      <td>https://tiki.vn/may-tinh-bang-huawei-matepad-m...</td>\n",
              "      <td>https://salt.tikicdn.com/cache/200x200/ts/prod...</td>\n",
              "      <td>306</td>\n",
              "      <td></td>\n",
              "      <td>False</td>\n",
              "    </tr>\n",
              "    <tr>\n",
              "      <th>35</th>\n",
              "      <td>Điện thoại Realme Narzo 50i (4GB/64GB) - Hàng ...</td>\n",
              "      <td>2.619.000 ₫</td>\n",
              "      <td>https://tiki.vn/dien-thoai-realme-narzo-50i-4g...</td>\n",
              "      <td>https://salt.tikicdn.com/cache/200x200/ts/prod...</td>\n",
              "      <td>80</td>\n",
              "      <td>20</td>\n",
              "      <td>False</td>\n",
              "    </tr>\n",
              "    <tr>\n",
              "      <th>36</th>\n",
              "      <td>Điện Thoại Nokia C01 Plus 2GB/16GB - Hàng Chín...</td>\n",
              "      <td>1.649.000 ₫</td>\n",
              "      <td>https://tiki.vn/dien-thoai-nokia-c01-plus-2gb-...</td>\n",
              "      <td>https://salt.tikicdn.com/cache/200x200/ts/prod...</td>\n",
              "      <td>68</td>\n",
              "      <td>12</td>\n",
              "      <td>False</td>\n",
              "    </tr>\n",
              "    <tr>\n",
              "      <th>37</th>\n",
              "      <td>Điện thoại Nokia C30 2GB/32GB - Hàng chính hãng</td>\n",
              "      <td>2.090.000 ₫</td>\n",
              "      <td>https://tiki.vn/dien-thoai-nokia-c30-2gb-32gb-...</td>\n",
              "      <td>https://salt.tikicdn.com/cache/200x200/ts/prod...</td>\n",
              "      <td>51</td>\n",
              "      <td></td>\n",
              "      <td>False</td>\n",
              "    </tr>\n",
              "    <tr>\n",
              "      <th>38</th>\n",
              "      <td>Apple iPhone 13 Pro</td>\n",
              "      <td>26.750.000 ₫</td>\n",
              "      <td>https://tiki.vn/apple-iphone-13-pro-hang-chinh...</td>\n",
              "      <td>https://salt.tikicdn.com/cache/200x200/ts/prod...</td>\n",
              "      <td>1000</td>\n",
              "      <td>21</td>\n",
              "      <td>True</td>\n",
              "    </tr>\n",
              "    <tr>\n",
              "      <th>39</th>\n",
              "      <td>Điện Thoại Nokia G21 (4GB/128GB) - Hàng Chính ...</td>\n",
              "      <td>3.480.000 ₫</td>\n",
              "      <td>https://tiki.vn/dien-thoai-nokia-g21-4gb-128gb...</td>\n",
              "      <td>https://salt.tikicdn.com/cache/200x200/ts/prod...</td>\n",
              "      <td>48</td>\n",
              "      <td>13</td>\n",
              "      <td>True</td>\n",
              "    </tr>\n",
              "    <tr>\n",
              "      <th>40</th>\n",
              "      <td>Apple iPad 10.2-inch (9th Gen) Wi-Fi, 2021</td>\n",
              "      <td>8.990.000 ₫</td>\n",
              "      <td>https://tiki.vn/apple-ipad-10-2-inch-9th-gen-w...</td>\n",
              "      <td>https://salt.tikicdn.com/cache/200x200/ts/prod...</td>\n",
              "      <td>816</td>\n",
              "      <td>18</td>\n",
              "      <td>False</td>\n",
              "    </tr>\n",
              "    <tr>\n",
              "      <th>41</th>\n",
              "      <td>Điện thoại bàn KX-TS500 hàng chính hãng</td>\n",
              "      <td>275.500 ₫</td>\n",
              "      <td>https://tiki.vn/dien-thoai-ban-kxts500-hang-ch...</td>\n",
              "      <td>https://salt.tikicdn.com/cache/200x200/ts/prod...</td>\n",
              "      <td>245</td>\n",
              "      <td>5</td>\n",
              "      <td>False</td>\n",
              "    </tr>\n",
              "    <tr>\n",
              "      <th>42</th>\n",
              "      <td>Máy tính bảng Fire HD10 2021 - 11th - (All New...</td>\n",
              "      <td>3.170.000 ₫</td>\n",
              "      <td>https://tiki.vn/may-tinh-bang-fire-hd10-2021-1...</td>\n",
              "      <td>https://salt.tikicdn.com/cache/200x200/ts/prod...</td>\n",
              "      <td>131</td>\n",
              "      <td></td>\n",
              "      <td>False</td>\n",
              "    </tr>\n",
              "    <tr>\n",
              "      <th>43</th>\n",
              "      <td>Điện Thoại Oppo A16k (4GB/64G) - Hàng Chính Hãng</td>\n",
              "      <td>3.090.000 ₫</td>\n",
              "      <td>https://tiki.vn/dien-thoai-oppo-a16k-4gb-64g-h...</td>\n",
              "      <td>https://salt.tikicdn.com/cache/200x200/ts/prod...</td>\n",
              "      <td>1000</td>\n",
              "      <td>18</td>\n",
              "      <td>True</td>\n",
              "    </tr>\n",
              "    <tr>\n",
              "      <th>44</th>\n",
              "      <td>Điện Thoại Nokia 105 Dual Sim (2019) - Hàng Ch...</td>\n",
              "      <td>490.000 ₫</td>\n",
              "      <td>https://tiki.vn/dien-thoai-nokia-105-dual-sim-...</td>\n",
              "      <td>https://salt.tikicdn.com/cache/200x200/ts/prod...</td>\n",
              "      <td>1000</td>\n",
              "      <td></td>\n",
              "      <td>True</td>\n",
              "    </tr>\n",
              "    <tr>\n",
              "      <th>45</th>\n",
              "      <td>Máy đọc sách Kobo Libra 2 - hàng nhập khẩu</td>\n",
              "      <td>5.039.000 ₫</td>\n",
              "      <td>https://tiki.vn/may-doc-sach-kobo-libra-2-p139...</td>\n",
              "      <td>https://salt.tikicdn.com/cache/200x200/ts/prod...</td>\n",
              "      <td>93</td>\n",
              "      <td>13</td>\n",
              "      <td>False</td>\n",
              "    </tr>\n",
              "    <tr>\n",
              "      <th>46</th>\n",
              "      <td>Điện thoại Nokia C01 Plus (2GB/16GB) - Hàng ch...</td>\n",
              "      <td>1.710.000 ₫</td>\n",
              "      <td>https://tiki.vn/dien-thoai-nokia-c01-plus-2gb-...</td>\n",
              "      <td>https://salt.tikicdn.com/cache/200x200/ts/prod...</td>\n",
              "      <td>132</td>\n",
              "      <td>14</td>\n",
              "      <td>True</td>\n",
              "    </tr>\n",
              "    <tr>\n",
              "      <th>47</th>\n",
              "      <td>Tecno Pova 2 4GB l 64GB - Điện Thoại Thông Min...</td>\n",
              "      <td>3.399.000 ₫</td>\n",
              "      <td>https://tiki.vn/tecno-pova-2-4gb-l-64gb-dien-t...</td>\n",
              "      <td>https://salt.tikicdn.com/cache/200x200/ts/prod...</td>\n",
              "      <td>84</td>\n",
              "      <td>21</td>\n",
              "      <td>True</td>\n",
              "    </tr>\n",
              "    <tr>\n",
              "      <th>48</th>\n",
              "      <td>Điện Thoại Oppo A95 (8GB/128G) - Hàng Chính Hãng</td>\n",
              "      <td>5.450.000 ₫</td>\n",
              "      <td>https://tiki.vn/dien-thoai-oppo-a95-8gb-128g-h...</td>\n",
              "      <td>https://salt.tikicdn.com/cache/200x200/ts/prod...</td>\n",
              "      <td>156</td>\n",
              "      <td>22</td>\n",
              "      <td>False</td>\n",
              "    </tr>\n",
              "  </tbody>\n",
              "</table>\n",
              "</div>\n",
              "      <button class=\"colab-df-convert\" onclick=\"convertToInteractive('df-77d7010f-4186-4872-a218-ef59619e6727')\"\n",
              "              title=\"Convert this dataframe to an interactive table.\"\n",
              "              style=\"display:none;\">\n",
              "        \n",
              "  <svg xmlns=\"http://www.w3.org/2000/svg\" height=\"24px\"viewBox=\"0 0 24 24\"\n",
              "       width=\"24px\">\n",
              "    <path d=\"M0 0h24v24H0V0z\" fill=\"none\"/>\n",
              "    <path d=\"M18.56 5.44l.94 2.06.94-2.06 2.06-.94-2.06-.94-.94-2.06-.94 2.06-2.06.94zm-11 1L8.5 8.5l.94-2.06 2.06-.94-2.06-.94L8.5 2.5l-.94 2.06-2.06.94zm10 10l.94 2.06.94-2.06 2.06-.94-2.06-.94-.94-2.06-.94 2.06-2.06.94z\"/><path d=\"M17.41 7.96l-1.37-1.37c-.4-.4-.92-.59-1.43-.59-.52 0-1.04.2-1.43.59L10.3 9.45l-7.72 7.72c-.78.78-.78 2.05 0 2.83L4 21.41c.39.39.9.59 1.41.59.51 0 1.02-.2 1.41-.59l7.78-7.78 2.81-2.81c.8-.78.8-2.07 0-2.86zM5.41 20L4 18.59l7.72-7.72 1.47 1.35L5.41 20z\"/>\n",
              "  </svg>\n",
              "      </button>\n",
              "      \n",
              "  <style>\n",
              "    .colab-df-container {\n",
              "      display:flex;\n",
              "      flex-wrap:wrap;\n",
              "      gap: 12px;\n",
              "    }\n",
              "\n",
              "    .colab-df-convert {\n",
              "      background-color: #E8F0FE;\n",
              "      border: none;\n",
              "      border-radius: 50%;\n",
              "      cursor: pointer;\n",
              "      display: none;\n",
              "      fill: #1967D2;\n",
              "      height: 32px;\n",
              "      padding: 0 0 0 0;\n",
              "      width: 32px;\n",
              "    }\n",
              "\n",
              "    .colab-df-convert:hover {\n",
              "      background-color: #E2EBFA;\n",
              "      box-shadow: 0px 1px 2px rgba(60, 64, 67, 0.3), 0px 1px 3px 1px rgba(60, 64, 67, 0.15);\n",
              "      fill: #174EA6;\n",
              "    }\n",
              "\n",
              "    [theme=dark] .colab-df-convert {\n",
              "      background-color: #3B4455;\n",
              "      fill: #D2E3FC;\n",
              "    }\n",
              "\n",
              "    [theme=dark] .colab-df-convert:hover {\n",
              "      background-color: #434B5C;\n",
              "      box-shadow: 0px 1px 3px 1px rgba(0, 0, 0, 0.15);\n",
              "      filter: drop-shadow(0px 1px 2px rgba(0, 0, 0, 0.3));\n",
              "      fill: #FFFFFF;\n",
              "    }\n",
              "  </style>\n",
              "\n",
              "      <script>\n",
              "        const buttonEl =\n",
              "          document.querySelector('#df-77d7010f-4186-4872-a218-ef59619e6727 button.colab-df-convert');\n",
              "        buttonEl.style.display =\n",
              "          google.colab.kernel.accessAllowed ? 'block' : 'none';\n",
              "\n",
              "        async function convertToInteractive(key) {\n",
              "          const element = document.querySelector('#df-77d7010f-4186-4872-a218-ef59619e6727');\n",
              "          const dataTable =\n",
              "            await google.colab.kernel.invokeFunction('convertToInteractive',\n",
              "                                                     [key], {});\n",
              "          if (!dataTable) return;\n",
              "\n",
              "          const docLinkHtml = 'Like what you see? Visit the ' +\n",
              "            '<a target=\"_blank\" href=https://colab.research.google.com/notebooks/data_table.ipynb>data table notebook</a>'\n",
              "            + ' to learn more about interactive tables.';\n",
              "          element.innerHTML = '';\n",
              "          dataTable['output_type'] = 'display_data';\n",
              "          await google.colab.output.renderOutput(dataTable, element);\n",
              "          const docLink = document.createElement('div');\n",
              "          docLink.innerHTML = docLinkHtml;\n",
              "          element.appendChild(docLink);\n",
              "        }\n",
              "      </script>\n",
              "    </div>\n",
              "  </div>\n",
              "  "
            ]
          },
          "metadata": {},
          "execution_count": 212
        }
      ]
    },
    {
      "cell_type": "code",
      "source": [
        "df.to_csv('tiki.scraped.csv', index = True)"
      ],
      "metadata": {
        "id": "bmq4kB-zsHYK"
      },
      "execution_count": 213,
      "outputs": []
    }
  ]
}