{
  "nbformat": 4,
  "nbformat_minor": 0,
  "metadata": {
    "colab": {
      "name": "[Project] Tiki_Web Scraping_July 7th.ipynb",
      "provenance": [],
      "collapsed_sections": [],
      "include_colab_link": true
    },
    "kernelspec": {
      "name": "python3",
      "display_name": "Python 3"
    },
    "language_info": {
      "name": "python"
    }
  },
  "cells": [
    {
      "cell_type": "markdown",
      "metadata": {
        "id": "view-in-github",
        "colab_type": "text"
      },
      "source": [
        "<a href=\"https://colab.research.google.com/github/Annieng184/Annieng184/blob/main/%5BProject%5D_Tiki_Web_Scraping_July_7th.ipynb\" target=\"_parent\"><img src=\"https://colab.research.google.com/assets/colab-badge.svg\" alt=\"Open In Colab\"/></a>"
      ]
    },
    {
      "cell_type": "code",
      "execution_count": 183,
      "metadata": {
        "colab": {
          "base_uri": "https://localhost:8080/"
        },
        "id": "d4GlZmimV6Dr",
        "outputId": "d3ce5e6f-3be0-440b-d3d4-252a201e44c0"
      },
      "outputs": [
        {
          "output_type": "stream",
          "name": "stdout",
          "text": [
            "Looking in indexes: https://pypi.org/simple, https://us-python.pkg.dev/colab-wheels/public/simple/\n",
            "Requirement already satisfied: selenium in /usr/local/lib/python3.7/dist-packages (4.3.0)\n",
            "Requirement already satisfied: trio~=0.17 in /usr/local/lib/python3.7/dist-packages (from selenium) (0.21.0)\n",
            "Requirement already satisfied: trio-websocket~=0.9 in /usr/local/lib/python3.7/dist-packages (from selenium) (0.9.2)\n",
            "Requirement already satisfied: urllib3[secure,socks]~=1.26 in /usr/local/lib/python3.7/dist-packages (from selenium) (1.26.9)\n",
            "Requirement already satisfied: async-generator>=1.9 in /usr/local/lib/python3.7/dist-packages (from trio~=0.17->selenium) (1.10)\n",
            "Requirement already satisfied: sortedcontainers in /usr/local/lib/python3.7/dist-packages (from trio~=0.17->selenium) (2.4.0)\n",
            "Requirement already satisfied: sniffio in /usr/local/lib/python3.7/dist-packages (from trio~=0.17->selenium) (1.2.0)\n",
            "Requirement already satisfied: outcome in /usr/local/lib/python3.7/dist-packages (from trio~=0.17->selenium) (1.2.0)\n",
            "Requirement already satisfied: attrs>=19.2.0 in /usr/local/lib/python3.7/dist-packages (from trio~=0.17->selenium) (21.4.0)\n",
            "Requirement already satisfied: idna in /usr/local/lib/python3.7/dist-packages (from trio~=0.17->selenium) (2.10)\n",
            "Requirement already satisfied: wsproto>=0.14 in /usr/local/lib/python3.7/dist-packages (from trio-websocket~=0.9->selenium) (1.1.0)\n",
            "Requirement already satisfied: pyOpenSSL>=0.14 in /usr/local/lib/python3.7/dist-packages (from urllib3[secure,socks]~=1.26->selenium) (22.0.0)\n",
            "Requirement already satisfied: cryptography>=1.3.4 in /usr/local/lib/python3.7/dist-packages (from urllib3[secure,socks]~=1.26->selenium) (37.0.4)\n",
            "Requirement already satisfied: certifi in /usr/local/lib/python3.7/dist-packages (from urllib3[secure,socks]~=1.26->selenium) (2022.6.15)\n",
            "Requirement already satisfied: PySocks!=1.5.7,<2.0,>=1.5.6 in /usr/local/lib/python3.7/dist-packages (from urllib3[secure,socks]~=1.26->selenium) (1.7.1)\n",
            "Requirement already satisfied: cffi>=1.12 in /usr/local/lib/python3.7/dist-packages (from cryptography>=1.3.4->urllib3[secure,socks]~=1.26->selenium) (1.15.0)\n",
            "Requirement already satisfied: pycparser in /usr/local/lib/python3.7/dist-packages (from cffi>=1.12->cryptography>=1.3.4->urllib3[secure,socks]~=1.26->selenium) (2.21)\n",
            "Requirement already satisfied: h11<1,>=0.9.0 in /usr/local/lib/python3.7/dist-packages (from wsproto>=0.14->trio-websocket~=0.9->selenium) (0.13.0)\n",
            "Requirement already satisfied: typing-extensions in /usr/local/lib/python3.7/dist-packages (from h11<1,>=0.9.0->wsproto>=0.14->trio-websocket~=0.9->selenium) (4.1.1)\n",
            "Hit:1 http://ppa.launchpad.net/c2d4u.team/c2d4u4.0+/ubuntu bionic InRelease\n",
            "Hit:2 http://archive.ubuntu.com/ubuntu bionic InRelease\n",
            "Get:3 http://security.ubuntu.com/ubuntu bionic-security InRelease [88.7 kB]\n",
            "Hit:4 http://ppa.launchpad.net/cran/libgit2/ubuntu bionic InRelease\n",
            "Get:5 http://archive.ubuntu.com/ubuntu bionic-updates InRelease [88.7 kB]\n",
            "Hit:6 https://developer.download.nvidia.com/compute/cuda/repos/ubuntu1804/x86_64  InRelease\n",
            "Hit:7 http://ppa.launchpad.net/deadsnakes/ppa/ubuntu bionic InRelease\n",
            "Hit:8 https://cloud.r-project.org/bin/linux/ubuntu bionic-cran40/ InRelease\n",
            "Hit:9 http://ppa.launchpad.net/graphics-drivers/ppa/ubuntu bionic InRelease\n",
            "Get:10 http://archive.ubuntu.com/ubuntu bionic-backports InRelease [74.6 kB]\n",
            "Ign:11 https://developer.download.nvidia.com/compute/machine-learning/repos/ubuntu1804/x86_64  InRelease\n",
            "Hit:12 https://developer.download.nvidia.com/compute/machine-learning/repos/ubuntu1804/x86_64  Release\n",
            "Fetched 252 kB in 2s (107 kB/s)\n",
            "Reading package lists... Done\n",
            "Reading package lists... Done\n",
            "Building dependency tree       \n",
            "Reading state information... Done\n",
            "chromium-chromedriver is already the newest version (101.0.4951.64-0ubuntu0.18.04.1).\n",
            "The following package was automatically installed and is no longer required:\n",
            "  libnvidia-common-460\n",
            "Use 'apt autoremove' to remove it.\n",
            "0 upgraded, 0 newly installed, 0 to remove and 67 not upgraded.\n"
          ]
        }
      ],
      "source": [
        "# install selenium and other resources for crawling data\n",
        "!pip install selenium\n",
        "!apt-get update\n",
        "!apt install chromium-chromedriver"
      ]
    },
    {
      "cell_type": "code",
      "source": [
        "import re\n",
        "import time\n",
        "import pandas as pd\n",
        "\n",
        "from selenium import webdriver\n",
        "from selenium.webdriver.common.by import By\n",
        "from selenium.common.exceptions import NoSuchElementException\n",
        "from selenium.common.exceptions import StaleElementReferenceException"
      ],
      "metadata": {
        "id": "BtJ0XQrqV8x4"
      },
      "execution_count": 184,
      "outputs": []
    },
    {
      "cell_type": "code",
      "source": [
        "DRIVER = None"
      ],
      "metadata": {
        "id": "npKeYnz6WCx8"
      },
      "execution_count": 185,
      "outputs": []
    },
    {
      "cell_type": "code",
      "source": [
        "def initialize_driver():\n",
        "    global DRIVER\n",
        "    if DRIVER is None:\n",
        "        print('Initiating driver...')\n",
        "        chrome_options = webdriver.ChromeOptions()\n",
        "        chrome_options.add_argument('-headless') \n",
        "        chrome_options.add_argument('-no-sandbox') \n",
        "        DRIVER = webdriver.Chrome('chromedriver',options=chrome_options)  # Create the new chrome browser with specific options\n",
        "        print('Finished!')"
      ],
      "metadata": {
        "id": "qDN3JnmVWEZy"
      },
      "execution_count": 186,
      "outputs": []
    },
    {
      "cell_type": "code",
      "source": [
        "# Global driver to use throughout the script\n",
        "DRIVER = None\n",
        "\n",
        "# Wrapper to close driver if its created\n",
        "def close_driver():\n",
        "    global DRIVER\n",
        "    if DRIVER is not None:\n",
        "        DRIVER.close()\n",
        "    DRIVER = None\n",
        "\n",
        "# Function to (re)start driver\n",
        "def start_driver(force_restart=False):\n",
        "    global DRIVER\n",
        "    \n",
        "    if force_restart:\n",
        "        close_driver()\n",
        "    \n",
        "    # Setting up the driver\n",
        "    options = webdriver.ChromeOptions()\n",
        "    options.add_argument('-headless') # we don't want a chrome browser opens, so it will run in the background\n",
        "    options.add_argument('-no-sandbox')\n",
        "    options.add_argument('-disable-dev-shm-usage')\n",
        "\n",
        "    DRIVER = webdriver.Chrome('chromedriver',options=options)"
      ],
      "metadata": {
        "id": "OB_iEWoKr8q4"
      },
      "execution_count": 187,
      "outputs": []
    },
    {
      "cell_type": "code",
      "source": [
        "def close_driver():\n",
        "    global DRIVER\n",
        "    if not DRIVER is None:\n",
        "        print(\"Quitting driver...\")\n",
        "        DRIVER.quit()\n",
        "        print(\"Done!\")\n",
        "\n",
        "    DRIVER = None"
      ],
      "metadata": {
        "id": "7iHjs2R2WGuV"
      },
      "execution_count": 188,
      "outputs": []
    },
    {
      "cell_type": "code",
      "source": [
        "close_driver()\n",
        "initialize_driver()"
      ],
      "metadata": {
        "colab": {
          "base_uri": "https://localhost:8080/"
        },
        "id": "9UWDHiidWKlC",
        "outputId": "2868ac2d-c6c9-48f9-eab9-b0a87a2cc07a"
      },
      "execution_count": 189,
      "outputs": [
        {
          "output_type": "stream",
          "name": "stdout",
          "text": [
            "Initiating driver...\n",
            "Finished!\n"
          ]
        }
      ]
    },
    {
      "cell_type": "code",
      "source": [
        "DRIVER"
      ],
      "metadata": {
        "colab": {
          "base_uri": "https://localhost:8080/"
        },
        "id": "5538doj_WL1Z",
        "outputId": "6a97a546-1d6e-476c-a3e4-78ba55887b27"
      },
      "execution_count": 190,
      "outputs": [
        {
          "output_type": "execute_result",
          "data": {
            "text/plain": [
              "<selenium.webdriver.chrome.webdriver.WebDriver (session=\"2e74f7d085df997e1f6fcbdd95322f6c\")>"
            ]
          },
          "metadata": {},
          "execution_count": 190
        }
      ]
    },
    {
      "cell_type": "code",
      "source": [
        "import pandas as pd\n",
        "import numpy as np"
      ],
      "metadata": {
        "id": "3Yiq02iPKAQh"
      },
      "execution_count": 191,
      "outputs": []
    },
    {
      "cell_type": "markdown",
      "source": [
        "**PART 1: Input URL and find number of products within that site**"
      ],
      "metadata": {
        "id": "b3aqEbMTT-ZP"
      }
    },
    {
      "cell_type": "code",
      "source": [
        "DRIVER.get('https://tiki.vn/dien-thoai-may-tinh-bang/c1789') #input URL"
      ],
      "metadata": {
        "id": "6sNC8mhSWM_J"
      },
      "execution_count": 192,
      "outputs": []
    },
    {
      "cell_type": "code",
      "source": [
        "time.sleep(5) #wait for the website to load"
      ],
      "metadata": {
        "id": "rYBtnUny9K7L"
      },
      "execution_count": 193,
      "outputs": []
    },
    {
      "cell_type": "code",
      "source": [
        "products = DRIVER.find_elements(By.CLASS_NAME, 'product-item') #count elements\n",
        "len(products)"
      ],
      "metadata": {
        "colab": {
          "base_uri": "https://localhost:8080/"
        },
        "id": "DvxePIqmFTwh",
        "outputId": "a9e0cee6-d2f5-4753-c187-504eabb04ac2"
      },
      "execution_count": 194,
      "outputs": [
        {
          "output_type": "execute_result",
          "data": {
            "text/plain": [
              "48"
            ]
          },
          "metadata": {},
          "execution_count": 194
        }
      ]
    },
    {
      "cell_type": "code",
      "source": [
        "each_product = products[0] #get 1 element out for example"
      ],
      "metadata": {
        "id": "9P596l89PS7Z"
      },
      "execution_count": 195,
      "outputs": []
    },
    {
      "cell_type": "code",
      "source": [
        "each_product.get_attribute"
      ],
      "metadata": {
        "colab": {
          "base_uri": "https://localhost:8080/"
        },
        "id": "yJkXaZpJjNkM",
        "outputId": "b35e140c-aa42-4092-c429-acdd3663188e"
      },
      "execution_count": 196,
      "outputs": [
        {
          "output_type": "execute_result",
          "data": {
            "text/plain": [
              "<bound method WebElement.get_attribute of <selenium.webdriver.remote.webelement.WebElement (session=\"2e74f7d085df997e1f6fcbdd95322f6c\", element=\"6d5501fd-6781-424b-ab42-2d8feaa48347\")>>"
            ]
          },
          "metadata": {},
          "execution_count": 196
        }
      ]
    },
    {
      "cell_type": "code",
      "source": [
        "each_product.get_attribute('outerHTML')"
      ],
      "metadata": {
        "colab": {
          "base_uri": "https://localhost:8080/",
          "height": 103
        },
        "id": "UEtJXCGOdvuO",
        "outputId": "7f44fc1c-726a-4166-c1c2-e22e2574ca03"
      },
      "execution_count": 197,
      "outputs": [
        {
          "output_type": "execute_result",
          "data": {
            "text/plain": [
              "'<a class=\"product-item\" href=\"//tka.tiki.vn/pixel/pixel?data=djAwMaaUEufulIH8mxk_7zplKNgn412wV0ydsggJvdEHzW-POs2991EOXJsoriY4cCO4t54Zye59L7XNl_LINZNsYdOTgYsVxJkaADksQRVyaOMPyk1GglWrjmZ7JPHV0qWeWZwCrh37_jwQcXQbYeC1mlK8ijyU55WvX7CGju6nW8AUWe54g6J2UmnwWszBOIw2mI-3vA_e9gI3zxnGdF9_aRjxTBEM0d06y4L53zVRYQlB3fn1burFJMxMwZKgC9vHOAVEnLAVNCHY5eGPyG5M2tUxArcznPZ6B1qHJKR2nwI7_4zyAEqoguQQoW1YOK2FO7SPiZ-uOEJdDK3eSXMfyZrZLQe7VwcIz7ym_8VyR76qspIvjrOoDCYp402jLWx6_yOiBIYThIVAsv-8EMH15XbXdGJPw_25f2fBKs4Wu3VvJcH7bGtYTJ-GXb-9YyNdmegR6BzGenyJ7mTrqmP6aRMQ1Hc877bZPgtQkPrO0r1fKAG9ldkWeMCLl4PuFVp1R9Hk9LlRe_bohSX8cZ7e0t4QyKuVkXz8bnw9ODbepCvCJUL-FPcg_G6s02Br91ngjc244--iTHKX-EbrrD72vtwY4V0GJYQe71oFc8FzVINwX7POHeIZopiTmpF4eKBTeb075EdTp5EO4XIa03uJ4aDqVmdnFdiLj03zwhZyxMIL_US9ZRbvkiMgN7vcNs7knDriSQTdEjGaXnLBYAi4-7O-uEJjNjSEiLg56wAiMKUeFa8Nek1uSwbaouU1MR8OQYSMv4pdgHchzGmDUcs5hDrHC6pYktjjs6nZdmDpICPE7ZyQy_oTbypVq2KXP1RnO4avWy8mxH0QHjnhqdOdIO9eQXuIXMJ3Hx91DlOb1SnJuyteJo0KoIsW1kvLWOkVDrsTfHtQAhuYCV8G6_HGgP5GuAaQbQIZ2Q8aAim5PQwZvPyHWz7D9TKCD0M-GTuDKMp2Oz-8DVZHDmuAto56UElAxG46_ayLNrqK96Py6A3of_OEF7XvprO2d1QhISHFEmfmvSlc0tFQAGnmsQbWmf71Nu3xFwGyqeagu3ZnEvw6ZjTHyQfu4CNjazr_tidx3icAEdN521B1RDixbdWkl1U0U2v-x3kfKVlfHBmlEwRCjbJ81dmKZlyQM7fg3k_aHg2pS6uNpKt5c6yFFHpSYwbNG38qxJU&amp;CLICK&amp;reqid=dGS924zQWj&amp;pos=1&amp;redirect=https%3A%2F%2Ftiki.vn%2Fdien-thoai-samsung-galaxy-m23-5g-6gb-128gb-hang-chinh-hang-p172998120.html%3Fspid%3D172998263\" data-view-index=\"0\" data-view-id=\"product_list_item\" data-view-content=\"{&quot;click_data&quot;:{&quot;id&quot;:172998120,&quot;spid&quot;:172998263,&quot;position&quot;:0,&quot;trace_id&quot;:&quot;As2kFFfw6ataJSK3&quot;}}\" rel=\"nofollow\"><span class=\"style__StyledItem-sc-18svp8n-0 fkDgwT\"><div><div class=\"thumbnail\"><img src=\"https://salt.tikicdn.com/ts/upload/dc/0d/49/3251737db2de83b74eba8a9ad6d03338.png\" width=\"136\" height=\"24\" class=\"styles__StyledDynamicIconBadge-sc-cxexs7-0 hdozRK\" style=\"bottom: 0px; left: 0px;\"><img src=\"https://salt.tikicdn.com/ts/upload/b9/1f/4b/557eac9c67a4466ccebfa74cde854215.png\" width=\"74\" height=\"18\" class=\"styles__StyledDynamicIconBadge-sc-cxexs7-0 hdozRK\" style=\"top: 0px; left: 0px;\"><picture class=\"webpimg-container\"><source type=\"image/webp\" srcset=\"https://salt.tikicdn.com/cache/200x200/ts/product/8d/1b/e9/6c4b0e5309a8f34c8db4910e35b9f51d.jpg.webp\"><img src=\"https://salt.tikicdn.com/cache/200x200/ts/product/8d/1b/e9/6c4b0e5309a8f34c8db4910e35b9f51d.jpg\" alt=\"Điện thoại Samsung Galaxy M23 5G (6GB/128GB) - Hàng chính hãng\" class=\"WebpImg__StyledImg-sc-h3ozu8-0 fWjUGo\"></picture></div><div class=\"style__OptionColor-sc-18svp8n-2 dWRAlJ option-color\"><div class=\"Slide__Root-sc-1bhg4sj-0 cDhDcg\" style=\"width: 144px; margin: 16px auto 12px 0px;\"><div class=\"Slide__Slider-sc-1bhg4sj-1 edueVq\"><div class=\"Slide__Frame-sc-1bhg4sj-2 kkgqeG\"><div width=\"25\" class=\"Slide__Item-sc-1bhg4sj-3 kydcof\" style=\"border: 1px solid rgb(253, 130, 10);\"><picture class=\"webpimg-container\"><source type=\"image/webp\" srcset=\"https://salt.tikicdn.com/cache/100x100/ts/product/97/dc/66/1ce05716c0a1a1e643130167c57ff800.jpg.webp\"><img src=\"https://salt.tikicdn.com/cache/100x100/ts/product/97/dc/66/1ce05716c0a1a1e643130167c57ff800.jpg\" class=\"WebpImg__StyledImg-sc-h3ozu8-0 fWjUGo style__BlockImg-sc-18svp8n-5 jepyFG\"></picture></div><div width=\"25\" class=\"Slide__Item-sc-1bhg4sj-3 kydcof\" style=\"border: 1px solid transparent;\"><picture class=\"webpimg-container\"><source type=\"image/webp\" srcset=\"https://salt.tikicdn.com/cache/100x100/ts/product/46/0f/7f/8de09c6b4faaed8136b3b6e4a6ad101f.jpg.webp\"><img src=\"https://salt.tikicdn.com/cache/100x100/ts/product/46/0f/7f/8de09c6b4faaed8136b3b6e4a6ad101f.jpg\" class=\"WebpImg__StyledImg-sc-h3ozu8-0 fWjUGo style__BlockImg-sc-18svp8n-5 jepyFG\"></picture></div></div></div><div class=\"Slide__Dot-sc-1bhg4sj-6 cYMQXT\"></div></div></div><div class=\"info\"><div class=\"name\"><p style=\"background: rgb(242, 242, 242); line-height: 12px; display: inline-block; padding: 0px 4px; font-size: 9px; margin: 0px 4px 0px 0px; position: relative; top: -1px; border-radius: 2px;\">Ad</p><h3>Điện thoại Samsung Galaxy M23 5G (6GB/128GB) - Hàng chính hãng</h3></div><div class=\"styles__StyledRatingQtySold-sc-732h27-0 uDeVr\" style=\"margin-top: 2px; margin-bottom: 2px;\"><div class=\"full-rating\"><div class=\"total\"><svg stroke=\"currentColor\" fill=\"currentColor\" stroke-width=\"0\" viewBox=\"0 0 24 24\" size=\"14\" color=\"#c7c7c7\" height=\"14\" width=\"14\" xmlns=\"http://www.w3.org/2000/svg\" style=\"color: rgb(199, 199, 199);\"><path d=\"M12 17.27L18.18 21l-1.64-7.03L22 9.24l-7.19-.61L12 2 9.19 8.63 2 9.24l5.46 4.73L5.82 21z\"></path></svg><svg stroke=\"currentColor\" fill=\"currentColor\" stroke-width=\"0\" viewBox=\"0 0 24 24\" size=\"14\" color=\"#c7c7c7\" height=\"14\" width=\"14\" xmlns=\"http://www.w3.org/2000/svg\" style=\"color: rgb(199, 199, 199);\"><path d=\"M12 17.27L18.18 21l-1.64-7.03L22 9.24l-7.19-.61L12 2 9.19 8.63 2 9.24l5.46 4.73L5.82 21z\"></path></svg><svg stroke=\"currentColor\" fill=\"currentColor\" stroke-width=\"0\" viewBox=\"0 0 24 24\" size=\"14\" color=\"#c7c7c7\" height=\"14\" width=\"14\" xmlns=\"http://www.w3.org/2000/svg\" style=\"color: rgb(199, 199, 199);\"><path d=\"M12 17.27L18.18 21l-1.64-7.03L22 9.24l-7.19-.61L12 2 9.19 8.63 2 9.24l5.46 4.73L5.82 21z\"></path></svg><svg stroke=\"currentColor\" fill=\"currentColor\" stroke-width=\"0\" viewBox=\"0 0 24 24\" size=\"14\" color=\"#c7c7c7\" height=\"14\" width=\"14\" xmlns=\"http://www.w3.org/2000/svg\" style=\"color: rgb(199, 199, 199);\"><path d=\"M12 17.27L18.18 21l-1.64-7.03L22 9.24l-7.19-.61L12 2 9.19 8.63 2 9.24l5.46 4.73L5.82 21z\"></path></svg><svg stroke=\"currentColor\" fill=\"currentColor\" stroke-width=\"0\" viewBox=\"0 0 24 24\" size=\"14\" color=\"#c7c7c7\" height=\"14\" width=\"14\" xmlns=\"http://www.w3.org/2000/svg\" style=\"color: rgb(199, 199, 199);\"><path d=\"M12 17.27L18.18 21l-1.64-7.03L22 9.24l-7.19-.61L12 2 9.19 8.63 2 9.24l5.46 4.73L5.82 21z\"></path></svg></div><div class=\"average\" style=\"width: 92%;\"><svg stroke=\"currentColor\" fill=\"currentColor\" stroke-width=\"0\" viewBox=\"0 0 24 24\" size=\"14\" color=\"#fdd836\" height=\"14\" width=\"14\" xmlns=\"http://www.w3.org/2000/svg\" style=\"color: rgb(253, 216, 54);\"><path d=\"M12 17.27L18.18 21l-1.64-7.03L22 9.24l-7.19-.61L12 2 9.19 8.63 2 9.24l5.46 4.73L5.82 21z\"></path></svg><svg stroke=\"currentColor\" fill=\"currentColor\" stroke-width=\"0\" viewBox=\"0 0 24 24\" size=\"14\" color=\"#fdd836\" height=\"14\" width=\"14\" xmlns=\"http://www.w3.org/2000/svg\" style=\"color: rgb(253, 216, 54);\"><path d=\"M12 17.27L18.18 21l-1.64-7.03L22 9.24l-7.19-.61L12 2 9.19 8.63 2 9.24l5.46 4.73L5.82 21z\"></path></svg><svg stroke=\"currentColor\" fill=\"currentColor\" stroke-width=\"0\" viewBox=\"0 0 24 24\" size=\"14\" color=\"#fdd836\" height=\"14\" width=\"14\" xmlns=\"http://www.w3.org/2000/svg\" style=\"color: rgb(253, 216, 54);\"><path d=\"M12 17.27L18.18 21l-1.64-7.03L22 9.24l-7.19-.61L12 2 9.19 8.63 2 9.24l5.46 4.73L5.82 21z\"></path></svg><svg stroke=\"currentColor\" fill=\"currentColor\" stroke-width=\"0\" viewBox=\"0 0 24 24\" size=\"14\" color=\"#fdd836\" height=\"14\" width=\"14\" xmlns=\"http://www.w3.org/2000/svg\" style=\"color: rgb(253, 216, 54);\"><path d=\"M12 17.27L18.18 21l-1.64-7.03L22 9.24l-7.19-.61L12 2 9.19 8.63 2 9.24l5.46 4.73L5.82 21z\"></path></svg><svg stroke=\"currentColor\" fill=\"currentColor\" stroke-width=\"0\" viewBox=\"0 0 24 24\" size=\"14\" color=\"#fdd836\" height=\"14\" width=\"14\" xmlns=\"http://www.w3.org/2000/svg\" style=\"color: rgb(253, 216, 54);\"><path d=\"M12 17.27L18.18 21l-1.64-7.03L22 9.24l-7.19-.61L12 2 9.19 8.63 2 9.24l5.46 4.73L5.82 21z\"></path></svg></div></div><div class=\"styles__StyledSeparator-sc-732h27-1 gcwbHk\"></div><div class=\"styles__StyledQtySold-sc-732h27-2 fCfYNm\">Đã bán 1000+</div></div><div class=\"price-discount has-discount\"><div class=\"price-discount__price\">4.390.000 ₫</div><div class=\"price-discount__discount\">-36%</div></div><div class=\"badge-under-price\"><div class=\"item\"><img width=\"124\" height=\"18\" src=\"https://salt.tikicdn.com/ts/upload/51/ac/cc/528e80fe3f464f910174e2fdf8887b6f.png\"><span></span></div></div><div class=\"badge-benefits\"><div class=\"item\"><img width=\"16\" height=\"16\" src=\"https://salt.tikicdn.com/ts/upload/fc/d8/25/e61805952396b6ed4143194298112b0a.png\"><span>Trả góp</span></div></div><div class=\"badge-additional-info\"></div></div></div></span></a>'"
            ],
            "application/vnd.google.colaboratory.intrinsic+json": {
              "type": "string"
            }
          },
          "metadata": {},
          "execution_count": 197
        }
      ]
    },
    {
      "cell_type": "markdown",
      "source": [
        "**PART 2: Find 4 elements: name, price, product_url, image**"
      ],
      "metadata": {
        "id": "uK4gbcWoSpSK"
      }
    },
    {
      "cell_type": "code",
      "source": [
        "#name\n",
        "name = each_product.find_element(By.TAG_NAME, 'h3')\n",
        "print(name.text)"
      ],
      "metadata": {
        "id": "prtqj24naFnB",
        "colab": {
          "base_uri": "https://localhost:8080/"
        },
        "outputId": "c41161c1-7122-437a-d53b-a016ee012dc5"
      },
      "execution_count": 198,
      "outputs": [
        {
          "output_type": "stream",
          "name": "stdout",
          "text": [
            "Điện thoại Samsung Galaxy M23 5G (6GB/128GB) - Hàng chính hãng\n"
          ]
        }
      ]
    },
    {
      "cell_type": "code",
      "source": [
        "#price\n",
        "price = each_product.find_element(By.CLASS_NAME, 'price-discount__price')\n",
        "print(price.get_attribute('innerHTML'))"
      ],
      "metadata": {
        "id": "_-fCPKi_fT6P",
        "colab": {
          "base_uri": "https://localhost:8080/"
        },
        "outputId": "3ba11a85-8b1a-45d4-f980-c94cc5c4ce0c"
      },
      "execution_count": 199,
      "outputs": [
        {
          "output_type": "stream",
          "name": "stdout",
          "text": [
            "4.390.000 ₫\n"
          ]
        }
      ]
    },
    {
      "cell_type": "code",
      "source": [
        "#get product url\n",
        "url = each_product.get_attribute('href')\n",
        "print(url)"
      ],
      "metadata": {
        "id": "XaNVXpqZbfGH",
        "colab": {
          "base_uri": "https://localhost:8080/"
        },
        "outputId": "6e031231-54a7-461c-f635-350f669b0fcd"
      },
      "execution_count": 200,
      "outputs": [
        {
          "output_type": "stream",
          "name": "stdout",
          "text": [
            "https://tka.tiki.vn/pixel/pixel?data=djAwMaaUEufulIH8mxk_7zplKNgn412wV0ydsggJvdEHzW-POs2991EOXJsoriY4cCO4t54Zye59L7XNl_LINZNsYdOTgYsVxJkaADksQRVyaOMPyk1GglWrjmZ7JPHV0qWeWZwCrh37_jwQcXQbYeC1mlK8ijyU55WvX7CGju6nW8AUWe54g6J2UmnwWszBOIw2mI-3vA_e9gI3zxnGdF9_aRjxTBEM0d06y4L53zVRYQlB3fn1burFJMxMwZKgC9vHOAVEnLAVNCHY5eGPyG5M2tUxArcznPZ6B1qHJKR2nwI7_4zyAEqoguQQoW1YOK2FO7SPiZ-uOEJdDK3eSXMfyZrZLQe7VwcIz7ym_8VyR76qspIvjrOoDCYp402jLWx6_yOiBIYThIVAsv-8EMH15XbXdGJPw_25f2fBKs4Wu3VvJcH7bGtYTJ-GXb-9YyNdmegR6BzGenyJ7mTrqmP6aRMQ1Hc877bZPgtQkPrO0r1fKAG9ldkWeMCLl4PuFVp1R9Hk9LlRe_bohSX8cZ7e0t4QyKuVkXz8bnw9ODbepCvCJUL-FPcg_G6s02Br91ngjc244--iTHKX-EbrrD72vtwY4V0GJYQe71oFc8FzVINwX7POHeIZopiTmpF4eKBTeb075EdTp5EO4XIa03uJ4aDqVmdnFdiLj03zwhZyxMIL_US9ZRbvkiMgN7vcNs7knDriSQTdEjGaXnLBYAi4-7O-uEJjNjSEiLg56wAiMKUeFa8Nek1uSwbaouU1MR8OQYSMv4pdgHchzGmDUcs5hDrHC6pYktjjs6nZdmDpICPE7ZyQy_oTbypVq2KXP1RnO4avWy8mxH0QHjnhqdOdIO9eQXuIXMJ3Hx91DlOb1SnJuyteJo0KoIsW1kvLWOkVDrsTfHtQAhuYCV8G6_HGgP5GuAaQbQIZ2Q8aAim5PQwZvPyHWz7D9TKCD0M-GTuDKMp2Oz-8DVZHDmuAto56UElAxG46_ayLNrqK96Py6A3of_OEF7XvprO2d1QhISHFEmfmvSlc0tFQAGnmsQbWmf71Nu3xFwGyqeagu3ZnEvw6ZjTHyQfu4CNjazr_tidx3icAEdN521B1RDixbdWkl1U0U2v-x3kfKVlfHBmlEwRCjbJ81dmKZlyQM7fg3k_aHg2pS6uNpKt5c6yFFHpSYwbNG38qxJU&CLICK&reqid=dGS924zQWj&pos=1&redirect=https%3A%2F%2Ftiki.vn%2Fdien-thoai-samsung-galaxy-m23-5g-6gb-128gb-hang-chinh-hang-p172998120.html%3Fspid%3D172998263\n"
          ]
        }
      ]
    },
    {
      "cell_type": "code",
      "source": [
        "#image\n",
        "image = each_product.find_element(By.TAG_NAME, 'source')\n",
        "print(image.get_attribute('srcset'))"
      ],
      "metadata": {
        "id": "3RHVbLP_izTP",
        "colab": {
          "base_uri": "https://localhost:8080/"
        },
        "outputId": "c34a41b9-b4e3-4abd-ad14-6ad7f31773e0"
      },
      "execution_count": 201,
      "outputs": [
        {
          "output_type": "stream",
          "name": "stdout",
          "text": [
            "https://salt.tikicdn.com/cache/200x200/ts/product/8d/1b/e9/6c4b0e5309a8f34c8db4910e35b9f51d.jpg.webp\n"
          ]
        }
      ]
    },
    {
      "cell_type": "code",
      "source": [
        "#get number of sold items\n",
        "sales = each_product.find_element(By.CLASS_NAME, 'styles__StyledQtySold-sc-732h27-2').get_attribute('innerHTML').split(' ')[2].strip(' ')\n",
        "print(sales)"
      ],
      "metadata": {
        "colab": {
          "base_uri": "https://localhost:8080/"
        },
        "id": "mhcH2-BpTkHk",
        "outputId": "9bafe256-07df-45f5-d891-479eb8145a5e"
      },
      "execution_count": 202,
      "outputs": [
        {
          "output_type": "stream",
          "name": "stdout",
          "text": [
            "1000+\n"
          ]
        }
      ]
    },
    {
      "cell_type": "code",
      "source": [
        "#get discount of items\n",
        "discount = each_product.find_element(By.CLASS_NAME, 'price-discount__discount').get_attribute('innerHTML').strip('%,-')\n",
        "print(discount)"
      ],
      "metadata": {
        "colab": {
          "base_uri": "https://localhost:8080/"
        },
        "id": "MKAoD5_vGOoC",
        "outputId": "bc7550f7-289e-441e-dab7-89ff462c3ce6"
      },
      "execution_count": 203,
      "outputs": [
        {
          "output_type": "stream",
          "name": "stdout",
          "text": [
            "36\n"
          ]
        }
      ]
    },
    {
      "cell_type": "code",
      "source": [
        "#check if item have Tiki Now\n",
        "# tiki_now = each_product.find_element(By.CLASS_NAME, 'badge-service').get_attribute('innerHTML')\n",
        "print(tiki_now)\n",
        "def tiki_now_check(tiki_now):\n",
        "  if tiki_now is None:\n",
        "    return False\n",
        "  else:\n",
        "    return True\n",
        "print(tiki_now_check(tiki_now))"
      ],
      "metadata": {
        "colab": {
          "base_uri": "https://localhost:8080/"
        },
        "id": "tTnV5RzAX46T",
        "outputId": "397f2fb7-9046-43a7-9f94-b977f887b8f8"
      },
      "execution_count": 204,
      "outputs": [
        {
          "output_type": "stream",
          "name": "stdout",
          "text": [
            "<div class=\"item\"><div><img width=\"56\" height=\"16\" src=\"https://salt.tikicdn.com/ts/upload/9f/32/dd/8a8d39d4453399569dfb3e80fe01de75.png\"></div><span style=\"color: rgb(0, 171, 86);\">GIAO SÁNG MAI</span></div>\n",
            "True\n"
          ]
        }
      ]
    },
    {
      "cell_type": "code",
      "source": [
        "#create a function that aggregates the above information\n",
        "def scrap_item(item):\n",
        "  try:\n",
        "    name = item.find_element(By.TAG_NAME, 'h3').get_attribute('innerHTML')\n",
        "  except:\n",
        "    name = ''\n",
        "  try:\n",
        "    price = item.find_element(By.CLASS_NAME, 'price-discount__price').get_attribute('innerHTML')\n",
        "  except:\n",
        "    price = ''\n",
        "  try:\n",
        "    url = item.get_attribute('href')\n",
        "  except:\n",
        "    url = ''\n",
        "  try:\n",
        "    image = item.find_element(By.TAG_NAME, 'source').get_attribute('srcset')\n",
        "  except:\n",
        "    image = ''\n",
        "  try:\n",
        "    sales = item.find_element(By.CLASS_NAME, 'styles__StyledQtySold-sc-732h27-2').get_attribute('innerHTML').split(' ')[2].strip('+')\n",
        "  except:\n",
        "    sales = ''\n",
        "  try:\n",
        "    discount = item.find_element(By.CLASS_NAME, 'price-discount__discount').get_attribute('innerHTML').strip('%,-')\n",
        "  except:\n",
        "    discount = ''\n",
        "  try:\n",
        "    tiki_now = tiki_now_check(item.find_element(By.CLASS_NAME, 'badge-service').get_attribute('innerHTML'))\n",
        "  except:\n",
        "    tiki_now = False\n",
        "  try:\n",
        "    free_ship = free_ship_check(item.find_element(By.CLASS_NAME, 'thumbnail').get_attribute('https://salt.tikicdn.com/ts/upload/dc/0d/49/3251737db2de83b74eba8a9ad6d03338.png'))\n",
        "  except:\n",
        "    free_ship = False\n",
        "\n",
        "  info = {\n",
        "      'name' : name,\n",
        "      'price' : price,\n",
        "      'url': url,\n",
        "      'image' : image,\n",
        "      'sales' : sales,\n",
        "      'discount' : discount,\n",
        "      'tiki_now' : tiki_now,\n",
        "  }\n",
        "  return info"
      ],
      "metadata": {
        "id": "hqSHYlcspFU-"
      },
      "execution_count": 205,
      "outputs": []
    },
    {
      "cell_type": "code",
      "source": [
        "extracted_items = []\n"
      ],
      "metadata": {
        "id": "2mMAbpiJPryn"
      },
      "execution_count": 206,
      "outputs": []
    },
    {
      "cell_type": "code",
      "source": [
        "from selenium.common.exceptions import StaleElementReferenceException"
      ],
      "metadata": {
        "id": "fjBmnfNi3413"
      },
      "execution_count": 207,
      "outputs": []
    },
    {
      "cell_type": "code",
      "source": [
        "for item in products:\n",
        "  extracted_items.append(scrap_item(item))"
      ],
      "metadata": {
        "id": "tIrrgJApqfti"
      },
      "execution_count": 208,
      "outputs": []
    },
    {
      "cell_type": "code",
      "source": [
        "print(extracted_items)"
      ],
      "metadata": {
        "id": "ECVnXM36rEEd",
        "colab": {
          "base_uri": "https://localhost:8080/"
        },
        "outputId": "b2b4ed7f-e949-4574-c094-2ebc4eb4c212"
      },
      "execution_count": 209,
      "outputs": [
        {
          "output_type": "stream",
          "name": "stdout",
          "text": [
            "[{'name': 'Điện thoại Samsung Galaxy M23 5G (6GB/128GB) - Hàng chính hãng', 'price': '4.390.000 ₫', 'url': 'https://tka.tiki.vn/pixel/pixel?data=djAwMaaUEufulIH8mxk_7zplKNgn412wV0ydsggJvdEHzW-POs2991EOXJsoriY4cCO4t54Zye59L7XNl_LINZNsYdOTgYsVxJkaADksQRVyaOMPyk1GglWrjmZ7JPHV0qWeWZwCrh37_jwQcXQbYeC1mlK8ijyU55WvX7CGju6nW8AUWe54g6J2UmnwWszBOIw2mI-3vA_e9gI3zxnGdF9_aRjxTBEM0d06y4L53zVRYQlB3fn1burFJMxMwZKgC9vHOAVEnLAVNCHY5eGPyG5M2tUxArcznPZ6B1qHJKR2nwI7_4zyAEqoguQQoW1YOK2FO7SPiZ-uOEJdDK3eSXMfyZrZLQe7VwcIz7ym_8VyR76qspIvjrOoDCYp402jLWx6_yOiBIYThIVAsv-8EMH15XbXdGJPw_25f2fBKs4Wu3VvJcH7bGtYTJ-GXb-9YyNdmegR6BzGenyJ7mTrqmP6aRMQ1Hc877bZPgtQkPrO0r1fKAG9ldkWeMCLl4PuFVp1R9Hk9LlRe_bohSX8cZ7e0t4QyKuVkXz8bnw9ODbepCvCJUL-FPcg_G6s02Br91ngjc244--iTHKX-EbrrD72vtwY4V0GJYQe71oFc8FzVINwX7POHeIZopiTmpF4eKBTeb075EdTp5EO4XIa03uJ4aDqVmdnFdiLj03zwhZyxMIL_US9ZRbvkiMgN7vcNs7knDriSQTdEjGaXnLBYAi4-7O-uEJjNjSEiLg56wAiMKUeFa8Nek1uSwbaouU1MR8OQYSMv4pdgHchzGmDUcs5hDrHC6pYktjjs6nZdmDpICPE7ZyQy_oTbypVq2KXP1RnO4avWy8mxH0QHjnhqdOdIO9eQXuIXMJ3Hx91DlOb1SnJuyteJo0KoIsW1kvLWOkVDrsTfHtQAhuYCV8G6_HGgP5GuAaQbQIZ2Q8aAim5PQwZvPyHWz7D9TKCD0M-GTuDKMp2Oz-8DVZHDmuAto56UElAxG46_ayLNrqK96Py6A3of_OEF7XvprO2d1QhISHFEmfmvSlc0tFQAGnmsQbWmf71Nu3xFwGyqeagu3ZnEvw6ZjTHyQfu4CNjazr_tidx3icAEdN521B1RDixbdWkl1U0U2v-x3kfKVlfHBmlEwRCjbJ81dmKZlyQM7fg3k_aHg2pS6uNpKt5c6yFFHpSYwbNG38qxJU&CLICK&reqid=dGS924zQWj&pos=1&redirect=https%3A%2F%2Ftiki.vn%2Fdien-thoai-samsung-galaxy-m23-5g-6gb-128gb-hang-chinh-hang-p172998120.html%3Fspid%3D172998263', 'image': 'https://salt.tikicdn.com/cache/200x200/ts/product/8d/1b/e9/6c4b0e5309a8f34c8db4910e35b9f51d.jpg.webp', 'sales': '1000', 'discount': '36', 'tiki_now': False}, {'name': 'Điện thoại Samsung Galaxy A52s 5G (8GB/128GB) - Hàng chính hãng', 'price': '8.490.000 ₫', 'url': 'https://tka.tiki.vn/pixel/pixel?data=djAwMUkg4B9aqwlpPxA_0xq7vyHqUAa3fZ7BCyUCEX-_7fEogLTI4ziGAgIFllUdWFnWtHMoUn4SwWrAZ_1gseU20M-vRemqUH4uvhnIOPs12m6xSrQvPEY2P-RN8r0iLHvosVU-3X8isMbCKdnf03nesWVbaQwrwpt3gy9MEPkQbZx6l0usNaiNv7GXlCo8TsfixwQlmp9dYmlB9y5mRR4leunZS_xoSpoeFg4ewUxOdqOi3eLku678DPBh85JyUNFdZtTzfnpGBNzeZ_dVSJcmBKN0PBd783LhMZJXaHq-kTjuy413cX33LNEQWpFGau5BD4YssbneZtdBOghf8P_1nW_RAZlGeRZIVzwBPowGkbGzpunfU-Ipq8r35eGYC9MoQnBj9g0D8ktUaKl2f7oUNsVlqAX1ui_fht02AiZXMs-WDa0wbmq06Wy6tVeQe-f1gmtNh5LvpIj5NuBDQlAF7ONCqwx4oppgplUS5tU1EASBrXS7Pw92N3FPP1pmG3C_Sa7Gdfb2yTBQSrqNMquRffZng7G5D9LGHHl0E9zwC1k37va4tYuM3ue_naAnePtgAGzXjcWWWi24p5MV-Dwn0eYRdkX0gpxWYHruENBiS1FW2d1yXJeTYiDUuHz4N1r_qBF9O6liSaXrL6JbQrPHqIz5UKMGD7LkZpbmnrmUmrSdBhBkaILv21tr1y4AaM5_XfbuSjKaA-WeLBHOVSmZv9weumt46wXUTinTN94aWo3m214jF1u3YuTBc6q3BZgJ5c0__mGs52D55pS4OY7LdWjkTbZLLvqZwTqMHoSrZ-b4_f1WBheBPvZrO0y96pmyuGfTI3vvxwPfLbo--pK7YnVwQvo_dVTEhGWnbjjjSbUOVheqGEri7dJRgTmv-X7V5_6xFLkfuKIcM2a7sZ32yPHZKCBjO3s-KDXqISZEC1PImKD9B4sBbEw1pIw7g43-1ddzS6eEt_nqcyb_xv-yMV5nQh-8ceWq3jzkGPWlwcv402h_xMOh8fhO318Ld3wjQ_A90yfX92rUncC3TXRF3C0a7OE_ZB57G7W86hwIdxvYDTn3f_UBqaxpC2bm8D4qGLo-GYsbWP0vwcqjinIpt1xVLY_rmocI75eBeBhUf5VMpOIyBsZGqjvduIDY2ugQ7ebui1P7biwkRosSuGP5Cy-hf-L-&CLICK&reqid=dGS924zQWj&pos=5&redirect=https%3A%2F%2Ftiki.vn%2Fdien-thoai-samsung-galaxy-a52s-5g-8gb-128gb-hang-chinh-hang-p138932606.html%3Fspid%3D138932697', 'image': 'https://salt.tikicdn.com/cache/200x200/ts/product/ab/f3/e4/bb33e0a4e97f749617c6b6603223edef.png.webp', 'sales': '1000', 'discount': '6', 'tiki_now': False}, {'name': 'Điện thoại Samsung M33 5G (8Gb/128GB) - Hàng chính hãng', 'price': '4.790.000 ₫', 'url': 'https://tka.tiki.vn/pixel/pixel?data=djAwMSfqEggUK9eVF9jwlBgL2UQSPX5iZXNqkTkLHo3HaPudqoG33tC19GLrapBvRN6FbiYG5LcOJbfik4nNaycxYL68Wb9i0_GeIQInGawoK6KQM57kGm5EdqlZ2tvj4NJ1VB-X0LwzuoKNH8DAurfVwFfYai5MvYrcLieCcbaiDWA1_ksek3IcZ3Al3ISp6-6F1cac0bAunVASxuKxJK3mCs6b6IGiMQ9b71hNLg-QTITMQNDvwlaxfa77hen1fgWP-Lh0zsgfXcS2mcM8G81hoiFfexf_0y1O_EaB4jCjjMu91jTKrukm0VR7VfELdEQSCdV0nHS_4eEOGg2IlbmRjsb8NCPxwg9kROTwG0P_3zO21LtWkSNbWHHQP2gC0VsyGfipxtdjSgJ6E7yiENZ1D8FSnWPnimrKyni3wcTnt7MUcZa_v66r8Uqr_DPP8KhYVRaesF5Emy48rIzo_s_gcBDOBL8FugJ3_P1J2EsimYNCRvQ9m_UbDmUkif4omVsik6RA0PDfNcX2Iq2IRzQZXdcxiQMKy6vatW76VtuzyayBLdNdw7H4lwMPWdDMy1SRVLD_L-IdMF_4Umt_qIpkGIhdtUcvQfGpOfd47X6yGsL27JKybP_sGhY6BAXOVgCTuEyeBS5M-0OKkZFdw7obUdpiw8dlym5rEeN_qYw8EB2--DhxqL3RkbX2sdtYA6-n-Dt1wY4wWXm53pVD8wFUPz20Exuw0DreFIlBF5lfGjy-BotghOwXFXjW7Zrtcm9VhEJODZNVNgdVNDr29FM3XrQ41JSf1-ndxZo0Zx8J-Qoqlx_4ZXqskr_LL1lf1pGRUTMUFTHdq2zdcJtUzBBM4pea1M5ylHWabDH5eVqPgg7hi60iAjfbOR669tPINZqyF75_VxWDpGbWpIWUX1yFPpQ1u4kuerOjx8WfJT7WkE-OAu652F-souENRoj6H_HQUdU6WDhk4-kL9FVlQIf2BOtnz-Mll-UT3AOZGme7aXFhJwd2OTFyJ-Ofyds94PemufQPByHhAJuSZWuqU1oD4YYhWXPQkj8Kytr9hySt2o3ksLoUypI7sPr1DVAIovQsG9tyVixMd9i3iraR1uGL0P_F1CYcYOCtRi_nyv2xtpGe4FXynh31DTB_DNWXuRyqlnFe3-8AsHIl1nAfJZGTVtnOyDa2NG5oNkmWsjs&CLICK&reqid=dGS924zQWj&pos=9&redirect=https%3A%2F%2Ftiki.vn%2Fdien-thoai-samsung-m33-5g-8gb-128gb-hang-chinh-hang-p173383634.html%3Fspid%3D173383638', 'image': 'https://salt.tikicdn.com/cache/200x200/ts/product/a2/35/bf/bc875477f3dd131825e6451b1f57f0fb.jpg.webp', 'sales': '581', 'discount': '40', 'tiki_now': False}, {'name': 'Máy Đọc Sách All New Kindle 2019 (10th) – Hàng Chính Hãng', 'price': '2.245.000 ₫', 'url': 'https://tka.tiki.vn/pixel/pixel?data=djAwMRLX0qZDU37lvWPdKx3y77LZo429sxkWExRGo0LISYrGXQbjAfHRF3OqurEECnHEX2FcVDIFM-Vh76w5kMXGXz7XpVD19XvA6ZAGP3-TmwKOoghdI5CS5w4sps6cVG7kChrPdY0qy3I_zkOtQZ7fjBxCLcUnX1YbckPjrKXdXh4cNpKgWZ7xOuqAI_SEw60qcbWaVPUxHeOVNnItQIVzoztG0dKdYfBFxEvGNlrznkFoPpioaYAvCHLwd8RQcPxVHtn1Hdarr8LRHU723TPsBw8-JkJ7ZK-USsFUeJuqvqIX2n2WTrPDILT8s7T8dbUeiz3aWutORoAAdCQkfsfpPzEO6tqCsQSgJPTIDy-OzpAGnSR01rdXovw_mn_KIKE2dYJ2N0ynq25xEDn9VWDJKNc02QlvgbfFXxDlU0GjhG7TXBOst_tdF4WQwsexAJESbTL__payrjm2JZhWKq9Zx3_k2qjbcox8EkVCwSEJ01AaHQEEp5sWBQ6iqbuLcDFHqMcoV844zQDR4wZdjw4nTljBMtBy9X4w0eWlYQSM1C4qDgz2nJ0Qsd2VqOQ8UTC_QxUmUBkyfWDJ-2eIUMb8m6rQ7lWvOvxh74bgmLUnDscfKNj8n4DcmVC6Q7mgexR2Z1_l9tpx1Eg2XBKqRJwJlO6f2B_4PWPDVqXThdT4Coaddi8JeUit3Kf1hUO7__bDvT1dJnjIaXdIIwURTSSpMvOZwnIFc0wmcUxd2aCXTnCtmUM02d_PoBL-i7qmEpeR2Ya_UDKJoHXiqtQ2yh9kiJ5EHnFZ4R6RjAKXWseooI7Uk2OQ6DLmAhbWwLIUt5Jvk0gv-kwbfl6DDJGb3sBtxjacQZeiCZIugqdjF9oz7tpzdZwWWN9IBemqDYcaKMsCw3r0vl6uMQG4z5HW4S2vrf2tyV1bTchJv8pbDPb-Leon17yqPwopFu6iwK92Is5nz5nwY2MWZbh9V3_ICOxIJJD7NQ-pHT-MOV1kmOV1-t1O3BScN6XqsBo8DxYgbNqI8t35IceUoRkuDafzlvX6o_dgBnm1S2f6gG1wdXqNW07wFl18NVqxYMm_S0Ot152kWhvs19E1JRNfZnawP_T4xI2znO0zKjjKjC0hEqWnODqaN35hHLur0oKsdIZzMFZ2Grv8zyPF-Vd02050zm5G_O4fXJAlqoVrsxKQtgXtVtXKHqk&CLICK&reqid=dGS924zQWj&pos=13&redirect=https%3A%2F%2Ftiki.vn%2Fmay-doc-sach-all-new-kindle-2019-10th-hang-chinh-hang-p14507169.html%3Fspid%3D17616548', 'image': 'https://salt.tikicdn.com/cache/200x200/ts/product/16/b4/f9/8fe857a1ff126b7979a0ddc34ec8e400.jpg.webp', 'sales': '441', 'discount': '2', 'tiki_now': False}, {'name': 'Điện thoại Samsung Galaxy M51 - Hàng Chính Hãng', 'price': '7.690.000 ₫', 'url': 'https://tiki.vn/dien-thoai-samsung-galaxy-m51-hang-chinh-hang-p122074543.html?itm_campaign=tiki-reco_UNK_DT_UNK_UNK_tiki-listing_UNK_p-category-mpid-listing-v1_202207060600_MD_batched_PID.164196312&itm_medium=CPC&itm_source=tiki-reco&spid=164196312', 'image': 'https://salt.tikicdn.com/cache/200x200/ts/product/7f/60/5d/3a8b3981d83f08f8216602f18799192a.jpg.webp', 'sales': '1000', 'discount': '19', 'tiki_now': False}, {'name': 'Máy tính bảng Samsung Galaxy Tab A7 Lite LTE SM-T225 - Hàng Chính Hãng', 'price': '3.490.000 ₫', 'url': 'https://tiki.vn/may-tinh-bang-samsung-galaxy-tab-a7-lite-lte-sm-t225-hang-chinh-hang-p103168071.html?itm_campaign=tiki-reco_UNK_DT_UNK_UNK_tiki-listing_UNK_p-category-mpid-listing-v1_202207060600_MD_batched_PID.106235721&itm_medium=CPC&itm_source=tiki-reco&spid=106235721', 'image': 'https://salt.tikicdn.com/cache/200x200/ts/product/a0/89/ee/618e5a53ae8d628ff846a87f7e1751ce.PNG.webp', 'sales': '1000', 'discount': '13', 'tiki_now': False}, {'name': 'Điện thoại Xiaomi Redmi 9A (2GB/32GB) - Hàng chính hãng', 'price': '2.109.000 ₫', 'url': 'https://tiki.vn/dien-thoai-xiaomi-redmi-9a-2gb-32gb-hang-chinh-hang-p57809866.html?itm_campaign=tiki-reco_UNK_DT_UNK_UNK_tiki-listing_UNK_p-category-mpid-listing-v1_202207060600_MD_batched_PID.77748304&itm_medium=CPC&itm_source=tiki-reco&spid=77748304', 'image': 'https://salt.tikicdn.com/cache/200x200/ts/product/d8/03/93/df934a481f63db4ed0471ee5264774ae.jpg.webp', 'sales': '53', 'discount': '15', 'tiki_now': False}, {'name': 'Máy tính bảng Samsung Galaxy Tab A8 (4GB/64GB) - Hàng Chính Hãng', 'price': '5.890.000 ₫', 'url': 'https://tiki.vn/may-tinh-bang-samsung-galaxy-tab-a8-4gb-64gb-hang-chinh-hang-p158742790.html?itm_campaign=tiki-reco_UNK_DT_UNK_UNK_tiki-listing_UNK_p-category-mpid-listing-v1_202207060600_MD_batched_PID.158742794&itm_medium=CPC&itm_source=tiki-reco&spid=158742794', 'image': 'https://salt.tikicdn.com/cache/200x200/ts/product/99/af/54/9ec147039f23a07c4b904e1c23e58aeb.jpg.webp', 'sales': '87', 'discount': '31', 'tiki_now': False}, {'name': 'Điện Thoại Samsung Galaxy M32 (8GB/128GB) - Hàng Chính Hãng - Đã kích hoạt bảo hành điện tử', 'price': '4.490.000 ₫', 'url': 'https://tiki.vn/dien-thoai-samsung-galaxy-m32-8gb-128gb-hang-chinh-hang-da-kich-hoat-bao-hanh-dien-tu-p128865871.html?itm_campaign=tiki-reco_UNK_DT_UNK_UNK_tiki-listing_UNK_p-category-mpid-listing-v1_202207060600_MD_batched_PID.128865875&itm_medium=CPC&itm_source=tiki-reco&spid=128865875', 'image': 'https://salt.tikicdn.com/cache/200x200/ts/product/c8/3b/14/8b7eca55c73f963f24b7f495d77abbba.jpg.webp', 'sales': '371', 'discount': '25', 'tiki_now': True}, {'name': 'Điện thoại Samsung Galaxy A03s (4GB/64GB) - Hàng chính hãng', 'price': '3.090.000 ₫', 'url': 'https://tiki.vn/dien-thoai-samsung-galaxy-a03s-4gb-64gb-hang-chinh-hang-p120450353.html?itm_campaign=tiki-reco_UNK_DT_UNK_UNK_tiki-listing_UNK_p-category-mpid-listing-v1_202207060600_MD_batched_PID.126022664&itm_medium=CPC&itm_source=tiki-reco&spid=126022664', 'image': 'https://salt.tikicdn.com/cache/200x200/ts/product/be/83/73/79ac456ddfc8f355556c5b752e611408.jpg.webp', 'sales': '1000', 'discount': '', 'tiki_now': True}, {'name': 'Tecno Pova 2 6GB l 128GB - Điện Thoại Thông Minh Chiến Game Cực Đỉnh - Hàng Chính Hãng', 'price': '3.579.000 ₫', 'url': 'https://tiki.vn/tecno-pova-2-6gb-l-128gb-dien-thoai-thong-minh-chien-game-cuc-dinh-hang-chinh-hang-p103046198.html?itm_campaign=tiki-reco_UNK_DT_UNK_UNK_tiki-listing_UNK_p-category-mpid-listing-v1_202207060600_MD_batched_PID.168423771&itm_medium=CPC&itm_source=tiki-reco&spid=168423771', 'image': 'https://salt.tikicdn.com/cache/200x200/ts/product/08/b3/eb/fe183beb8a9075721b2b011d3f52ad35.png.webp', 'sales': '883', 'discount': '28', 'tiki_now': True}, {'name': 'Máy Tính Bảng Samsung Galaxy Tab S7 FE LTE T735 (4GB/64GB) - Hàng Chính Hãng', 'price': '9.690.000 ₫', 'url': 'https://tiki.vn/may-tinh-bang-samsung-galaxy-tab-s7-fe-lte-t735-4gb-64gb-hang-chinh-hang-p113920312.html?itm_campaign=tiki-reco_UNK_DT_UNK_UNK_tiki-listing_UNK_p-category-mpid-listing-v1_202207060600_MD_batched_PID.113920316&itm_medium=CPC&itm_source=tiki-reco&spid=113920316', 'image': 'https://salt.tikicdn.com/cache/200x200/ts/product/f1/1d/b1/1b81efd33683c930ee9cf9d9ec3c37b6.jpg.webp', 'sales': '263', 'discount': '31', 'tiki_now': True}, {'name': 'Điện Thoại Oppo A16k (3GB/32G) - Hàng Chính Hãng', 'price': '2.880.000 ₫', 'url': 'https://tiki.vn/dien-thoai-oppo-a16k-3gb-32g-hang-chinh-hang-p142545270.html?itm_campaign=tiki-reco_UNK_DT_UNK_UNK_tiki-listing_UNK_p-category-mpid-listing-v1_202207060600_MD_batched_PID.142545275&itm_medium=CPC&itm_source=tiki-reco&spid=142545275', 'image': 'https://salt.tikicdn.com/cache/200x200/ts/product/2b/d3/af/f3793099025547b24be378b165c8b839.jpg.webp', 'sales': '1000', 'discount': '10', 'tiki_now': True}, {'name': 'Điện Thoại Oppo A94 (8GB/128G) - Hàng Chính Hãng', 'price': '4.790.000 ₫', 'url': 'https://tiki.vn/dien-thoai-oppo-a94-8gb-128g-hang-chinh-hang-p88255880.html?itm_campaign=tiki-reco_UNK_DT_UNK_UNK_tiki-listing_UNK_p-category-mpid-listing-v1_202207060600_MD_batched_PID.88255888&itm_medium=CPC&itm_source=tiki-reco&spid=88255888', 'image': 'https://salt.tikicdn.com/cache/200x200/media/catalog/producttmp/ee/9d/31/5c184fb4b3c1f0eb901ad9fbcb80e0f0.jpg.webp', 'sales': '1000', 'discount': '6', 'tiki_now': True}, {'name': 'Apple iPhone 13', 'price': '18.990.000 ₫', 'url': 'https://tiki.vn/apple-iphone-13-hang-chinh-hang-p184059211.html?itm_campaign=tiki-reco_UNK_DT_UNK_UNK_tiki-listing_UNK_p-category-mpid-listing-v1_202207060600_MD_batched_PID.168778791&itm_medium=CPC&itm_source=tiki-reco&spid=168778791', 'image': 'https://salt.tikicdn.com/cache/200x200/ts/product/c2/95/b0/405e3bc7267cd545c76fd6eb93fa6045.png.webp', 'sales': '1000', 'discount': '24', 'tiki_now': True}, {'name': 'Điện Thoại Oppo Reno 6Z 5G (8GB/128G) - Hàng Chính Hãng', 'price': '6.090.000 ₫', 'url': 'https://tiki.vn/dien-thoai-oppo-reno-6z-5g-8gb-128g-hang-chinh-hang-p113569117.html?itm_campaign=tiki-reco_UNK_DT_UNK_UNK_tiki-listing_UNK_p-category-mpid-listing-v1_202207060600_MD_batched_PID.113569119&itm_medium=CPC&itm_source=tiki-reco&spid=113569119', 'image': 'https://salt.tikicdn.com/cache/200x200/ts/product/0d/f4/c6/ca9484b98ecce0a5c65273e4203a010c.jpg.webp', 'sales': '788', 'discount': '19', 'tiki_now': True}, {'name': 'Máy đọc sách All New Kindle Paperwhite 5 (11th Gen) - Hàng nhập khẩu', 'price': '3.825.000 ₫', 'url': 'https://tiki.vn/may-doc-sach-all-new-kindle-paperwhite-5-11th-gen-hang-nhap-khau-p125182567.html?itm_campaign=tiki-reco_UNK_DT_UNK_UNK_tiki-listing_UNK_p-category-mpid-listing-v1_202207060600_MD_batched_PID.125182569&itm_medium=CPC&itm_source=tiki-reco&spid=125182569', 'image': 'https://salt.tikicdn.com/cache/200x200/ts/product/43/dd/97/75d04cd242f6d891fd867fa7a599c70d.jpg.webp', 'sales': '429', 'discount': '4', 'tiki_now': False}, {'name': 'Điện Thoại Nokia C20 2GB/16GB - Hàng Chính Hãng', 'price': '1.450.000 ₫', 'url': 'https://tiki.vn/dien-thoai-nokia-c20-2gb-16gb-hang-chinh-hang-p135332196.html?itm_campaign=tiki-reco_UNK_DT_UNK_UNK_tiki-listing_UNK_p-category-mpid-listing-v1_202207060600_MD_batched_PID.140621855&itm_medium=CPC&itm_source=tiki-reco&spid=140621855', 'image': 'https://salt.tikicdn.com/cache/200x200/ts/product/8e/35/52/ed08b60625056b13aef6a9e79d478ba0.jpg.webp', 'sales': '156', 'discount': '52', 'tiki_now': False}, {'name': 'Điện Thoại OnePlus  Nord CE 5G (12GB/256G) - Hàng Chính Hãng', 'price': '7.350.000 ₫', 'url': 'https://tiki.vn/dien-thoai-oneplus-nord-ce-5g-12gb-256g-hang-chinh-hang-p109516584.html?itm_campaign=tiki-reco_UNK_DT_UNK_UNK_tiki-listing_UNK_p-category-mpid-listing-v1_202207060600_MD_batched_PID.109516586&itm_medium=CPC&itm_source=tiki-reco&spid=109516586', 'image': 'https://salt.tikicdn.com/cache/200x200/media/catalog/producttmp/7f/9d/33/1c59622f95960307a548e119631b6a57.jpg.webp', 'sales': '369', 'discount': '13', 'tiki_now': True}, {'name': 'Apple iPhone 12', 'price': '15.650.000 ₫', 'url': 'https://tiki.vn/apple-iphone-12-hang-chinh-hang-p123345348.html?itm_campaign=tiki-reco_UNK_DT_UNK_UNK_tiki-listing_UNK_p-category-mpid-listing-v1_202207060600_MD_batched_PID.70766425&itm_medium=CPC&itm_source=tiki-reco&spid=70766425', 'image': 'https://salt.tikicdn.com/cache/200x200/ts/product/e0/c9/78/e028f9346e1922b0aadc750f272609c3.jpg.webp', 'sales': '1000', 'discount': '13', 'tiki_now': True}, {'name': 'Máy tính bảng Samsung Galaxy Tab A7 Lite LTE SM-T225) - ĐÃ KÍCH HOẠT ĐIỆN TỬ - Hàng Chính Hãng', 'price': '3.270.000 ₫', 'url': 'https://tiki.vn/may-tinh-bang-samsung-galaxy-tab-a7-lite-lte-sm-t225-da-kich-hoat-dien-tu-hang-chinh-hang-p103168844.html?itm_campaign=tiki-reco_UNK_DT_UNK_UNK_tiki-listing_UNK_p-category-mpid-listing-v1_202207060600_MD_batched_PID.104310220&itm_medium=CPC&itm_source=tiki-reco&spid=104310220', 'image': 'https://salt.tikicdn.com/cache/200x200/ts/product/8c/b5/b4/e1ac0b3ac896ce2d1a73dcd9fae0c891.jpg.webp', 'sales': '285', 'discount': '34', 'tiki_now': True}, {'name': 'Điện Thoại Oppo A55 (4GB/64GB) - Hàng Chính Hãng', 'price': '3.750.000 ₫', 'url': 'https://tiki.vn/dien-thoai-oppo-a55-4gb-64gb-hang-chinh-hang-p132068858.html?itm_campaign=tiki-reco_UNK_DT_UNK_UNK_tiki-listing_UNK_p-category-mpid-listing-v1_202207060600_MD_batched_PID.179554821&itm_medium=CPC&itm_source=tiki-reco&spid=179554821', 'image': 'https://salt.tikicdn.com/cache/200x200/ts/product/c4/df/69/0b19fbd523ac82dc230115e15097c4d4.jpg.webp', 'sales': '1000', 'discount': '25', 'tiki_now': False}, {'name': 'Điện thoại Samsung Galaxy A13 (4GB/128GB) - Hàng chính hãng', 'price': '4.190.000 ₫', 'url': 'https://tiki.vn/dien-thoai-samsung-galaxy-a13-5g-4gb-128gb-hang-chinh-hang-p170580388.html?itm_campaign=tiki-reco_UNK_DT_UNK_UNK_tiki-listing_UNK_p-category-mpid-listing-v1_202207060600_MD_batched_PID.170580396&itm_medium=CPC&itm_source=tiki-reco&spid=170580396', 'image': 'https://salt.tikicdn.com/cache/200x200/ts/product/e1/cf/5d/9254fea013f1bea675837040726059de.jpg.webp', 'sales': '1000', 'discount': '16', 'tiki_now': False}, {'name': 'Điện thoại Xiaomi 11 Lite 5G NE (6GB/128GB) - Hàng chính hãng', 'price': '7.440.000 ₫', 'url': 'https://tiki.vn/dien-thoai-xiaomi-11-lite-5g-ne-6gb-128gb-hang-chinh-hang-p127076431.html?itm_campaign=tiki-reco_UNK_DT_UNK_UNK_tiki-listing_UNK_p-category-mpid-listing-v1_202207060600_MD_batched_PID.127076433&itm_medium=CPC&itm_source=tiki-reco&spid=127076433', 'image': 'https://salt.tikicdn.com/cache/200x200/ts/product/56/c3/ab/88edd87eb5d85f8a2cd49986ad6e7ea3.jpg.webp', 'sales': '89', 'discount': '29', 'tiki_now': False}, {'name': 'Apple iPhone 13 Pro Max', 'price': '26.990.000 ₫', 'url': 'https://tiki.vn/apple-iphone-13-pro-max-hang-chinh-hang-p184061913.html?itm_campaign=tiki-reco_UNK_DT_UNK_UNK_tiki-listing_UNK_p-category-mpid-listing-v1_202207060600_MD_batched_PID.123554543&itm_medium=CPC&itm_source=tiki-reco&spid=123554543', 'image': 'https://salt.tikicdn.com/cache/200x200/ts/product/ba/10/c4/73687507829537b49d0cc16288d83336.jpg.webp', 'sales': '1000', 'discount': '21', 'tiki_now': False}, {'name': 'Điện Thoại Bàn Panasonic KX-TSC11 - Hàng Chính Hãng', 'price': '539.600 ₫', 'url': 'https://tiki.vn/dien-thoai-ban-panasonic-kx-tsc11-hang-chinh-hang-p125171841.html?itm_campaign=tiki-reco_UNK_DT_UNK_UNK_tiki-listing_UNK_p-category-mpid-listing-v1_202207060600_MD_batched_PID.171865419&itm_medium=CPC&itm_source=tiki-reco&spid=171865419', 'image': 'https://salt.tikicdn.com/cache/200x200/ts/product/c1/14/e0/d06efd03bd2d169f22e2c451d7a97b1e.jpg.webp', 'sales': '83', 'discount': '5', 'tiki_now': False}, {'name': 'Điện Thoại Nokia C30 (2GB/32GB) - Hàng Chính Hãng', 'price': '1.920.000 ₫', 'url': 'https://tiki.vn/dien-thoai-nokia-c30-2gb-32gb-hang-chinh-hang-p120295859.html?itm_campaign=tiki-reco_UNK_DT_UNK_UNK_tiki-listing_UNK_p-category-mpid-listing-v1_202207060600_MD_batched_PID.135545307&itm_medium=CPC&itm_source=tiki-reco&spid=135545307', 'image': 'https://salt.tikicdn.com/cache/200x200/ts/product/6a/4a/d3/696c5f6aa4810d0ed3cb8b354010c60f.jpg.webp', 'sales': '32', 'discount': '2', 'tiki_now': False}, {'name': 'Điện thoại Samsung Galaxy A53 5G (8GB/128GB) - Hàng chính hãng', 'price': '7.990.000 ₫', 'url': 'https://tiki.vn/dien-thoai-samsung-galaxy-a53-5g-8gb-128gb-hang-chinh-hang-p170497385.html?itm_campaign=tiki-reco_UNK_DT_UNK_UNK_tiki-listing_UNK_p-category-mpid-listing-v1_202207060600_MD_batched_PID.170497393&itm_medium=CPC&itm_source=tiki-reco&spid=170497393', 'image': 'https://salt.tikicdn.com/cache/200x200/ts/product/3c/e8/1a/f44dba5ffb3d423fab1677e2963c01af.jpg.webp', 'sales': '187', 'discount': '20', 'tiki_now': False}, {'name': 'Điện thoại di động Vivo Y21s (4GB/128GB) - Hàng chính hãng', 'price': '3.890.000 ₫', 'url': 'https://tiki.vn/dien-thoai-di-dong-vivo-y21s-4gb-128gb-hang-chinh-hang-p123565891.html?itm_campaign=tiki-reco_UNK_DT_UNK_UNK_tiki-listing_UNK_p-category-mpid-listing-v1_202207060600_MD_batched_PID.123565893&itm_medium=CPC&itm_source=tiki-reco&spid=123565893', 'image': 'https://salt.tikicdn.com/cache/200x200/ts/product/e6/b8/02/65387a09b2db64c461294e1809d4d507.jpg.webp', 'sales': '1000', 'discount': '26', 'tiki_now': True}, {'name': 'Apple iPhone 11', 'price': '10.990.000 ₫', 'url': 'https://tiki.vn/apple-iphone-11-p184036446.html?itm_campaign=tiki-reco_UNK_DT_UNK_UNK_tiki-listing_UNK_p-category-mpid-listing-v1_202207060600_MD_batched_PID.32033721&itm_medium=CPC&itm_source=tiki-reco&spid=32033721', 'image': 'https://salt.tikicdn.com/cache/200x200/ts/product/a1/cd/ce/84a16c41ac07ce50d754e44a16ecbd1c.jpg.webp', 'sales': '1000', 'discount': '15', 'tiki_now': True}, {'name': 'Máy Đọc Sách All New Kindle 2019 (10th) – Hàng Chính Hãng', 'price': '2.245.000 ₫', 'url': 'https://tiki.vn/may-doc-sach-all-new-kindle-2019-10th-hang-chinh-hang-p14507169.html?itm_campaign=tiki-reco_UNK_DT_UNK_UNK_tiki-listing_UNK_p-category-mpid-listing-v1_202207060600_MD_batched_PID.17616545&itm_medium=CPC&itm_source=tiki-reco&spid=17616545', 'image': 'https://salt.tikicdn.com/cache/200x200/ts/product/41/e1/79/f4541de59d4c16cfd2d37797909540b2.jpg.webp', 'sales': '441', 'discount': '2', 'tiki_now': False}, {'name': 'Điện thoại Xiaomi Redmi Note 11 (4GB/64GB) - Hàng chính hãng', 'price': '3.899.000 ₫', 'url': 'https://tiki.vn/dien-thoai-xiaomi-redmi-note-11-4gb-64gb-hang-chinh-hang-p160801738.html?itm_campaign=tiki-reco_UNK_DT_UNK_UNK_tiki-listing_UNK_p-category-mpid-listing-v1_202207060600_MD_batched_PID.169879714&itm_medium=CPC&itm_source=tiki-reco&spid=169879714', 'image': 'https://salt.tikicdn.com/cache/200x200/ts/product/dd/c2/c0/da92e43522d1b62b3042aae66e859e7f.jpg.webp', 'sales': '56', 'discount': '17', 'tiki_now': False}, {'name': 'Điện thoại di động 4G Philips Xenium E506 – Hàng Chính Hãng', 'price': '650.000 ₫', 'url': 'https://tiki.vn/dien-thoai-di-dong-4g-philips-xenium-e506-hang-chinh-hang-p173450461.html?itm_campaign=tiki-reco_UNK_DT_UNK_UNK_tiki-listing_UNK_p-category-mpid-listing-v1_202207060600_MD_batched_PID.173450463&itm_medium=CPC&itm_source=tiki-reco&spid=173450463', 'image': 'https://salt.tikicdn.com/cache/200x200/ts/product/2c/70/88/19e6b4d3ba04804b111f9c4bbd0e7b3e.jpg.webp', 'sales': '46', 'discount': '19', 'tiki_now': False}, {'name': 'Máy Tính Bảng Huawei Matepad | Màn Hình 2K Fullview | Hiệu Suất Mạnh Mẽ | Âm Thanh Vòm Sống Động | Hàng Chính Hãng', 'price': '5.490.000 ₫', 'url': 'https://tiki.vn/may-tinh-bang-huawei-matepad-man-hinh-2k-fullview-hieu-suat-manh-me-am-thanh-vom-song-dong-hang-chinh-hang-p90147619.html?itm_campaign=tiki-reco_UNK_DT_UNK_UNK_tiki-listing_UNK_p-category-mpid-listing-v1_202207060600_MD_batched_PID.126798101&itm_medium=CPC&itm_source=tiki-reco&spid=126798101', 'image': 'https://salt.tikicdn.com/cache/200x200/ts/product/df/b7/00/131f8b62f878528105757d0bee8fb463.jpg.webp', 'sales': '306', 'discount': '', 'tiki_now': False}, {'name': 'Điện thoại Realme Narzo 50i (4GB/64GB) - Hàng chính hãng', 'price': '2.619.000 ₫', 'url': 'https://tiki.vn/dien-thoai-realme-narzo-50i-4gb-64gb-hang-chinh-hang-da-kich-hoat-bao-hanh-dien-tu-p141122642.html?itm_campaign=tiki-reco_UNK_DT_UNK_UNK_tiki-listing_UNK_p-category-mpid-listing-v1_202207060600_MD_batched_PID.142433081&itm_medium=CPC&itm_source=tiki-reco&spid=142433081', 'image': 'https://salt.tikicdn.com/cache/200x200/ts/product/a4/94/17/efed891693209303a7cef296a9c7d10c.jpg.webp', 'sales': '80', 'discount': '20', 'tiki_now': False}, {'name': 'Điện Thoại Nokia C01 Plus 2GB/16GB - Hàng Chính Hãng', 'price': '1.649.000 ₫', 'url': 'https://tiki.vn/dien-thoai-nokia-c01-plus-2gb-16gb-hang-chinh-hang-p119464777.html?itm_campaign=tiki-reco_UNK_DT_UNK_UNK_tiki-listing_UNK_p-category-mpid-listing-v1_202207060600_MD_batched_PID.138826717&itm_medium=CPC&itm_source=tiki-reco&spid=138826717', 'image': 'https://salt.tikicdn.com/cache/200x200/ts/product/99/a7/92/320e2856c54c4d90d046800fc7735948.jpg.webp', 'sales': '68', 'discount': '12', 'tiki_now': False}, {'name': 'Điện thoại Nokia C30 2GB/32GB - Hàng chính hãng', 'price': '2.090.000 ₫', 'url': 'https://tiki.vn/dien-thoai-nokia-c30-2gb-32gb-hang-chinh-hang-p125590981.html?itm_campaign=tiki-reco_UNK_DT_UNK_UNK_tiki-listing_UNK_p-category-mpid-listing-v1_202207060600_MD_batched_PID.125590983&itm_medium=CPC&itm_source=tiki-reco&spid=125590983', 'image': 'https://salt.tikicdn.com/cache/200x200/ts/product/ae/77/39/dc4d08a8b156a0c2f797f95a1860bc8c.jpg.webp', 'sales': '51', 'discount': '', 'tiki_now': False}, {'name': 'Apple iPhone 13 Pro', 'price': '26.750.000 ₫', 'url': 'https://tiki.vn/apple-iphone-13-pro-hang-chinh-hang-p184058811.html?itm_campaign=tiki-reco_UNK_DT_UNK_UNK_tiki-listing_UNK_p-category-mpid-listing-v1_202207060600_MD_batched_PID.168778799&itm_medium=CPC&itm_source=tiki-reco&spid=168778799', 'image': 'https://salt.tikicdn.com/cache/200x200/ts/product/57/8d/7b/3b086a44e35600ec72140c04e4154920.jpg.webp', 'sales': '1000', 'discount': '21', 'tiki_now': True}, {'name': 'Điện Thoại Nokia G21 (4GB/128GB) - Hàng Chính Hãng', 'price': '3.480.000 ₫', 'url': 'https://tiki.vn/dien-thoai-nokia-g21-4gb-128gb-hang-chinh-hang-p179438706.html?itm_campaign=tiki-reco_UNK_DT_UNK_UNK_tiki-listing_UNK_p-category-mpid-listing-v1_202207060600_MD_batched_PID.179438710&itm_medium=CPC&itm_source=tiki-reco&spid=179438710', 'image': 'https://salt.tikicdn.com/cache/200x200/ts/product/26/a5/b8/cc7c886fa61e15d06b51f51f67c48a51.jpg.webp', 'sales': '48', 'discount': '13', 'tiki_now': True}, {'name': 'Apple iPad 10.2-inch (9th Gen) Wi-Fi, 2021', 'price': '8.990.000 ₫', 'url': 'https://tiki.vn/apple-ipad-10-2-inch-9th-gen-wi-fi-2021-p183330021.html?itm_campaign=tiki-reco_UNK_DT_UNK_UNK_tiki-listing_UNK_p-category-mpid-listing-v1_202207060600_MD_batched_PID.124939771&itm_medium=CPC&itm_source=tiki-reco&spid=124939771', 'image': 'https://salt.tikicdn.com/cache/200x200/ts/product/44/84/b5/99190012171edee77674793a61c5a7e8.png.webp', 'sales': '816', 'discount': '18', 'tiki_now': False}, {'name': 'Điện thoại bàn KX-TS500 hàng chính hãng', 'price': '275.500 ₫', 'url': 'https://tiki.vn/dien-thoai-ban-kxts500-hang-chinh-hang-p163914808.html?itm_campaign=tiki-reco_UNK_DT_UNK_UNK_tiki-listing_UNK_p-category-mpid-listing-v1_202207060600_MD_batched_PID.163914810&itm_medium=CPC&itm_source=tiki-reco&spid=163914810', 'image': 'https://salt.tikicdn.com/cache/200x200/ts/product/be/09/b7/55917b01ae380cdb1e6acce0ae683370.jpg.webp', 'sales': '245', 'discount': '5', 'tiki_now': False}, {'name': 'Máy tính bảng Fire HD10 2021 - 11th - (All New Fire HD10 - 2021) - Ram 3/4GB, bộ nhớ 32GB, màn hình 1080 FullHD', 'price': '3.170.000 ₫', 'url': 'https://tiki.vn/may-tinh-bang-fire-hd10-2021-11th-all-new-fire-hd10-2021-ram-3gb-bo-nho-32gb-man-hinh-1080-fullhd-p150724369.html?itm_campaign=tiki-reco_UNK_DT_UNK_UNK_tiki-listing_UNK_p-category-mpid-listing-v1_202207060600_MD_batched_PID.152760405&itm_medium=CPC&itm_source=tiki-reco&spid=152760405', 'image': 'https://salt.tikicdn.com/cache/200x200/ts/product/37/c5/a2/700582e658ac9c5e9dfc2ccc62932017.jpg.webp', 'sales': '131', 'discount': '', 'tiki_now': False}, {'name': 'Điện Thoại Oppo A16k (4GB/64G) - Hàng Chính Hãng', 'price': '3.090.000 ₫', 'url': 'https://tiki.vn/dien-thoai-oppo-a16k-4gb-64g-hang-chinh-hang-p164937168.html?itm_campaign=tiki-reco_UNK_DT_UNK_UNK_tiki-listing_UNK_p-category-mpid-listing-v1_202207060600_MD_batched_PID.164937170&itm_medium=CPC&itm_source=tiki-reco&spid=164937170', 'image': 'https://salt.tikicdn.com/cache/200x200/ts/product/7b/8c/79/accd87bb85e86b6167088db35ec268dc.jpg.webp', 'sales': '1000', 'discount': '18', 'tiki_now': True}, {'name': 'Điện Thoại Nokia 105 Dual Sim (2019) - Hàng Chính Hãng', 'price': '490.000 ₫', 'url': 'https://tiki.vn/dien-thoai-nokia-105-dual-sim-2019-hang-chinh-hang-p25730627.html?itm_campaign=tiki-reco_UNK_DT_UNK_UNK_tiki-listing_UNK_p-category-mpid-listing-v1_202207060600_MD_batched_PID.25900458&itm_medium=CPC&itm_source=tiki-reco&spid=25900458', 'image': 'https://salt.tikicdn.com/cache/200x200/ts/product/a5/1b/4b/925051cd75d938700de042def6dd3428.jpg.webp', 'sales': '1000', 'discount': '', 'tiki_now': True}, {'name': 'Máy đọc sách Kobo Libra 2 - hàng nhập khẩu', 'price': '5.039.000 ₫', 'url': 'https://tiki.vn/may-doc-sach-kobo-libra-2-p139632023.html?itm_campaign=tiki-reco_UNK_DT_UNK_UNK_tiki-listing_UNK_p-category-mpid-listing-v1_202207060600_MD_batched_PID.139632025&itm_medium=CPC&itm_source=tiki-reco&spid=139632025', 'image': 'https://salt.tikicdn.com/cache/200x200/ts/product/7b/35/ec/1ed1e4a730c02101ef549c6b18fe5e6f.jpeg.webp', 'sales': '93', 'discount': '13', 'tiki_now': False}, {'name': 'Điện thoại Nokia C01 Plus (2GB/16GB) - Hàng chính hãng', 'price': '1.710.000 ₫', 'url': 'https://tiki.vn/dien-thoai-nokia-c01-plus-2gb-16gb-hang-chinh-hang-p141739233.html?itm_campaign=tiki-reco_UNK_DT_UNK_UNK_tiki-listing_UNK_p-category-mpid-listing-v1_202207060600_MD_batched_PID.141739236&itm_medium=CPC&itm_source=tiki-reco&spid=141739236', 'image': 'https://salt.tikicdn.com/cache/200x200/ts/product/eb/a5/93/cc494fe5359a719a590863506a4b26d1.jpg.webp', 'sales': '132', 'discount': '14', 'tiki_now': True}, {'name': 'Tecno Pova 2 4GB l 64GB - Điện Thoại Thông Minh Chiến Game Cực Đỉnh - Hàng Chính Hãng', 'price': '3.399.000 ₫', 'url': 'https://tiki.vn/tecno-pova-2-4gb-l-64gb-dien-thoai-thong-minh-chien-game-cuc-dinh-hang-chinh-hang-den-p107348438.html?itm_campaign=tiki-reco_UNK_DT_UNK_UNK_tiki-listing_UNK_p-category-mpid-listing-v1_202207060600_MD_batched_PID.107348442&itm_medium=CPC&itm_source=tiki-reco&spid=107348442', 'image': 'https://salt.tikicdn.com/cache/200x200/ts/product/44/d8/9c/a7b51517a7207ada4a406d7403d20629.png.webp', 'sales': '84', 'discount': '21', 'tiki_now': True}, {'name': 'Điện Thoại Oppo A95 (8GB/128G) - Hàng Chính Hãng', 'price': '5.450.000 ₫', 'url': 'https://tiki.vn/dien-thoai-oppo-a95-8gb-128g-hang-chinh-hang-p142545264.html?itm_campaign=tiki-reco_UNK_DT_UNK_UNK_tiki-listing_UNK_p-category-mpid-listing-v1_202207060600_MD_batched_PID.142545268&itm_medium=CPC&itm_source=tiki-reco&spid=142545268', 'image': 'https://salt.tikicdn.com/cache/200x200/ts/product/9f/90/d2/ce7729c57f02837e94145fa403552fbb.jpg.webp', 'sales': '156', 'discount': '22', 'tiki_now': False}]\n"
          ]
        }
      ]
    },
    {
      "cell_type": "markdown",
      "source": [
        "**PART 3: Save results as CSV file**"
      ],
      "metadata": {
        "id": "XuGHpM2UrLAh"
      }
    },
    {
      "cell_type": "code",
      "source": [
        "df = pd.DataFrame(extracted_items, columns=['name', 'price', 'url', 'image', 'sales', 'discount', 'tiki_now'])"
      ],
      "metadata": {
        "id": "P5wky1EbrlEE"
      },
      "execution_count": 210,
      "outputs": []
    },
    {
      "cell_type": "code",
      "source": [
        "df.index = np.arange(1, len(df) + 1)"
      ],
      "metadata": {
        "id": "iZz4lX-6_vVi"
      },
      "execution_count": 211,
      "outputs": []
    },
    {
      "cell_type": "code",
      "source": [
        "df\n"
      ],
      "metadata": {
        "id": "iFtJH46ZsCWj",
        "colab": {
          "base_uri": "https://localhost:8080/",
          "height": 1000
        },
        "outputId": "45a686ed-6d50-49bc-b1b0-cddba67d132e"
      },
      "execution_count": 212,
      "outputs": [
        {
          "output_type": "execute_result",
          "data": {
            "text/plain": [
              "                                                 name         price  \\\n",
              "1   Điện thoại Samsung Galaxy M23 5G (6GB/128GB) -...   4.390.000 ₫   \n",
              "2   Điện thoại Samsung Galaxy A52s 5G (8GB/128GB) ...   8.490.000 ₫   \n",
              "3   Điện thoại Samsung M33 5G (8Gb/128GB) - Hàng c...   4.790.000 ₫   \n",
              "4   Máy Đọc Sách All New Kindle 2019 (10th) – Hàng...   2.245.000 ₫   \n",
              "5     Điện thoại Samsung Galaxy M51 - Hàng Chính Hãng   7.690.000 ₫   \n",
              "6   Máy tính bảng Samsung Galaxy Tab A7 Lite LTE S...   3.490.000 ₫   \n",
              "7   Điện thoại Xiaomi Redmi 9A (2GB/32GB) - Hàng c...   2.109.000 ₫   \n",
              "8   Máy tính bảng Samsung Galaxy Tab A8 (4GB/64GB)...   5.890.000 ₫   \n",
              "9   Điện Thoại Samsung Galaxy M32 (8GB/128GB) - Hà...   4.490.000 ₫   \n",
              "10  Điện thoại Samsung Galaxy A03s (4GB/64GB) - Hà...   3.090.000 ₫   \n",
              "11  Tecno Pova 2 6GB l 128GB - Điện Thoại Thông Mi...   3.579.000 ₫   \n",
              "12  Máy Tính Bảng Samsung Galaxy Tab S7 FE LTE T73...   9.690.000 ₫   \n",
              "13   Điện Thoại Oppo A16k (3GB/32G) - Hàng Chính Hãng   2.880.000 ₫   \n",
              "14   Điện Thoại Oppo A94 (8GB/128G) - Hàng Chính Hãng   4.790.000 ₫   \n",
              "15                                    Apple iPhone 13  18.990.000 ₫   \n",
              "16  Điện Thoại Oppo Reno 6Z 5G (8GB/128G) - Hàng C...   6.090.000 ₫   \n",
              "17  Máy đọc sách All New Kindle Paperwhite 5 (11th...   3.825.000 ₫   \n",
              "18    Điện Thoại Nokia C20 2GB/16GB - Hàng Chính Hãng   1.450.000 ₫   \n",
              "19  Điện Thoại OnePlus  Nord CE 5G (12GB/256G) - H...   7.350.000 ₫   \n",
              "20                                    Apple iPhone 12  15.650.000 ₫   \n",
              "21  Máy tính bảng Samsung Galaxy Tab A7 Lite LTE S...   3.270.000 ₫   \n",
              "22   Điện Thoại Oppo A55 (4GB/64GB) - Hàng Chính Hãng   3.750.000 ₫   \n",
              "23  Điện thoại Samsung Galaxy A13 (4GB/128GB) - Hà...   4.190.000 ₫   \n",
              "24  Điện thoại Xiaomi 11 Lite 5G NE (6GB/128GB) - ...   7.440.000 ₫   \n",
              "25                            Apple iPhone 13 Pro Max  26.990.000 ₫   \n",
              "26  Điện Thoại Bàn Panasonic KX-TSC11 - Hàng Chính...     539.600 ₫   \n",
              "27  Điện Thoại Nokia C30 (2GB/32GB) - Hàng Chính Hãng   1.920.000 ₫   \n",
              "28  Điện thoại Samsung Galaxy A53 5G (8GB/128GB) -...   7.990.000 ₫   \n",
              "29  Điện thoại di động Vivo Y21s (4GB/128GB) - Hàn...   3.890.000 ₫   \n",
              "30                                    Apple iPhone 11  10.990.000 ₫   \n",
              "31  Máy Đọc Sách All New Kindle 2019 (10th) – Hàng...   2.245.000 ₫   \n",
              "32  Điện thoại Xiaomi Redmi Note 11 (4GB/64GB) - H...   3.899.000 ₫   \n",
              "33  Điện thoại di động 4G Philips Xenium E506 – Hà...     650.000 ₫   \n",
              "34  Máy Tính Bảng Huawei Matepad | Màn Hình 2K Ful...   5.490.000 ₫   \n",
              "35  Điện thoại Realme Narzo 50i (4GB/64GB) - Hàng ...   2.619.000 ₫   \n",
              "36  Điện Thoại Nokia C01 Plus 2GB/16GB - Hàng Chín...   1.649.000 ₫   \n",
              "37    Điện thoại Nokia C30 2GB/32GB - Hàng chính hãng   2.090.000 ₫   \n",
              "38                                Apple iPhone 13 Pro  26.750.000 ₫   \n",
              "39  Điện Thoại Nokia G21 (4GB/128GB) - Hàng Chính ...   3.480.000 ₫   \n",
              "40         Apple iPad 10.2-inch (9th Gen) Wi-Fi, 2021   8.990.000 ₫   \n",
              "41            Điện thoại bàn KX-TS500 hàng chính hãng     275.500 ₫   \n",
              "42  Máy tính bảng Fire HD10 2021 - 11th - (All New...   3.170.000 ₫   \n",
              "43   Điện Thoại Oppo A16k (4GB/64G) - Hàng Chính Hãng   3.090.000 ₫   \n",
              "44  Điện Thoại Nokia 105 Dual Sim (2019) - Hàng Ch...     490.000 ₫   \n",
              "45         Máy đọc sách Kobo Libra 2 - hàng nhập khẩu   5.039.000 ₫   \n",
              "46  Điện thoại Nokia C01 Plus (2GB/16GB) - Hàng ch...   1.710.000 ₫   \n",
              "47  Tecno Pova 2 4GB l 64GB - Điện Thoại Thông Min...   3.399.000 ₫   \n",
              "48   Điện Thoại Oppo A95 (8GB/128G) - Hàng Chính Hãng   5.450.000 ₫   \n",
              "\n",
              "                                                  url  \\\n",
              "1   https://tka.tiki.vn/pixel/pixel?data=djAwMaaUE...   \n",
              "2   https://tka.tiki.vn/pixel/pixel?data=djAwMUkg4...   \n",
              "3   https://tka.tiki.vn/pixel/pixel?data=djAwMSfqE...   \n",
              "4   https://tka.tiki.vn/pixel/pixel?data=djAwMRLX0...   \n",
              "5   https://tiki.vn/dien-thoai-samsung-galaxy-m51-...   \n",
              "6   https://tiki.vn/may-tinh-bang-samsung-galaxy-t...   \n",
              "7   https://tiki.vn/dien-thoai-xiaomi-redmi-9a-2gb...   \n",
              "8   https://tiki.vn/may-tinh-bang-samsung-galaxy-t...   \n",
              "9   https://tiki.vn/dien-thoai-samsung-galaxy-m32-...   \n",
              "10  https://tiki.vn/dien-thoai-samsung-galaxy-a03s...   \n",
              "11  https://tiki.vn/tecno-pova-2-6gb-l-128gb-dien-...   \n",
              "12  https://tiki.vn/may-tinh-bang-samsung-galaxy-t...   \n",
              "13  https://tiki.vn/dien-thoai-oppo-a16k-3gb-32g-h...   \n",
              "14  https://tiki.vn/dien-thoai-oppo-a94-8gb-128g-h...   \n",
              "15  https://tiki.vn/apple-iphone-13-hang-chinh-han...   \n",
              "16  https://tiki.vn/dien-thoai-oppo-reno-6z-5g-8gb...   \n",
              "17  https://tiki.vn/may-doc-sach-all-new-kindle-pa...   \n",
              "18  https://tiki.vn/dien-thoai-nokia-c20-2gb-16gb-...   \n",
              "19  https://tiki.vn/dien-thoai-oneplus-nord-ce-5g-...   \n",
              "20  https://tiki.vn/apple-iphone-12-hang-chinh-han...   \n",
              "21  https://tiki.vn/may-tinh-bang-samsung-galaxy-t...   \n",
              "22  https://tiki.vn/dien-thoai-oppo-a55-4gb-64gb-h...   \n",
              "23  https://tiki.vn/dien-thoai-samsung-galaxy-a13-...   \n",
              "24  https://tiki.vn/dien-thoai-xiaomi-11-lite-5g-n...   \n",
              "25  https://tiki.vn/apple-iphone-13-pro-max-hang-c...   \n",
              "26  https://tiki.vn/dien-thoai-ban-panasonic-kx-ts...   \n",
              "27  https://tiki.vn/dien-thoai-nokia-c30-2gb-32gb-...   \n",
              "28  https://tiki.vn/dien-thoai-samsung-galaxy-a53-...   \n",
              "29  https://tiki.vn/dien-thoai-di-dong-vivo-y21s-4...   \n",
              "30  https://tiki.vn/apple-iphone-11-p184036446.htm...   \n",
              "31  https://tiki.vn/may-doc-sach-all-new-kindle-20...   \n",
              "32  https://tiki.vn/dien-thoai-xiaomi-redmi-note-1...   \n",
              "33  https://tiki.vn/dien-thoai-di-dong-4g-philips-...   \n",
              "34  https://tiki.vn/may-tinh-bang-huawei-matepad-m...   \n",
              "35  https://tiki.vn/dien-thoai-realme-narzo-50i-4g...   \n",
              "36  https://tiki.vn/dien-thoai-nokia-c01-plus-2gb-...   \n",
              "37  https://tiki.vn/dien-thoai-nokia-c30-2gb-32gb-...   \n",
              "38  https://tiki.vn/apple-iphone-13-pro-hang-chinh...   \n",
              "39  https://tiki.vn/dien-thoai-nokia-g21-4gb-128gb...   \n",
              "40  https://tiki.vn/apple-ipad-10-2-inch-9th-gen-w...   \n",
              "41  https://tiki.vn/dien-thoai-ban-kxts500-hang-ch...   \n",
              "42  https://tiki.vn/may-tinh-bang-fire-hd10-2021-1...   \n",
              "43  https://tiki.vn/dien-thoai-oppo-a16k-4gb-64g-h...   \n",
              "44  https://tiki.vn/dien-thoai-nokia-105-dual-sim-...   \n",
              "45  https://tiki.vn/may-doc-sach-kobo-libra-2-p139...   \n",
              "46  https://tiki.vn/dien-thoai-nokia-c01-plus-2gb-...   \n",
              "47  https://tiki.vn/tecno-pova-2-4gb-l-64gb-dien-t...   \n",
              "48  https://tiki.vn/dien-thoai-oppo-a95-8gb-128g-h...   \n",
              "\n",
              "                                                image sales discount  tiki_now  \n",
              "1   https://salt.tikicdn.com/cache/200x200/ts/prod...  1000       36     False  \n",
              "2   https://salt.tikicdn.com/cache/200x200/ts/prod...  1000        6     False  \n",
              "3   https://salt.tikicdn.com/cache/200x200/ts/prod...   581       40     False  \n",
              "4   https://salt.tikicdn.com/cache/200x200/ts/prod...   441        2     False  \n",
              "5   https://salt.tikicdn.com/cache/200x200/ts/prod...  1000       19     False  \n",
              "6   https://salt.tikicdn.com/cache/200x200/ts/prod...  1000       13     False  \n",
              "7   https://salt.tikicdn.com/cache/200x200/ts/prod...    53       15     False  \n",
              "8   https://salt.tikicdn.com/cache/200x200/ts/prod...    87       31     False  \n",
              "9   https://salt.tikicdn.com/cache/200x200/ts/prod...   371       25      True  \n",
              "10  https://salt.tikicdn.com/cache/200x200/ts/prod...  1000               True  \n",
              "11  https://salt.tikicdn.com/cache/200x200/ts/prod...   883       28      True  \n",
              "12  https://salt.tikicdn.com/cache/200x200/ts/prod...   263       31      True  \n",
              "13  https://salt.tikicdn.com/cache/200x200/ts/prod...  1000       10      True  \n",
              "14  https://salt.tikicdn.com/cache/200x200/media/c...  1000        6      True  \n",
              "15  https://salt.tikicdn.com/cache/200x200/ts/prod...  1000       24      True  \n",
              "16  https://salt.tikicdn.com/cache/200x200/ts/prod...   788       19      True  \n",
              "17  https://salt.tikicdn.com/cache/200x200/ts/prod...   429        4     False  \n",
              "18  https://salt.tikicdn.com/cache/200x200/ts/prod...   156       52     False  \n",
              "19  https://salt.tikicdn.com/cache/200x200/media/c...   369       13      True  \n",
              "20  https://salt.tikicdn.com/cache/200x200/ts/prod...  1000       13      True  \n",
              "21  https://salt.tikicdn.com/cache/200x200/ts/prod...   285       34      True  \n",
              "22  https://salt.tikicdn.com/cache/200x200/ts/prod...  1000       25     False  \n",
              "23  https://salt.tikicdn.com/cache/200x200/ts/prod...  1000       16     False  \n",
              "24  https://salt.tikicdn.com/cache/200x200/ts/prod...    89       29     False  \n",
              "25  https://salt.tikicdn.com/cache/200x200/ts/prod...  1000       21     False  \n",
              "26  https://salt.tikicdn.com/cache/200x200/ts/prod...    83        5     False  \n",
              "27  https://salt.tikicdn.com/cache/200x200/ts/prod...    32        2     False  \n",
              "28  https://salt.tikicdn.com/cache/200x200/ts/prod...   187       20     False  \n",
              "29  https://salt.tikicdn.com/cache/200x200/ts/prod...  1000       26      True  \n",
              "30  https://salt.tikicdn.com/cache/200x200/ts/prod...  1000       15      True  \n",
              "31  https://salt.tikicdn.com/cache/200x200/ts/prod...   441        2     False  \n",
              "32  https://salt.tikicdn.com/cache/200x200/ts/prod...    56       17     False  \n",
              "33  https://salt.tikicdn.com/cache/200x200/ts/prod...    46       19     False  \n",
              "34  https://salt.tikicdn.com/cache/200x200/ts/prod...   306              False  \n",
              "35  https://salt.tikicdn.com/cache/200x200/ts/prod...    80       20     False  \n",
              "36  https://salt.tikicdn.com/cache/200x200/ts/prod...    68       12     False  \n",
              "37  https://salt.tikicdn.com/cache/200x200/ts/prod...    51              False  \n",
              "38  https://salt.tikicdn.com/cache/200x200/ts/prod...  1000       21      True  \n",
              "39  https://salt.tikicdn.com/cache/200x200/ts/prod...    48       13      True  \n",
              "40  https://salt.tikicdn.com/cache/200x200/ts/prod...   816       18     False  \n",
              "41  https://salt.tikicdn.com/cache/200x200/ts/prod...   245        5     False  \n",
              "42  https://salt.tikicdn.com/cache/200x200/ts/prod...   131              False  \n",
              "43  https://salt.tikicdn.com/cache/200x200/ts/prod...  1000       18      True  \n",
              "44  https://salt.tikicdn.com/cache/200x200/ts/prod...  1000               True  \n",
              "45  https://salt.tikicdn.com/cache/200x200/ts/prod...    93       13     False  \n",
              "46  https://salt.tikicdn.com/cache/200x200/ts/prod...   132       14      True  \n",
              "47  https://salt.tikicdn.com/cache/200x200/ts/prod...    84       21      True  \n",
              "48  https://salt.tikicdn.com/cache/200x200/ts/prod...   156       22     False  "
            ],
            "text/html": [
              "\n",
              "  <div id=\"df-77d7010f-4186-4872-a218-ef59619e6727\">\n",
              "    <div class=\"colab-df-container\">\n",
              "      <div>\n",
              "<style scoped>\n",
              "    .dataframe tbody tr th:only-of-type {\n",
              "        vertical-align: middle;\n",
              "    }\n",
              "\n",
              "    .dataframe tbody tr th {\n",
              "        vertical-align: top;\n",
              "    }\n",
              "\n",
              "    .dataframe thead th {\n",
              "        text-align: right;\n",
              "    }\n",
              "</style>\n",
              "<table border=\"1\" class=\"dataframe\">\n",
              "  <thead>\n",
              "    <tr style=\"text-align: right;\">\n",
              "      <th></th>\n",
              "      <th>name</th>\n",
              "      <th>price</th>\n",
              "      <th>url</th>\n",
              "      <th>image</th>\n",
              "      <th>sales</th>\n",
              "      <th>discount</th>\n",
              "      <th>tiki_now</th>\n",
              "    </tr>\n",
              "  </thead>\n",
              "  <tbody>\n",
              "    <tr>\n",
              "      <th>1</th>\n",
              "      <td>Điện thoại Samsung Galaxy M23 5G (6GB/128GB) -...</td>\n",
              "      <td>4.390.000 ₫</td>\n",
              "      <td>https://tka.tiki.vn/pixel/pixel?data=djAwMaaUE...</td>\n",
              "      <td>https://salt.tikicdn.com/cache/200x200/ts/prod...</td>\n",
              "      <td>1000</td>\n",
              "      <td>36</td>\n",
              "      <td>False</td>\n",
              "    </tr>\n",
              "    <tr>\n",
              "      <th>2</th>\n",
              "      <td>Điện thoại Samsung Galaxy A52s 5G (8GB/128GB) ...</td>\n",
              "      <td>8.490.000 ₫</td>\n",
              "      <td>https://tka.tiki.vn/pixel/pixel?data=djAwMUkg4...</td>\n",
              "      <td>https://salt.tikicdn.com/cache/200x200/ts/prod...</td>\n",
              "      <td>1000</td>\n",
              "      <td>6</td>\n",
              "      <td>False</td>\n",
              "    </tr>\n",
              "    <tr>\n",
              "      <th>3</th>\n",
              "      <td>Điện thoại Samsung M33 5G (8Gb/128GB) - Hàng c...</td>\n",
              "      <td>4.790.000 ₫</td>\n",
              "      <td>https://tka.tiki.vn/pixel/pixel?data=djAwMSfqE...</td>\n",
              "      <td>https://salt.tikicdn.com/cache/200x200/ts/prod...</td>\n",
              "      <td>581</td>\n",
              "      <td>40</td>\n",
              "      <td>False</td>\n",
              "    </tr>\n",
              "    <tr>\n",
              "      <th>4</th>\n",
              "      <td>Máy Đọc Sách All New Kindle 2019 (10th) – Hàng...</td>\n",
              "      <td>2.245.000 ₫</td>\n",
              "      <td>https://tka.tiki.vn/pixel/pixel?data=djAwMRLX0...</td>\n",
              "      <td>https://salt.tikicdn.com/cache/200x200/ts/prod...</td>\n",
              "      <td>441</td>\n",
              "      <td>2</td>\n",
              "      <td>False</td>\n",
              "    </tr>\n",
              "    <tr>\n",
              "      <th>5</th>\n",
              "      <td>Điện thoại Samsung Galaxy M51 - Hàng Chính Hãng</td>\n",
              "      <td>7.690.000 ₫</td>\n",
              "      <td>https://tiki.vn/dien-thoai-samsung-galaxy-m51-...</td>\n",
              "      <td>https://salt.tikicdn.com/cache/200x200/ts/prod...</td>\n",
              "      <td>1000</td>\n",
              "      <td>19</td>\n",
              "      <td>False</td>\n",
              "    </tr>\n",
              "    <tr>\n",
              "      <th>6</th>\n",
              "      <td>Máy tính bảng Samsung Galaxy Tab A7 Lite LTE S...</td>\n",
              "      <td>3.490.000 ₫</td>\n",
              "      <td>https://tiki.vn/may-tinh-bang-samsung-galaxy-t...</td>\n",
              "      <td>https://salt.tikicdn.com/cache/200x200/ts/prod...</td>\n",
              "      <td>1000</td>\n",
              "      <td>13</td>\n",
              "      <td>False</td>\n",
              "    </tr>\n",
              "    <tr>\n",
              "      <th>7</th>\n",
              "      <td>Điện thoại Xiaomi Redmi 9A (2GB/32GB) - Hàng c...</td>\n",
              "      <td>2.109.000 ₫</td>\n",
              "      <td>https://tiki.vn/dien-thoai-xiaomi-redmi-9a-2gb...</td>\n",
              "      <td>https://salt.tikicdn.com/cache/200x200/ts/prod...</td>\n",
              "      <td>53</td>\n",
              "      <td>15</td>\n",
              "      <td>False</td>\n",
              "    </tr>\n",
              "    <tr>\n",
              "      <th>8</th>\n",
              "      <td>Máy tính bảng Samsung Galaxy Tab A8 (4GB/64GB)...</td>\n",
              "      <td>5.890.000 ₫</td>\n",
              "      <td>https://tiki.vn/may-tinh-bang-samsung-galaxy-t...</td>\n",
              "      <td>https://salt.tikicdn.com/cache/200x200/ts/prod...</td>\n",
              "      <td>87</td>\n",
              "      <td>31</td>\n",
              "      <td>False</td>\n",
              "    </tr>\n",
              "    <tr>\n",
              "      <th>9</th>\n",
              "      <td>Điện Thoại Samsung Galaxy M32 (8GB/128GB) - Hà...</td>\n",
              "      <td>4.490.000 ₫</td>\n",
              "      <td>https://tiki.vn/dien-thoai-samsung-galaxy-m32-...</td>\n",
              "      <td>https://salt.tikicdn.com/cache/200x200/ts/prod...</td>\n",
              "      <td>371</td>\n",
              "      <td>25</td>\n",
              "      <td>True</td>\n",
              "    </tr>\n",
              "    <tr>\n",
              "      <th>10</th>\n",
              "      <td>Điện thoại Samsung Galaxy A03s (4GB/64GB) - Hà...</td>\n",
              "      <td>3.090.000 ₫</td>\n",
              "      <td>https://tiki.vn/dien-thoai-samsung-galaxy-a03s...</td>\n",
              "      <td>https://salt.tikicdn.com/cache/200x200/ts/prod...</td>\n",
              "      <td>1000</td>\n",
              "      <td></td>\n",
              "      <td>True</td>\n",
              "    </tr>\n",
              "    <tr>\n",
              "      <th>11</th>\n",
              "      <td>Tecno Pova 2 6GB l 128GB - Điện Thoại Thông Mi...</td>\n",
              "      <td>3.579.000 ₫</td>\n",
              "      <td>https://tiki.vn/tecno-pova-2-6gb-l-128gb-dien-...</td>\n",
              "      <td>https://salt.tikicdn.com/cache/200x200/ts/prod...</td>\n",
              "      <td>883</td>\n",
              "      <td>28</td>\n",
              "      <td>True</td>\n",
              "    </tr>\n",
              "    <tr>\n",
              "      <th>12</th>\n",
              "      <td>Máy Tính Bảng Samsung Galaxy Tab S7 FE LTE T73...</td>\n",
              "      <td>9.690.000 ₫</td>\n",
              "      <td>https://tiki.vn/may-tinh-bang-samsung-galaxy-t...</td>\n",
              "      <td>https://salt.tikicdn.com/cache/200x200/ts/prod...</td>\n",
              "      <td>263</td>\n",
              "      <td>31</td>\n",
              "      <td>True</td>\n",
              "    </tr>\n",
              "    <tr>\n",
              "      <th>13</th>\n",
              "      <td>Điện Thoại Oppo A16k (3GB/32G) - Hàng Chính Hãng</td>\n",
              "      <td>2.880.000 ₫</td>\n",
              "      <td>https://tiki.vn/dien-thoai-oppo-a16k-3gb-32g-h...</td>\n",
              "      <td>https://salt.tikicdn.com/cache/200x200/ts/prod...</td>\n",
              "      <td>1000</td>\n",
              "      <td>10</td>\n",
              "      <td>True</td>\n",
              "    </tr>\n",
              "    <tr>\n",
              "      <th>14</th>\n",
              "      <td>Điện Thoại Oppo A94 (8GB/128G) - Hàng Chính Hãng</td>\n",
              "      <td>4.790.000 ₫</td>\n",
              "      <td>https://tiki.vn/dien-thoai-oppo-a94-8gb-128g-h...</td>\n",
              "      <td>https://salt.tikicdn.com/cache/200x200/media/c...</td>\n",
              "      <td>1000</td>\n",
              "      <td>6</td>\n",
              "      <td>True</td>\n",
              "    </tr>\n",
              "    <tr>\n",
              "      <th>15</th>\n",
              "      <td>Apple iPhone 13</td>\n",
              "      <td>18.990.000 ₫</td>\n",
              "      <td>https://tiki.vn/apple-iphone-13-hang-chinh-han...</td>\n",
              "      <td>https://salt.tikicdn.com/cache/200x200/ts/prod...</td>\n",
              "      <td>1000</td>\n",
              "      <td>24</td>\n",
              "      <td>True</td>\n",
              "    </tr>\n",
              "    <tr>\n",
              "      <th>16</th>\n",
              "      <td>Điện Thoại Oppo Reno 6Z 5G (8GB/128G) - Hàng C...</td>\n",
              "      <td>6.090.000 ₫</td>\n",
              "      <td>https://tiki.vn/dien-thoai-oppo-reno-6z-5g-8gb...</td>\n",
              "      <td>https://salt.tikicdn.com/cache/200x200/ts/prod...</td>\n",
              "      <td>788</td>\n",
              "      <td>19</td>\n",
              "      <td>True</td>\n",
              "    </tr>\n",
              "    <tr>\n",
              "      <th>17</th>\n",
              "      <td>Máy đọc sách All New Kindle Paperwhite 5 (11th...</td>\n",
              "      <td>3.825.000 ₫</td>\n",
              "      <td>https://tiki.vn/may-doc-sach-all-new-kindle-pa...</td>\n",
              "      <td>https://salt.tikicdn.com/cache/200x200/ts/prod...</td>\n",
              "      <td>429</td>\n",
              "      <td>4</td>\n",
              "      <td>False</td>\n",
              "    </tr>\n",
              "    <tr>\n",
              "      <th>18</th>\n",
              "      <td>Điện Thoại Nokia C20 2GB/16GB - Hàng Chính Hãng</td>\n",
              "      <td>1.450.000 ₫</td>\n",
              "      <td>https://tiki.vn/dien-thoai-nokia-c20-2gb-16gb-...</td>\n",
              "      <td>https://salt.tikicdn.com/cache/200x200/ts/prod...</td>\n",
              "      <td>156</td>\n",
              "      <td>52</td>\n",
              "      <td>False</td>\n",
              "    </tr>\n",
              "    <tr>\n",
              "      <th>19</th>\n",
              "      <td>Điện Thoại OnePlus  Nord CE 5G (12GB/256G) - H...</td>\n",
              "      <td>7.350.000 ₫</td>\n",
              "      <td>https://tiki.vn/dien-thoai-oneplus-nord-ce-5g-...</td>\n",
              "      <td>https://salt.tikicdn.com/cache/200x200/media/c...</td>\n",
              "      <td>369</td>\n",
              "      <td>13</td>\n",
              "      <td>True</td>\n",
              "    </tr>\n",
              "    <tr>\n",
              "      <th>20</th>\n",
              "      <td>Apple iPhone 12</td>\n",
              "      <td>15.650.000 ₫</td>\n",
              "      <td>https://tiki.vn/apple-iphone-12-hang-chinh-han...</td>\n",
              "      <td>https://salt.tikicdn.com/cache/200x200/ts/prod...</td>\n",
              "      <td>1000</td>\n",
              "      <td>13</td>\n",
              "      <td>True</td>\n",
              "    </tr>\n",
              "    <tr>\n",
              "      <th>21</th>\n",
              "      <td>Máy tính bảng Samsung Galaxy Tab A7 Lite LTE S...</td>\n",
              "      <td>3.270.000 ₫</td>\n",
              "      <td>https://tiki.vn/may-tinh-bang-samsung-galaxy-t...</td>\n",
              "      <td>https://salt.tikicdn.com/cache/200x200/ts/prod...</td>\n",
              "      <td>285</td>\n",
              "      <td>34</td>\n",
              "      <td>True</td>\n",
              "    </tr>\n",
              "    <tr>\n",
              "      <th>22</th>\n",
              "      <td>Điện Thoại Oppo A55 (4GB/64GB) - Hàng Chính Hãng</td>\n",
              "      <td>3.750.000 ₫</td>\n",
              "      <td>https://tiki.vn/dien-thoai-oppo-a55-4gb-64gb-h...</td>\n",
              "      <td>https://salt.tikicdn.com/cache/200x200/ts/prod...</td>\n",
              "      <td>1000</td>\n",
              "      <td>25</td>\n",
              "      <td>False</td>\n",
              "    </tr>\n",
              "    <tr>\n",
              "      <th>23</th>\n",
              "      <td>Điện thoại Samsung Galaxy A13 (4GB/128GB) - Hà...</td>\n",
              "      <td>4.190.000 ₫</td>\n",
              "      <td>https://tiki.vn/dien-thoai-samsung-galaxy-a13-...</td>\n",
              "      <td>https://salt.tikicdn.com/cache/200x200/ts/prod...</td>\n",
              "      <td>1000</td>\n",
              "      <td>16</td>\n",
              "      <td>False</td>\n",
              "    </tr>\n",
              "    <tr>\n",
              "      <th>24</th>\n",
              "      <td>Điện thoại Xiaomi 11 Lite 5G NE (6GB/128GB) - ...</td>\n",
              "      <td>7.440.000 ₫</td>\n",
              "      <td>https://tiki.vn/dien-thoai-xiaomi-11-lite-5g-n...</td>\n",
              "      <td>https://salt.tikicdn.com/cache/200x200/ts/prod...</td>\n",
              "      <td>89</td>\n",
              "      <td>29</td>\n",
              "      <td>False</td>\n",
              "    </tr>\n",
              "    <tr>\n",
              "      <th>25</th>\n",
              "      <td>Apple iPhone 13 Pro Max</td>\n",
              "      <td>26.990.000 ₫</td>\n",
              "      <td>https://tiki.vn/apple-iphone-13-pro-max-hang-c...</td>\n",
              "      <td>https://salt.tikicdn.com/cache/200x200/ts/prod...</td>\n",
              "      <td>1000</td>\n",
              "      <td>21</td>\n",
              "      <td>False</td>\n",
              "    </tr>\n",
              "    <tr>\n",
              "      <th>26</th>\n",
              "      <td>Điện Thoại Bàn Panasonic KX-TSC11 - Hàng Chính...</td>\n",
              "      <td>539.600 ₫</td>\n",
              "      <td>https://tiki.vn/dien-thoai-ban-panasonic-kx-ts...</td>\n",
              "      <td>https://salt.tikicdn.com/cache/200x200/ts/prod...</td>\n",
              "      <td>83</td>\n",
              "      <td>5</td>\n",
              "      <td>False</td>\n",
              "    </tr>\n",
              "    <tr>\n",
              "      <th>27</th>\n",
              "      <td>Điện Thoại Nokia C30 (2GB/32GB) - Hàng Chính Hãng</td>\n",
              "      <td>1.920.000 ₫</td>\n",
              "      <td>https://tiki.vn/dien-thoai-nokia-c30-2gb-32gb-...</td>\n",
              "      <td>https://salt.tikicdn.com/cache/200x200/ts/prod...</td>\n",
              "      <td>32</td>\n",
              "      <td>2</td>\n",
              "      <td>False</td>\n",
              "    </tr>\n",
              "    <tr>\n",
              "      <th>28</th>\n",
              "      <td>Điện thoại Samsung Galaxy A53 5G (8GB/128GB) -...</td>\n",
              "      <td>7.990.000 ₫</td>\n",
              "      <td>https://tiki.vn/dien-thoai-samsung-galaxy-a53-...</td>\n",
              "      <td>https://salt.tikicdn.com/cache/200x200/ts/prod...</td>\n",
              "      <td>187</td>\n",
              "      <td>20</td>\n",
              "      <td>False</td>\n",
              "    </tr>\n",
              "    <tr>\n",
              "      <th>29</th>\n",
              "      <td>Điện thoại di động Vivo Y21s (4GB/128GB) - Hàn...</td>\n",
              "      <td>3.890.000 ₫</td>\n",
              "      <td>https://tiki.vn/dien-thoai-di-dong-vivo-y21s-4...</td>\n",
              "      <td>https://salt.tikicdn.com/cache/200x200/ts/prod...</td>\n",
              "      <td>1000</td>\n",
              "      <td>26</td>\n",
              "      <td>True</td>\n",
              "    </tr>\n",
              "    <tr>\n",
              "      <th>30</th>\n",
              "      <td>Apple iPhone 11</td>\n",
              "      <td>10.990.000 ₫</td>\n",
              "      <td>https://tiki.vn/apple-iphone-11-p184036446.htm...</td>\n",
              "      <td>https://salt.tikicdn.com/cache/200x200/ts/prod...</td>\n",
              "      <td>1000</td>\n",
              "      <td>15</td>\n",
              "      <td>True</td>\n",
              "    </tr>\n",
              "    <tr>\n",
              "      <th>31</th>\n",
              "      <td>Máy Đọc Sách All New Kindle 2019 (10th) – Hàng...</td>\n",
              "      <td>2.245.000 ₫</td>\n",
              "      <td>https://tiki.vn/may-doc-sach-all-new-kindle-20...</td>\n",
              "      <td>https://salt.tikicdn.com/cache/200x200/ts/prod...</td>\n",
              "      <td>441</td>\n",
              "      <td>2</td>\n",
              "      <td>False</td>\n",
              "    </tr>\n",
              "    <tr>\n",
              "      <th>32</th>\n",
              "      <td>Điện thoại Xiaomi Redmi Note 11 (4GB/64GB) - H...</td>\n",
              "      <td>3.899.000 ₫</td>\n",
              "      <td>https://tiki.vn/dien-thoai-xiaomi-redmi-note-1...</td>\n",
              "      <td>https://salt.tikicdn.com/cache/200x200/ts/prod...</td>\n",
              "      <td>56</td>\n",
              "      <td>17</td>\n",
              "      <td>False</td>\n",
              "    </tr>\n",
              "    <tr>\n",
              "      <th>33</th>\n",
              "      <td>Điện thoại di động 4G Philips Xenium E506 – Hà...</td>\n",
              "      <td>650.000 ₫</td>\n",
              "      <td>https://tiki.vn/dien-thoai-di-dong-4g-philips-...</td>\n",
              "      <td>https://salt.tikicdn.com/cache/200x200/ts/prod...</td>\n",
              "      <td>46</td>\n",
              "      <td>19</td>\n",
              "      <td>False</td>\n",
              "    </tr>\n",
              "    <tr>\n",
              "      <th>34</th>\n",
              "      <td>Máy Tính Bảng Huawei Matepad | Màn Hình 2K Ful...</td>\n",
              "      <td>5.490.000 ₫</td>\n",
              "      <td>https://tiki.vn/may-tinh-bang-huawei-matepad-m...</td>\n",
              "      <td>https://salt.tikicdn.com/cache/200x200/ts/prod...</td>\n",
              "      <td>306</td>\n",
              "      <td></td>\n",
              "      <td>False</td>\n",
              "    </tr>\n",
              "    <tr>\n",
              "      <th>35</th>\n",
              "      <td>Điện thoại Realme Narzo 50i (4GB/64GB) - Hàng ...</td>\n",
              "      <td>2.619.000 ₫</td>\n",
              "      <td>https://tiki.vn/dien-thoai-realme-narzo-50i-4g...</td>\n",
              "      <td>https://salt.tikicdn.com/cache/200x200/ts/prod...</td>\n",
              "      <td>80</td>\n",
              "      <td>20</td>\n",
              "      <td>False</td>\n",
              "    </tr>\n",
              "    <tr>\n",
              "      <th>36</th>\n",
              "      <td>Điện Thoại Nokia C01 Plus 2GB/16GB - Hàng Chín...</td>\n",
              "      <td>1.649.000 ₫</td>\n",
              "      <td>https://tiki.vn/dien-thoai-nokia-c01-plus-2gb-...</td>\n",
              "      <td>https://salt.tikicdn.com/cache/200x200/ts/prod...</td>\n",
              "      <td>68</td>\n",
              "      <td>12</td>\n",
              "      <td>False</td>\n",
              "    </tr>\n",
              "    <tr>\n",
              "      <th>37</th>\n",
              "      <td>Điện thoại Nokia C30 2GB/32GB - Hàng chính hãng</td>\n",
              "      <td>2.090.000 ₫</td>\n",
              "      <td>https://tiki.vn/dien-thoai-nokia-c30-2gb-32gb-...</td>\n",
              "      <td>https://salt.tikicdn.com/cache/200x200/ts/prod...</td>\n",
              "      <td>51</td>\n",
              "      <td></td>\n",
              "      <td>False</td>\n",
              "    </tr>\n",
              "    <tr>\n",
              "      <th>38</th>\n",
              "      <td>Apple iPhone 13 Pro</td>\n",
              "      <td>26.750.000 ₫</td>\n",
              "      <td>https://tiki.vn/apple-iphone-13-pro-hang-chinh...</td>\n",
              "      <td>https://salt.tikicdn.com/cache/200x200/ts/prod...</td>\n",
              "      <td>1000</td>\n",
              "      <td>21</td>\n",
              "      <td>True</td>\n",
              "    </tr>\n",
              "    <tr>\n",
              "      <th>39</th>\n",
              "      <td>Điện Thoại Nokia G21 (4GB/128GB) - Hàng Chính ...</td>\n",
              "      <td>3.480.000 ₫</td>\n",
              "      <td>https://tiki.vn/dien-thoai-nokia-g21-4gb-128gb...</td>\n",
              "      <td>https://salt.tikicdn.com/cache/200x200/ts/prod...</td>\n",
              "      <td>48</td>\n",
              "      <td>13</td>\n",
              "      <td>True</td>\n",
              "    </tr>\n",
              "    <tr>\n",
              "      <th>40</th>\n",
              "      <td>Apple iPad 10.2-inch (9th Gen) Wi-Fi, 2021</td>\n",
              "      <td>8.990.000 ₫</td>\n",
              "      <td>https://tiki.vn/apple-ipad-10-2-inch-9th-gen-w...</td>\n",
              "      <td>https://salt.tikicdn.com/cache/200x200/ts/prod...</td>\n",
              "      <td>816</td>\n",
              "      <td>18</td>\n",
              "      <td>False</td>\n",
              "    </tr>\n",
              "    <tr>\n",
              "      <th>41</th>\n",
              "      <td>Điện thoại bàn KX-TS500 hàng chính hãng</td>\n",
              "      <td>275.500 ₫</td>\n",
              "      <td>https://tiki.vn/dien-thoai-ban-kxts500-hang-ch...</td>\n",
              "      <td>https://salt.tikicdn.com/cache/200x200/ts/prod...</td>\n",
              "      <td>245</td>\n",
              "      <td>5</td>\n",
              "      <td>False</td>\n",
              "    </tr>\n",
              "    <tr>\n",
              "      <th>42</th>\n",
              "      <td>Máy tính bảng Fire HD10 2021 - 11th - (All New...</td>\n",
              "      <td>3.170.000 ₫</td>\n",
              "      <td>https://tiki.vn/may-tinh-bang-fire-hd10-2021-1...</td>\n",
              "      <td>https://salt.tikicdn.com/cache/200x200/ts/prod...</td>\n",
              "      <td>131</td>\n",
              "      <td></td>\n",
              "      <td>False</td>\n",
              "    </tr>\n",
              "    <tr>\n",
              "      <th>43</th>\n",
              "      <td>Điện Thoại Oppo A16k (4GB/64G) - Hàng Chính Hãng</td>\n",
              "      <td>3.090.000 ₫</td>\n",
              "      <td>https://tiki.vn/dien-thoai-oppo-a16k-4gb-64g-h...</td>\n",
              "      <td>https://salt.tikicdn.com/cache/200x200/ts/prod...</td>\n",
              "      <td>1000</td>\n",
              "      <td>18</td>\n",
              "      <td>True</td>\n",
              "    </tr>\n",
              "    <tr>\n",
              "      <th>44</th>\n",
              "      <td>Điện Thoại Nokia 105 Dual Sim (2019) - Hàng Ch...</td>\n",
              "      <td>490.000 ₫</td>\n",
              "      <td>https://tiki.vn/dien-thoai-nokia-105-dual-sim-...</td>\n",
              "      <td>https://salt.tikicdn.com/cache/200x200/ts/prod...</td>\n",
              "      <td>1000</td>\n",
              "      <td></td>\n",
              "      <td>True</td>\n",
              "    </tr>\n",
              "    <tr>\n",
              "      <th>45</th>\n",
              "      <td>Máy đọc sách Kobo Libra 2 - hàng nhập khẩu</td>\n",
              "      <td>5.039.000 ₫</td>\n",
              "      <td>https://tiki.vn/may-doc-sach-kobo-libra-2-p139...</td>\n",
              "      <td>https://salt.tikicdn.com/cache/200x200/ts/prod...</td>\n",
              "      <td>93</td>\n",
              "      <td>13</td>\n",
              "      <td>False</td>\n",
              "    </tr>\n",
              "    <tr>\n",
              "      <th>46</th>\n",
              "      <td>Điện thoại Nokia C01 Plus (2GB/16GB) - Hàng ch...</td>\n",
              "      <td>1.710.000 ₫</td>\n",
              "      <td>https://tiki.vn/dien-thoai-nokia-c01-plus-2gb-...</td>\n",
              "      <td>https://salt.tikicdn.com/cache/200x200/ts/prod...</td>\n",
              "      <td>132</td>\n",
              "      <td>14</td>\n",
              "      <td>True</td>\n",
              "    </tr>\n",
              "    <tr>\n",
              "      <th>47</th>\n",
              "      <td>Tecno Pova 2 4GB l 64GB - Điện Thoại Thông Min...</td>\n",
              "      <td>3.399.000 ₫</td>\n",
              "      <td>https://tiki.vn/tecno-pova-2-4gb-l-64gb-dien-t...</td>\n",
              "      <td>https://salt.tikicdn.com/cache/200x200/ts/prod...</td>\n",
              "      <td>84</td>\n",
              "      <td>21</td>\n",
              "      <td>True</td>\n",
              "    </tr>\n",
              "    <tr>\n",
              "      <th>48</th>\n",
              "      <td>Điện Thoại Oppo A95 (8GB/128G) - Hàng Chính Hãng</td>\n",
              "      <td>5.450.000 ₫</td>\n",
              "      <td>https://tiki.vn/dien-thoai-oppo-a95-8gb-128g-h...</td>\n",
              "      <td>https://salt.tikicdn.com/cache/200x200/ts/prod...</td>\n",
              "      <td>156</td>\n",
              "      <td>22</td>\n",
              "      <td>False</td>\n",
              "    </tr>\n",
              "  </tbody>\n",
              "</table>\n",
              "</div>\n",
              "      <button class=\"colab-df-convert\" onclick=\"convertToInteractive('df-77d7010f-4186-4872-a218-ef59619e6727')\"\n",
              "              title=\"Convert this dataframe to an interactive table.\"\n",
              "              style=\"display:none;\">\n",
              "        \n",
              "  <svg xmlns=\"http://www.w3.org/2000/svg\" height=\"24px\"viewBox=\"0 0 24 24\"\n",
              "       width=\"24px\">\n",
              "    <path d=\"M0 0h24v24H0V0z\" fill=\"none\"/>\n",
              "    <path d=\"M18.56 5.44l.94 2.06.94-2.06 2.06-.94-2.06-.94-.94-2.06-.94 2.06-2.06.94zm-11 1L8.5 8.5l.94-2.06 2.06-.94-2.06-.94L8.5 2.5l-.94 2.06-2.06.94zm10 10l.94 2.06.94-2.06 2.06-.94-2.06-.94-.94-2.06-.94 2.06-2.06.94z\"/><path d=\"M17.41 7.96l-1.37-1.37c-.4-.4-.92-.59-1.43-.59-.52 0-1.04.2-1.43.59L10.3 9.45l-7.72 7.72c-.78.78-.78 2.05 0 2.83L4 21.41c.39.39.9.59 1.41.59.51 0 1.02-.2 1.41-.59l7.78-7.78 2.81-2.81c.8-.78.8-2.07 0-2.86zM5.41 20L4 18.59l7.72-7.72 1.47 1.35L5.41 20z\"/>\n",
              "  </svg>\n",
              "      </button>\n",
              "      \n",
              "  <style>\n",
              "    .colab-df-container {\n",
              "      display:flex;\n",
              "      flex-wrap:wrap;\n",
              "      gap: 12px;\n",
              "    }\n",
              "\n",
              "    .colab-df-convert {\n",
              "      background-color: #E8F0FE;\n",
              "      border: none;\n",
              "      border-radius: 50%;\n",
              "      cursor: pointer;\n",
              "      display: none;\n",
              "      fill: #1967D2;\n",
              "      height: 32px;\n",
              "      padding: 0 0 0 0;\n",
              "      width: 32px;\n",
              "    }\n",
              "\n",
              "    .colab-df-convert:hover {\n",
              "      background-color: #E2EBFA;\n",
              "      box-shadow: 0px 1px 2px rgba(60, 64, 67, 0.3), 0px 1px 3px 1px rgba(60, 64, 67, 0.15);\n",
              "      fill: #174EA6;\n",
              "    }\n",
              "\n",
              "    [theme=dark] .colab-df-convert {\n",
              "      background-color: #3B4455;\n",
              "      fill: #D2E3FC;\n",
              "    }\n",
              "\n",
              "    [theme=dark] .colab-df-convert:hover {\n",
              "      background-color: #434B5C;\n",
              "      box-shadow: 0px 1px 3px 1px rgba(0, 0, 0, 0.15);\n",
              "      filter: drop-shadow(0px 1px 2px rgba(0, 0, 0, 0.3));\n",
              "      fill: #FFFFFF;\n",
              "    }\n",
              "  </style>\n",
              "\n",
              "      <script>\n",
              "        const buttonEl =\n",
              "          document.querySelector('#df-77d7010f-4186-4872-a218-ef59619e6727 button.colab-df-convert');\n",
              "        buttonEl.style.display =\n",
              "          google.colab.kernel.accessAllowed ? 'block' : 'none';\n",
              "\n",
              "        async function convertToInteractive(key) {\n",
              "          const element = document.querySelector('#df-77d7010f-4186-4872-a218-ef59619e6727');\n",
              "          const dataTable =\n",
              "            await google.colab.kernel.invokeFunction('convertToInteractive',\n",
              "                                                     [key], {});\n",
              "          if (!dataTable) return;\n",
              "\n",
              "          const docLinkHtml = 'Like what you see? Visit the ' +\n",
              "            '<a target=\"_blank\" href=https://colab.research.google.com/notebooks/data_table.ipynb>data table notebook</a>'\n",
              "            + ' to learn more about interactive tables.';\n",
              "          element.innerHTML = '';\n",
              "          dataTable['output_type'] = 'display_data';\n",
              "          await google.colab.output.renderOutput(dataTable, element);\n",
              "          const docLink = document.createElement('div');\n",
              "          docLink.innerHTML = docLinkHtml;\n",
              "          element.appendChild(docLink);\n",
              "        }\n",
              "      </script>\n",
              "    </div>\n",
              "  </div>\n",
              "  "
            ]
          },
          "metadata": {},
          "execution_count": 212
        }
      ]
    },
    {
      "cell_type": "code",
      "source": [
        "df.to_csv('tiki.scraped.csv', index = True)"
      ],
      "metadata": {
        "id": "bmq4kB-zsHYK"
      },
      "execution_count": 213,
      "outputs": []
    }
  ]
}