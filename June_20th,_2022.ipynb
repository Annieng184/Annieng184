{
  "nbformat": 4,
  "nbformat_minor": 0,
  "metadata": {
    "colab": {
      "name": "June 20th, 2022",
      "provenance": [],
      "collapsed_sections": [
        "ZmWurLmK6mbO",
        "yIvvhhYiY42e",
        "YUzduYDbav-P",
        "HbIPIvtUhaGf",
        "d-MjPzTOh43L",
        "YkPd3MF5d-Vn",
        "LsN2yfuNiC_p",
        "TZwE2LfLdMcx",
        "O0bsD-95i_KB",
        "SvMHdBWS2tSq",
        "WBoi0tnBiStR",
        "v4qNQRVljI9R",
        "TXKvJMBVjuXo",
        "tkWZuwuc6ppv",
        "-vO3LXQw6FUX",
        "xxcv5V-868fQ",
        "d51tqIAz74tb",
        "qSqTV1Fy9URg",
        "7Gwwo0N9-TpH",
        "aUh7FXN1-sDE",
        "W6cho-CF_eF9",
        "QCwMzBYN83Y4",
        "3Y4F86uc9NSK",
        "i1S-WCFGlTZ0",
        "5GwlJY7PncI0",
        "UNrUfsEfMkWq",
        "Qk3ShsyzNAqM",
        "ONni86GYnf-R"
      ],
      "toc_visible": true,
      "include_colab_link": true
    },
    "kernelspec": {
      "name": "python3",
      "display_name": "Python 3"
    }
  },
  "cells": [
    {
      "cell_type": "markdown",
      "metadata": {
        "id": "view-in-github",
        "colab_type": "text"
      },
      "source": [
        "<a href=\"https://colab.research.google.com/github/Annieng184/Annieng184/blob/main/June_20th%2C_2022.ipynb\" target=\"_parent\"><img src=\"https://colab.research.google.com/assets/colab-badge.svg\" alt=\"Open In Colab\"/></a>"
      ]
    },
    {
      "cell_type": "markdown",
      "metadata": {
        "id": "zOC9UNC3g71V"
      },
      "source": [
        "![](https://i.imgur.com/0AUxkXt.png)"
      ]
    },
    {
      "cell_type": "markdown",
      "metadata": {
        "id": "ZmWurLmK6mbO"
      },
      "source": [
        "# 1 - FOR LOOP\n",
        "\n",
        "Below are a set of questions about Python For Loop data structure and method. \n",
        "\n",
        "The questions are order to gradually increase in difficulty.\n",
        "\n",
        "Let's start."
      ]
    },
    {
      "cell_type": "markdown",
      "source": [
        "## Q1: Even numbers.\n",
        "Write program to print all even numbers from 1 to n.\n",
        "\n",
        "*Example:*\n",
        "```python \n",
        ">>> 5 #input\n",
        ">>> 2 4 # output \n",
        "```"
      ],
      "metadata": {
        "id": "HbIPIvtUhaGf"
      }
    },
    {
      "cell_type": "code",
      "source": [
        "# Your code here\n",
        "n = int(input('Enter a number; '))\n",
        "for i in range(1, n):\n",
        "  if i %2 == 0:\n",
        "    print(i, end = ' ')"
      ],
      "metadata": {
        "id": "iyTOi3M0hZqj",
        "colab": {
          "base_uri": "https://localhost:8080/"
        },
        "outputId": "f877536a-7815-4822-d46f-a816a2fd6150"
      },
      "execution_count": 4,
      "outputs": [
        {
          "output_type": "stream",
          "name": "stdout",
          "text": [
            "Enter a number; 5\n",
            "2 4 "
          ]
        }
      ]
    },
    {
      "cell_type": "markdown",
      "source": [
        "## Q2: Sum\n",
        "Write a program to find sum of all even numbers between 1 to n.\n",
        "*Example:* \n",
        "```python \n",
        ">>> 5 #input\n",
        ">>> 6 #output\n",
        "```"
      ],
      "metadata": {
        "id": "d-MjPzTOh43L"
      }
    },
    {
      "cell_type": "code",
      "source": [
        "# Your code here\n",
        "n = int(input('Enter a number; '))\n",
        "sum = 0\n",
        "for i in range(1, n):\n",
        "  if i%2 ==0:\n",
        "    sum += i\n",
        "print(sum)"
      ],
      "metadata": {
        "id": "8g_rYCTVh3BN",
        "colab": {
          "base_uri": "https://localhost:8080/"
        },
        "outputId": "a5d072ba-bbeb-4691-e949-98573403c163"
      },
      "execution_count": 6,
      "outputs": [
        {
          "output_type": "stream",
          "name": "stdout",
          "text": [
            "Enter a number; 5\n",
            "6\n"
          ]
        }
      ]
    },
    {
      "cell_type": "markdown",
      "metadata": {
        "id": "yIvvhhYiY42e"
      },
      "source": [
        "## Q3: Series\n",
        "\n",
        "Given a tuple of 2 positive integers where the second integer is larger than the first, print out all the integers between those two integers (inclusive).\n",
        "\n",
        "*Example:*\n",
        "```python\n",
        ">>> T = (3,6) # Given tuple T\n",
        "3 4 5 6 # output\n",
        "```\n"
      ]
    },
    {
      "cell_type": "code",
      "metadata": {
        "id": "JNwOPzi5awP9",
        "colab": {
          "base_uri": "https://localhost:8080/"
        },
        "outputId": "695479d8-827c-4302-f045-c83761612a28"
      },
      "source": [
        "#Your code here\n",
        "T = (2,6)\n",
        "if T[0] < T[1]:\n",
        "  for i in range(T[0], T[1]+1):\n",
        "    print(i, end = ' ')\n"
      ],
      "execution_count": 12,
      "outputs": [
        {
          "output_type": "stream",
          "name": "stdout",
          "text": [
            "2 3 4 5 6 "
          ]
        }
      ]
    },
    {
      "cell_type": "markdown",
      "metadata": {
        "id": "YUzduYDbav-P"
      },
      "source": [
        "## Q4: Robust Series\n",
        "\n",
        "Given a tuple of 2 positive integers, print all integers between those 2 integers (inclusively) with the condition:\n",
        "- Print in *increasing* order if the first integer is smaller than the second\n",
        "- Print in *decreasing* order if the first integer is greater than or equal to the second.\n",
        "\n",
        "The easiest way to do this problem is to use the function [`range()`](https://www.geeksforgeeks.org/python-range-function/) extensively. Think about how to get a sequence of numbers backwards.\n",
        "\n",
        "*Example #1:*\n",
        "```python\n",
        ">>> T = (8,5) # Given tuple T\n",
        "8 7 6 5 # output\n",
        "```\n",
        "\n",
        "*Example #2:*\n",
        "```python\n",
        ">>> T = (1,3) # Given tuple T\n",
        "1 2 3 # output\n",
        "```"
      ]
    },
    {
      "cell_type": "code",
      "metadata": {
        "id": "pPMZF0eWXOUD"
      },
      "source": [
        "# Your code here\n",
        "T = (10,4)\n",
        "if T[0] < T[1]:\n",
        "  for i in range(T[0], T[1]+1):\n",
        "    print(i, end = ' ')\n",
        "else:\n",
        "  for i in range(T[0], T[1] -1, -1):\n",
        "    print(i, end = ' ')"
      ],
      "execution_count": null,
      "outputs": []
    },
    {
      "cell_type": "markdown",
      "metadata": {
        "id": "YkPd3MF5d-Vn"
      },
      "source": [
        "## Q5: Factorial \n",
        "\n",
        "In mathematics, the factorial of an integer n, denoted by n! is the following product:\n",
        "\n",
        "$$\n",
        "n! = 1 \\times 2 \\times 3 \\times \\ldots \\times n\n",
        "$$\n",
        "\n",
        "For a given integer n calculate the value n!. Don't use math module in this exercise!\n",
        "\n",
        "*Example #1:*\n",
        "```python\n",
        ">>> 4 # Given n\n",
        "24 # output (24 = 1*2*3*4)\n",
        "```\n",
        "\n",
        "*Example #2:*\n",
        "```python\n",
        ">>> 10 # Given n\n",
        "3628800 # output (3628800 = 1*2*3*4*5*6*7*8*9*10)\n",
        "```"
      ]
    },
    {
      "cell_type": "code",
      "metadata": {
        "id": "uOUw_j0TXSst",
        "colab": {
          "base_uri": "https://localhost:8080/"
        },
        "outputId": "1960e1e9-88f4-4932-9841-e370d08c85da"
      },
      "source": [
        "# Your code here\n",
        "n = int(input('Enter a number; '))\n",
        "total = 1\n",
        "for i in range(1, n+1):\n",
        "  total = total*i\n",
        "print(total)\n"
      ],
      "execution_count": 15,
      "outputs": [
        {
          "output_type": "stream",
          "name": "stdout",
          "text": [
            "Enter a number; 10\n",
            "3628800\n"
          ]
        }
      ]
    },
    {
      "cell_type": "markdown",
      "metadata": {
        "id": "LsN2yfuNiC_p"
      },
      "source": [
        "## Q6: Sum of factorials\n",
        "\n",
        "In mathematics, the factorial of an integer n, denoted by n! is the following product:\n",
        "\n",
        "$$\n",
        "n! = 1 \\times 2 \\times 3 \\times \\ldots \\times n\n",
        "$$\n",
        "\n",
        "For the given integer n calculate the value\n",
        "\n",
        "$$\n",
        "1! + 2! + 3! + \\ldots + n!\n",
        "$$\n",
        "\n",
        "Try to discover the solution that uses only one for-loop. And don't use math module in this exercise.\n",
        "\n",
        "*Example #1:*\n",
        "```python\n",
        ">>> n = 4 # Given n\n",
        "33 # output (33 = 1! + 2! + 3! + 4!)\n",
        "```\n",
        "\n",
        "*Example #2:*\n",
        "```python\n",
        ">>> 10 # Given n\n",
        "4037913 # output (4037913 = 1! + 2! + 3! + 4! + 5! + 6! + 7! + 8! + 9! + 10!)\n",
        "```"
      ]
    },
    {
      "cell_type": "code",
      "metadata": {
        "id": "lyUXN93HXVV0",
        "colab": {
          "base_uri": "https://localhost:8080/"
        },
        "outputId": "0e804527-0e43-43fb-cf90-5f2644dabb49"
      },
      "source": [
        "# Your code here\n",
        "n = int(input('Enter a number; '))\n",
        "count = 0\n",
        "total = 1\n",
        "for i in range(1, n+1):\n",
        "  total = total*i\n",
        "  count += total\n",
        "\n",
        "print(count)\n"
      ],
      "execution_count": 17,
      "outputs": [
        {
          "output_type": "stream",
          "name": "stdout",
          "text": [
            "Enter a number; 10\n",
            "4037913\n"
          ]
        }
      ]
    },
    {
      "cell_type": "markdown",
      "source": [
        "## Q7: Factor check\n",
        "Given a positive integer n, print out all of its factors. \n",
        "\n",
        "*Example*\n",
        "```python\n",
        ">>> n = 12\n",
        "1\n",
        "2\n",
        "3\n",
        "4\n",
        "6\n",
        "12\n",
        ">>> n = 7\n",
        "1\n",
        "7\n",
        "```"
      ],
      "metadata": {
        "id": "KycZanQeBehB"
      }
    },
    {
      "cell_type": "code",
      "source": [
        "n = int(input('Enter a number; '))\n",
        "for i in range(1, n+1):\n",
        "  if n%i == 0:\n",
        "    print(i)"
      ],
      "metadata": {
        "id": "Lo4hEa6sBop4",
        "colab": {
          "base_uri": "https://localhost:8080/"
        },
        "outputId": "ca4dfe72-bb82-4ab2-e5d3-d91009c9096c"
      },
      "execution_count": 19,
      "outputs": [
        {
          "output_type": "stream",
          "name": "stdout",
          "text": [
            "Enter a number; 7\n",
            "1\n",
            "7\n"
          ]
        }
      ]
    },
    {
      "cell_type": "markdown",
      "source": [
        "## Q8: Prime check\n",
        "\n",
        "Given an integer n>1, check if it is a prime number. Print `True` if it is, and `False` if it isn't.\n",
        "\n",
        ">A prime number is a positive integer that has only 2 factors: 1 and itself.\n",
        "\n",
        "*Example*\n",
        "```python\n",
        ">>> n = 2\n",
        "True\n",
        ">>> n = 23\n",
        "True\n",
        ">>> n = 18\n",
        "False\n",
        "```"
      ],
      "metadata": {
        "id": "grKh_sQRAffk"
      }
    },
    {
      "cell_type": "code",
      "source": [
        "n = int(input('Enter a number; '))\n",
        "prime_check = 0\n",
        "for i in range(2, n+1):\n",
        "  if n%i ==0:\n",
        "    prime_check += 1\n",
        "\n",
        "if prime_check > 2:\n",
        "  print(False)\n",
        "else:\n",
        "  print(True)"
      ],
      "metadata": {
        "id": "lhyEIiP6Bdxm",
        "colab": {
          "base_uri": "https://localhost:8080/"
        },
        "outputId": "8297aaa9-e5a7-4538-94f5-cd548a505300"
      },
      "execution_count": 21,
      "outputs": [
        {
          "output_type": "stream",
          "name": "stdout",
          "text": [
            "Enter a number: 33\n",
            "False\n"
          ]
        }
      ]
    },
    {
      "cell_type": "markdown",
      "source": [
        "## Q9: Perfect number check\n",
        "Given an integer n>1, check if it is a perfect number. Print `True` if it is, and `False` if it isn't.\n",
        "\n",
        "> A perfect number is a positive integer whose factors (not including itself) sum up equal to that number itself.\n",
        "\n",
        "*Example*\n",
        "```python\n",
        ">>> n = 6\n",
        "True # because 1+2+3 == 6\n",
        ">>> n = 10\n",
        "False # because 1+2+5 != 10\n",
        ">>> n = 28\n",
        "True # because 1+2+4+7+14 == 28\n",
        "```"
      ],
      "metadata": {
        "id": "TJYJPxjGDzIj"
      }
    },
    {
      "cell_type": "code",
      "source": [
        "n = int(input('Enter a number; '))\n",
        "count = 0\n",
        "for i in range(1, n):\n",
        "  if n%i ==0:\n",
        "    count +=i\n",
        "if count == n:\n",
        "  print(True)\n",
        "else:\n",
        "  print(False)\n",
        "\n",
        "\n"
      ],
      "metadata": {
        "id": "nIdo-Sc5Fn0t",
        "colab": {
          "base_uri": "https://localhost:8080/"
        },
        "outputId": "5b5094d5-66bf-4625-f7c6-4b9c8c760cad"
      },
      "execution_count": 22,
      "outputs": [
        {
          "output_type": "stream",
          "name": "stdout",
          "text": [
            "Enter a number; 6\n",
            "True\n"
          ]
        }
      ]
    },
    {
      "cell_type": "markdown",
      "source": [
        "## Q10: Filled square\n",
        "\n",
        "Given an integer size n>2, draw a filled square of stars with that size.\n",
        "\n",
        "*Example*\n",
        "```python\n",
        ">>> n = 3 # Given size\n",
        "***\n",
        "***\n",
        "*** # 3x3 square of stars\n",
        ">>> n = 5\n",
        "*****\n",
        "*****\n",
        "*****\n",
        "*****\n",
        "*****\n",
        "```"
      ],
      "metadata": {
        "id": "lxidbKDoGSJV"
      }
    },
    {
      "cell_type": "code",
      "source": [
        "n = int(input('Enter a number: '))\n",
        "for i in range(n):\n",
        "  print('*'*n)"
      ],
      "metadata": {
        "id": "M9OJMm62HIa2",
        "colab": {
          "base_uri": "https://localhost:8080/"
        },
        "outputId": "feaf7ac6-f78d-4575-8616-f083dd5865ca"
      },
      "execution_count": 23,
      "outputs": [
        {
          "output_type": "stream",
          "name": "stdout",
          "text": [
            "Enter a number: 5\n",
            "*****\n",
            "*****\n",
            "*****\n",
            "*****\n",
            "*****\n"
          ]
        }
      ]
    },
    {
      "cell_type": "markdown",
      "source": [
        "## Q11: Hollow square\n",
        "\n",
        "Given an integer size n>2, draw a hollow (empty) square of stars with that size.\n",
        "\n",
        "*Example*\n",
        "```python\n",
        ">>> n = 3 # Given size\n",
        "***\n",
        "* *\n",
        "*** # 3x3 square of stars\n",
        ">>> n = 5\n",
        "*****\n",
        "*   *\n",
        "*   *\n",
        "*   *\n",
        "*****\n",
        "```"
      ],
      "metadata": {
        "id": "1YraodsuG-JN"
      }
    },
    {
      "cell_type": "code",
      "source": [
        "n = int(input('Enter a number: '))\n",
        "for i in range(n):\n",
        "  if i == 0 or i == n-1:\n",
        "    print('*'*n)\n",
        "  else:\n",
        "    print('*' + ' '*(n-2) + '*')"
      ],
      "metadata": {
        "id": "sPEsQX9RILIu",
        "colab": {
          "base_uri": "https://localhost:8080/"
        },
        "outputId": "582b1d8b-cbf8-4fa0-a0c5-de0447a33674"
      },
      "execution_count": 24,
      "outputs": [
        {
          "output_type": "stream",
          "name": "stdout",
          "text": [
            "Enter a number: 5\n",
            "*****\n",
            "*   *\n",
            "*   *\n",
            "*   *\n",
            "*****\n"
          ]
        }
      ]
    },
    {
      "cell_type": "code",
      "metadata": {
        "id": "eR28S2yqRY33"
      },
      "source": [
        "# Your code here\n"
      ],
      "execution_count": null,
      "outputs": []
    },
    {
      "cell_type": "code",
      "source": [
        ""
      ],
      "metadata": {
        "id": "ncV9QrubJLjg"
      },
      "execution_count": null,
      "outputs": []
    }
  ]
}