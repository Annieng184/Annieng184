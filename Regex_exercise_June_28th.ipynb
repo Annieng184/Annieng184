{
  "nbformat": 4,
  "nbformat_minor": 0,
  "metadata": {
    "colab": {
      "name": "Regex exercise_June 28th.ipynb",
      "provenance": [],
      "authorship_tag": "ABX9TyN0SoMgpE/afFatBMVTxarm",
      "include_colab_link": true
    },
    "kernelspec": {
      "name": "python3",
      "display_name": "Python 3"
    },
    "language_info": {
      "name": "python"
    }
  },
  "cells": [
    {
      "cell_type": "markdown",
      "metadata": {
        "id": "view-in-github",
        "colab_type": "text"
      },
      "source": [
        "<a href=\"https://colab.research.google.com/github/Annieng184/Annieng184/blob/main/Regex_exercise_June_28th.ipynb\" target=\"_parent\"><img src=\"https://colab.research.google.com/assets/colab-badge.svg\" alt=\"Open In Colab\"/></a>"
      ]
    },
    {
      "cell_type": "code",
      "source": [
        "import re"
      ],
      "metadata": {
        "id": "XAlkxdFJAm_Q"
      },
      "execution_count": 2,
      "outputs": []
    },
    {
      "cell_type": "code",
      "execution_count": 3,
      "metadata": {
        "colab": {
          "base_uri": "https://localhost:8080/"
        },
        "id": "BfjaAUhN8T0p",
        "outputId": "d4fc0e22-d8d0-4404-c253-d23dbe74c197"
      },
      "outputs": [
        {
          "output_type": "stream",
          "name": "stdout",
          "text": [
            "['goal', 'sit']\n"
          ]
        }
      ],
      "source": [
        "#For the given list, filter all elements that do not contain the letter e.\n",
        "given_list = ['goal', 'new', 'user', 'sit', 'eat', 'dinner']\n",
        "print([i for i in given_list if not re.search('e',i)])"
      ]
    },
    {
      "cell_type": "code",
      "source": [
        "#Write a function to verify that a string contains 'z', and that 'z' is not at the start or end of any word\n",
        "n = str(input('Enter string here: '))\n",
        "def find_z_in_the_middle(n):\n",
        "  #check if n contain 'z'\n",
        "  pattern = r'z'\n",
        "  if not re.search(pattern,n):\n",
        "    return False\n",
        "\n",
        "  #find groups of non-space characters\n",
        "  pattern = r'(\\S+)'\n",
        "  words = re.findall(pattern, n)\n",
        "\n",
        "  #check 'z' at the beginning and end\n",
        "  for word in words:\n",
        "    pattern = r'(^z|z$)'\n",
        "    if re.search(pattern, word):\n",
        "      return False\n",
        "  return True\n",
        "\n",
        "print(find_z_in_the_middle(n))\n",
        "  "
      ],
      "metadata": {
        "id": "YOUqnWBBAyoc",
        "colab": {
          "base_uri": "https://localhost:8080/"
        },
        "outputId": "d674221f-29ea-44df-e655-dce385b85874"
      },
      "execution_count": 24,
      "outputs": [
        {
          "output_type": "stream",
          "name": "stdout",
          "text": [
            "Enter string here: Our Husky runs zigzag in the garden\n",
            "False\n"
          ]
        }
      ]
    },
    {
      "cell_type": "code",
      "source": [
        "#Write a Python program to find sequences of lowercase letters joined with a underscore.\n",
        "n = str(input('Enter string here: '))\n",
        "def find_sequences(n):\n",
        "  pattern = '[a-z]+_'\n",
        "  if re.search(pattern, n):\n",
        "    return True\n",
        "  else:\n",
        "    return False\n",
        "\n",
        "print(find_sequences(n))"
      ],
      "metadata": {
        "colab": {
          "base_uri": "https://localhost:8080/"
        },
        "id": "zjyH_Dj6rPw5",
        "outputId": "3cd654ee-046e-45dc-ebff-9b92300f10dd"
      },
      "execution_count": 29,
      "outputs": [
        {
          "output_type": "stream",
          "name": "stdout",
          "text": [
            "Enter string here: letbetogether_\n",
            "True\n"
          ]
        }
      ]
    },
    {
      "cell_type": "code",
      "source": [
        ""
      ],
      "metadata": {
        "id": "hmlFqY02uVe3"
      },
      "execution_count": null,
      "outputs": []
    }
  ]
}