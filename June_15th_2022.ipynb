{
  "nbformat": 4,
  "nbformat_minor": 0,
  "metadata": {
    "colab": {
      "name": "June 15th, 2022.ipynb",
      "provenance": [],
      "authorship_tag": "ABX9TyMT6Ia4+ezY07Fk7etYGCmN",
      "include_colab_link": true
    },
    "kernelspec": {
      "name": "python3",
      "display_name": "Python 3"
    },
    "language_info": {
      "name": "python"
    }
  },
  "cells": [
    {
      "cell_type": "markdown",
      "metadata": {
        "id": "view-in-github",
        "colab_type": "text"
      },
      "source": [
        "<a href=\"https://colab.research.google.com/github/Annieng184/Annieng184/blob/main/June_15th_2022.ipynb\" target=\"_parent\"><img src=\"https://colab.research.google.com/assets/colab-badge.svg\" alt=\"Open In Colab\"/></a>"
      ]
    },
    {
      "cell_type": "code",
      "execution_count": null,
      "metadata": {
        "colab": {
          "base_uri": "https://localhost:8080/",
          "height": 52
        },
        "id": "bug-H8CulfTa",
        "outputId": "19505e7e-71e7-4a3e-bff4-4d9c46f34631"
      },
      "outputs": [
        {
          "name": "stdout",
          "output_type": "stream",
          "text": [
            "Enter something here: Elon Musk@134\n"
          ]
        },
        {
          "output_type": "execute_result",
          "data": {
            "text/plain": [
              "'134'"
            ],
            "application/vnd.google.colaboratory.intrinsic+json": {
              "type": "string"
            }
          },
          "metadata": {},
          "execution_count": 5
        }
      ],
      "source": [
        "#Removal all characters from a string (1)\n",
        "str = input('Enter something here: ')\n",
        "import re\n",
        "re.sub('\\D', '', str)"
      ]
    },
    {
      "cell_type": "code",
      "source": [
        "#Removal all characters from a string (2)\n",
        "str = input('Enter something here: ')\n",
        "result = ''.join(i for i in str if i.isdigit())\n",
        "print(result)"
      ],
      "metadata": {
        "colab": {
          "base_uri": "https://localhost:8080/"
        },
        "id": "hOwlUBi0md84",
        "outputId": "e1d9b052-61e2-4290-e3e3-3a3844ed06d6"
      },
      "execution_count": null,
      "outputs": [
        {
          "output_type": "stream",
          "name": "stdout",
          "text": [
            "Enter something here: ElonMusk@123-\n",
            "123\n"
          ]
        }
      ]
    },
    {
      "cell_type": "code",
      "source": [
        "#Replace each special symbol in the following string (1)\n",
        "str = input('Enter something here: ')\n",
        "import re\n",
        "no_special = re.sub('[^a-zA-Z0-9 \\n\\.]', '', str)\n",
        "print(no_special)"
      ],
      "metadata": {
        "colab": {
          "base_uri": "https://localhost:8080/"
        },
        "id": "0hnM04Q3mjUR",
        "outputId": "9f50bf52-b9cc-4cdd-afcb-5d5b03752660"
      },
      "execution_count": null,
      "outputs": [
        {
          "output_type": "stream",
          "name": "stdout",
          "text": [
            "Enter something here: ElonMusk@123-\n",
            "ElonMusk123\n"
          ]
        }
      ]
    },
    {
      "cell_type": "code",
      "source": [
        "#Replace each special symbol in the following string (2)\n",
        "str = input('Enter something here: ')\n",
        "output_str = []\n",
        "for c in str:\n",
        "  if (c >= 'a' and c <= 'z') or (c >= 'A' and c <= 'Z') or (c >= '0' and c <= '9'):\n",
        "    output_str.append(c)\n",
        "print(''.join(output_str))"
      ],
      "metadata": {
        "colab": {
          "base_uri": "https://localhost:8080/"
        },
        "id": "A-piC3LbmpA_",
        "outputId": "e6a1eea8-448d-4cf1-9515-2d45d10c2ed4"
      },
      "execution_count": null,
      "outputs": [
        {
          "output_type": "stream",
          "name": "stdout",
          "text": [
            "Enter something here: ElonMusk@123-\n",
            "ElonMusk123\n"
          ]
        }
      ]
    },
    {
      "cell_type": "code",
      "source": [
        "#Replace each special symbol in the following string (3)\n",
        "str = input('Enter something here: ')\n",
        "output_str = ''\n",
        "for c in str:\n",
        "  if (c >= 'a' and c <= 'z') or (c >= 'A' and c <= 'Z') or (c >= '0' and c <= '9'):\n",
        "    output_str += c\n",
        "print(output_str)"
      ],
      "metadata": {
        "colab": {
          "base_uri": "https://localhost:8080/"
        },
        "id": "Z3xcDskRmsvD",
        "outputId": "e2c504a6-262a-428b-bc37-deb23a73e32a"
      },
      "execution_count": null,
      "outputs": [
        {
          "output_type": "stream",
          "name": "stdout",
          "text": [
            "Enter something here: ElonMusk@123-\n",
            "ElonMusk123\n"
          ]
        }
      ]
    },
    {
      "cell_type": "code",
      "source": [
        "#Replace each special symbol with # in the following string\n",
        "str = input('Enter something here: ')\n",
        "no_special = re.sub('[^a-zA-Z0-9 \\n\\.]', '#', str)\n",
        "print(no_special)"
      ],
      "metadata": {
        "colab": {
          "base_uri": "https://localhost:8080/"
        },
        "id": "G5J9PCV1nSvS",
        "outputId": "1f02ef49-c686-4a2b-9e18-ae3bc78ce492"
      },
      "execution_count": null,
      "outputs": [
        {
          "output_type": "stream",
          "name": "stdout",
          "text": [
            "Enter something here: ElonMusk@123\n",
            "ElonMusk#123\n"
          ]
        }
      ]
    },
    {
      "cell_type": "code",
      "source": [
        "#Reverse a given string\n",
        "str = input('Enter something here: ')\n",
        "print(str[::-1])"
      ],
      "metadata": {
        "colab": {
          "base_uri": "https://localhost:8080/"
        },
        "id": "cmRIEIm3nZe4",
        "outputId": "49a3e79a-f57f-47c1-c9d5-300ee0491afd"
      },
      "execution_count": null,
      "outputs": [
        {
          "output_type": "stream",
          "name": "stdout",
          "text": [
            "Enter something here: Elon Musk\n",
            "ksuM nolE\n"
          ]
        }
      ]
    },
    {
      "cell_type": "code",
      "source": [
        "#Reverse a given string (not using [::-1]).\n",
        "str = input('Enter something here: ')\n",
        "def reverse_string(str):  \n",
        "    str1 = \"\"   \n",
        "    for i in str:  \n",
        "        str1 = i + str1  \n",
        "    return str1\n",
        "print(reverse_string(str))"
      ],
      "metadata": {
        "colab": {
          "base_uri": "https://localhost:8080/"
        },
        "id": "Gl81Xuuelpsh",
        "outputId": "882fe0ca-5581-4caa-be33-8832e0e1a181"
      },
      "execution_count": null,
      "outputs": [
        {
          "output_type": "stream",
          "name": "stdout",
          "text": [
            "Enter something here: Elon Musk\n",
            "ksuM nolE\n"
          ]
        }
      ]
    }
  ]
}