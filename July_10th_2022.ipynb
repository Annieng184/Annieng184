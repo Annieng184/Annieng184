{
  "nbformat": 4,
  "nbformat_minor": 0,
  "metadata": {
    "colab": {
      "name": " July_10th_2022.ipynb",
      "provenance": [],
      "authorship_tag": "ABX9TyPO4+t2Eq1935MYn1d9CDFJ",
      "include_colab_link": true
    },
    "kernelspec": {
      "name": "python3",
      "display_name": "Python 3"
    },
    "language_info": {
      "name": "python"
    }
  },
  "cells": [
    {
      "cell_type": "markdown",
      "metadata": {
        "id": "view-in-github",
        "colab_type": "text"
      },
      "source": [
        "<a href=\"https://colab.research.google.com/github/Annieng184/Annieng184/blob/main/July_10th_2022.ipynb\" target=\"_parent\"><img src=\"https://colab.research.google.com/assets/colab-badge.svg\" alt=\"Open In Colab\"/></a>"
      ]
    },
    {
      "cell_type": "markdown",
      "source": [
        "**Combine 2 lists/tuples without using zip\n",
        "The 2 lists/tuples may or may not have the same length. In that case, only combine up to the length of the shorter sequence**"
      ],
      "metadata": {
        "id": "CafZX2i_rF2J"
      }
    },
    {
      "cell_type": "code",
      "execution_count": 4,
      "metadata": {
        "colab": {
          "base_uri": "https://localhost:8080/"
        },
        "id": "Pqdrqb-mpOSH",
        "outputId": "9784dc08-e63e-4092-f594-d465158fac08"
      },
      "outputs": [
        {
          "output_type": "stream",
          "name": "stdout",
          "text": [
            "[(0, 5), (1, 6), (2, 7), (3, 8)]\n"
          ]
        }
      ],
      "source": [
        "#OPTION 1\n",
        "list_1 = [0,1,2,3,4,5]\n",
        "list_2 = [5,6,7,8]\n",
        "\n",
        "\n",
        "print([(list_1[i], list_2[i]) for i in range(min(len(list_1), len(list_2)))])"
      ]
    },
    {
      "cell_type": "code",
      "source": [
        "#OPTION 2\n",
        "list_3 = [0,1,2,3,4,5]\n",
        "list_4 = [5,6,7,8]\n",
        "\n",
        "result = []\n",
        "for i in range(min(len(list_3), len(list_4))):\n",
        "  result.append((list_3[i], list_4[i]))\n",
        "print(result)"
      ],
      "metadata": {
        "colab": {
          "base_uri": "https://localhost:8080/"
        },
        "id": "3JO06U1Krrbc",
        "outputId": "53189345-5a53-4f79-d2f3-94a118bfdcb4"
      },
      "execution_count": 3,
      "outputs": [
        {
          "output_type": "stream",
          "name": "stdout",
          "text": [
            "[(0, 5), (1, 6), (2, 7), (3, 8)]\n"
          ]
        }
      ]
    },
    {
      "cell_type": "markdown",
      "source": [
        "**Capitalize the first character of a string and not change the format of the rest**"
      ],
      "metadata": {
        "id": "BGS7SqaIrwsZ"
      }
    },
    {
      "cell_type": "code",
      "source": [
        "string = 'chinh NGUYEN'\n",
        "result = string[0].upper() + string[1:]\n",
        "print(result)"
      ],
      "metadata": {
        "colab": {
          "base_uri": "https://localhost:8080/"
        },
        "id": "EhGEe0C-r0an",
        "outputId": "8132974e-9860-44e6-a7b0-38dfc16c7de1"
      },
      "execution_count": 6,
      "outputs": [
        {
          "output_type": "stream",
          "name": "stdout",
          "text": [
            "Chinh NGUYEN\n"
          ]
        }
      ]
    },
    {
      "cell_type": "markdown",
      "source": [
        "**Extract username and domain of an email**"
      ],
      "metadata": {
        "id": "1iJK1Qnot135"
      }
    },
    {
      "cell_type": "code",
      "source": [
        "# USING REGEX\n",
        "import re\n",
        "email = 'hatrang1847@gmail.com'\n",
        "def email_extract(email):\n",
        "  pattern = r'(\\S+)@'\n",
        "  return re.findall(pattern, email)\n",
        "def domain_extract(email):\n",
        "  pattern = r'@(\\S+)'\n",
        "  return re.findall(pattern, email)\n",
        "print(email_extract(email))\n",
        "print(domain_extract(email))\n"
      ],
      "metadata": {
        "colab": {
          "base_uri": "https://localhost:8080/"
        },
        "id": "jq5Hnoabt4oX",
        "outputId": "4ade552b-3b96-4894-f254-57a75c151428"
      },
      "execution_count": 8,
      "outputs": [
        {
          "output_type": "stream",
          "name": "stdout",
          "text": [
            "['hatrang1847']\n",
            "['gmail.com']\n"
          ]
        }
      ]
    },
    {
      "cell_type": "code",
      "source": [
        "#USING STRING AND SLICING\n",
        "email = 'chinh.nguyen@coderschool.vn'\n",
        "def extract_email(email):\n",
        "  return email.split('@')[0]\n",
        "def extract_domain(email):\n",
        "  return email.split('@')[1]\n",
        "\n",
        "print(extract_email(email))\n",
        "print(extract_domain(email))"
      ],
      "metadata": {
        "colab": {
          "base_uri": "https://localhost:8080/"
        },
        "id": "h_t88LECuAx-",
        "outputId": "6b38e74e-48e9-4357-af8a-0d52840778f9"
      },
      "execution_count": 9,
      "outputs": [
        {
          "output_type": "stream",
          "name": "stdout",
          "text": [
            "chinh.nguyen\n",
            "coderschool.vn\n"
          ]
        }
      ]
    },
    {
      "cell_type": "markdown",
      "source": [
        "**Upper case all the keys of a dictionary**"
      ],
      "metadata": {
        "id": "P6CHTdx7v2WQ"
      }
    },
    {
      "cell_type": "code",
      "source": [
        "old_dict = {'Chinh': 9.5, 'Minh': 10, 'Nhan': 8, 'Tien': 7, 'Quan': 8.5}\n",
        "\n",
        "def cap_keys(old_dict):\n",
        "  result = {}\n",
        "  for key, value in old_dict.items():\n",
        "    upper_key = key.upper()\n",
        "    result[upper_key] = result.get(upper_key, 0) + value\n",
        "  return result\n",
        "print(cap_keys(old_dict))"
      ],
      "metadata": {
        "colab": {
          "base_uri": "https://localhost:8080/"
        },
        "id": "DihsBkPav_kY",
        "outputId": "a162b097-f112-42d1-9893-01e09652d7a6"
      },
      "execution_count": 10,
      "outputs": [
        {
          "output_type": "stream",
          "name": "stdout",
          "text": [
            "{'CHINH': 9.5, 'MINH': 10, 'NHAN': 8, 'TIEN': 7, 'QUAN': 8.5}\n"
          ]
        }
      ]
    },
    {
      "cell_type": "markdown",
      "source": [
        "**Check if a string contains number. If not, append '123' to it, otherwise do nothing**"
      ],
      "metadata": {
        "id": "jkw74dUuwCzk"
      }
    },
    {
      "cell_type": "code",
      "source": [
        "import re\n",
        "string = 'The Greatest Showman'\n",
        "new_list = []\n",
        "def string_check(string):\n",
        "  result = re.findall('[0-9]+', string)\n",
        "  return True if result else False\n",
        "\n",
        "if string_check(string) is False:\n",
        "  new_list.append(string +'123')\n",
        "  print(new_list)\n",
        "else:\n",
        "  print(string)"
      ],
      "metadata": {
        "colab": {
          "base_uri": "https://localhost:8080/"
        },
        "id": "6QwbTARkwVYo",
        "outputId": "2ba680d9-6e30-45d6-e5d8-891f156b3aec"
      },
      "execution_count": 11,
      "outputs": [
        {
          "output_type": "stream",
          "name": "stdout",
          "text": [
            "['The Greatest Showman123']\n"
          ]
        }
      ]
    }
  ]
}