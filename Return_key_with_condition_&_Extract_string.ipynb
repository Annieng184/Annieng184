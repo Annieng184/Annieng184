{
  "nbformat": 4,
  "nbformat_minor": 0,
  "metadata": {
    "colab": {
      "name": "Return key with condition & Extract string.ipynb",
      "provenance": [],
      "authorship_tag": "ABX9TyPVH2yJboYiY6yw0a/fAo77",
      "include_colab_link": true
    },
    "kernelspec": {
      "name": "python3",
      "display_name": "Python 3"
    },
    "language_info": {
      "name": "python"
    }
  },
  "cells": [
    {
      "cell_type": "markdown",
      "metadata": {
        "id": "view-in-github",
        "colab_type": "text"
      },
      "source": [
        "<a href=\"https://colab.research.google.com/github/Annieng184/Annieng184/blob/main/Return_key_with_condition_%26_Extract_string.ipynb\" target=\"_parent\"><img src=\"https://colab.research.google.com/assets/colab-badge.svg\" alt=\"Open In Colab\"/></a>"
      ]
    },
    {
      "cell_type": "markdown",
      "source": [
        "**Return key of item that has larget/smallest value**"
      ],
      "metadata": {
        "id": "wNp5OdUyQW09"
      }
    },
    {
      "cell_type": "code",
      "source": [
        "grades = {'Chinh': 9.5, 'Minh': 10, 'Nhan': 8, 'Tien': 7, 'Quan': 8.5}\n",
        "def min_key(grades):\n",
        "  return min(grades, key=grades.get)\n",
        "def max_key(grades):\n",
        "  return max(grades, key=grades.get)\n",
        "print('Person who has min grade is: ', min_key(grades))\n",
        "print('Person who has max grade is: ', max_key(grades))"
      ],
      "metadata": {
        "colab": {
          "base_uri": "https://localhost:8080/"
        },
        "id": "MDtf3b6YQWhi",
        "outputId": "55cf6862-36bb-4cd2-92a6-3ed337d3cda8"
      },
      "execution_count": 3,
      "outputs": [
        {
          "output_type": "stream",
          "name": "stdout",
          "text": [
            "Person who has min grade is:  Tien\n",
            "Person who has max grade is:  Minh\n"
          ]
        }
      ]
    },
    {
      "cell_type": "markdown",
      "source": [
        "**Extract given file path**"
      ],
      "metadata": {
        "id": "KbU_VWr_Xe3f"
      }
    },
    {
      "cell_type": "markdown",
      "source": [
        "```python\n",
        "file_path = '/Users/myusername/Desktop/MyFOLDER/Database/my.image.jpeg'\n",
        "```\n",
        "\n",
        "***WITHOUT REGEX***, extract and print out two parts:\n",
        "1. The directory path: `/Users/myusername/Desktop/MyFOLDER/Database` (having `/` at the end is also fine)\n",
        "2. The file name *without* extension: `my.image`"
      ],
      "metadata": {
        "id": "tWMutSdbXtw5"
      }
    },
    {
      "cell_type": "code",
      "execution_count": 6,
      "metadata": {
        "colab": {
          "base_uri": "https://localhost:8080/"
        },
        "id": "brEKcdZJQUTr",
        "outputId": "cfa4ea2d-a7ee-4727-e62e-95d175f2f917"
      },
      "outputs": [
        {
          "output_type": "stream",
          "name": "stdout",
          "text": [
            "inventory_path:    /Users/myusername/Desktop/MyFOLDER/Database/\n",
            "file name:    my.image\n"
          ]
        }
      ],
      "source": [
        "file_path = '/Users/myusername/Desktop/MyFOLDER/Database/my.image.jpeg'\n",
        "def inventory_path(file_path):\n",
        "  return file_path.split('my.image.jpeg')[0]\n",
        "def file_name(file_path):\n",
        "  return file_path.split('/')[6].strip('jpeg').strip('.')\n",
        "\n",
        "print('inventory_path:   ', inventory_path(file_path))\n",
        "print('file name:   ', file_name(file_path))\n"
      ]
    },
    {
      "cell_type": "code",
      "source": [
        "file_path = '/Users/myusername/Desktop/MyFOLDER/Database/my.image.jpeg'\n",
        "def inventory_path(file_path):\n",
        "  return ('/').join(file_path.split('/')[:6])\n",
        "def file_name(file_path):\n",
        "  return file_path.split('/')[-1].strip('jpeg').strip('.')\n",
        "\n",
        "print('inventory_path:   ', inventory_path(file_path))\n",
        "print('file name:   ', file_name(file_path))\n"
      ],
      "metadata": {
        "colab": {
          "base_uri": "https://localhost:8080/"
        },
        "id": "JFw0Xj-LX3HK",
        "outputId": "8f40f10a-1d0b-4fbf-c1b4-86852ac55b78"
      },
      "execution_count": 7,
      "outputs": [
        {
          "output_type": "stream",
          "name": "stdout",
          "text": [
            "inventory_path:    /Users/myusername/Desktop/MyFOLDER/Database\n",
            "file name:    my.image\n"
          ]
        }
      ]
    }
  ]
}