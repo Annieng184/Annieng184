{
  "nbformat": 4,
  "nbformat_minor": 0,
  "metadata": {
    "colab": {
      "name": "[Project] Tiki Web Scraper_July 5th.ipynb",
      "provenance": [],
      "include_colab_link": true
    },
    "kernelspec": {
      "name": "python3",
      "display_name": "Python 3"
    },
    "language_info": {
      "name": "python"
    }
  },
  "cells": [
    {
      "cell_type": "markdown",
      "metadata": {
        "id": "view-in-github",
        "colab_type": "text"
      },
      "source": [
        "<a href=\"https://colab.research.google.com/github/Annieng184/Annieng184/blob/main/%5BProject%5D_Tiki_Web_Scraper_July_5th.ipynb\" target=\"_parent\"><img src=\"https://colab.research.google.com/assets/colab-badge.svg\" alt=\"Open In Colab\"/></a>"
      ]
    },
    {
      "cell_type": "code",
      "execution_count": 1,
      "metadata": {
        "colab": {
          "base_uri": "https://localhost:8080/"
        },
        "id": "d4GlZmimV6Dr",
        "outputId": "f69da06f-994f-4e67-9369-f633af741c6d"
      },
      "outputs": [
        {
          "output_type": "stream",
          "name": "stdout",
          "text": [
            "Looking in indexes: https://pypi.org/simple, https://us-python.pkg.dev/colab-wheels/public/simple/\n",
            "Collecting selenium\n",
            "  Downloading selenium-4.3.0-py3-none-any.whl (981 kB)\n",
            "\u001b[K     |████████████████████████████████| 981 kB 5.3 MB/s \n",
            "\u001b[?25hCollecting urllib3[secure,socks]~=1.26\n",
            "  Downloading urllib3-1.26.9-py2.py3-none-any.whl (138 kB)\n",
            "\u001b[K     |████████████████████████████████| 138 kB 57.5 MB/s \n",
            "\u001b[?25hCollecting trio-websocket~=0.9\n",
            "  Downloading trio_websocket-0.9.2-py3-none-any.whl (16 kB)\n",
            "Collecting trio~=0.17\n",
            "  Downloading trio-0.21.0-py3-none-any.whl (358 kB)\n",
            "\u001b[K     |████████████████████████████████| 358 kB 30.5 MB/s \n",
            "\u001b[?25hRequirement already satisfied: sortedcontainers in /usr/local/lib/python3.7/dist-packages (from trio~=0.17->selenium) (2.4.0)\n",
            "Requirement already satisfied: attrs>=19.2.0 in /usr/local/lib/python3.7/dist-packages (from trio~=0.17->selenium) (21.4.0)\n",
            "Collecting sniffio\n",
            "  Downloading sniffio-1.2.0-py3-none-any.whl (10 kB)\n",
            "Requirement already satisfied: idna in /usr/local/lib/python3.7/dist-packages (from trio~=0.17->selenium) (2.10)\n",
            "Collecting async-generator>=1.9\n",
            "  Downloading async_generator-1.10-py3-none-any.whl (18 kB)\n",
            "Collecting outcome\n",
            "  Downloading outcome-1.2.0-py2.py3-none-any.whl (9.7 kB)\n",
            "Collecting wsproto>=0.14\n",
            "  Downloading wsproto-1.1.0-py3-none-any.whl (24 kB)\n",
            "Requirement already satisfied: PySocks!=1.5.7,<2.0,>=1.5.6 in /usr/local/lib/python3.7/dist-packages (from urllib3[secure,socks]~=1.26->selenium) (1.7.1)\n",
            "Collecting cryptography>=1.3.4\n",
            "  Downloading cryptography-37.0.4-cp36-abi3-manylinux_2_24_x86_64.whl (4.1 MB)\n",
            "\u001b[K     |████████████████████████████████| 4.1 MB 41.8 MB/s \n",
            "\u001b[?25hRequirement already satisfied: certifi in /usr/local/lib/python3.7/dist-packages (from urllib3[secure,socks]~=1.26->selenium) (2022.6.15)\n",
            "Collecting pyOpenSSL>=0.14\n",
            "  Downloading pyOpenSSL-22.0.0-py2.py3-none-any.whl (55 kB)\n",
            "\u001b[K     |████████████████████████████████| 55 kB 3.5 MB/s \n",
            "\u001b[?25hRequirement already satisfied: cffi>=1.12 in /usr/local/lib/python3.7/dist-packages (from cryptography>=1.3.4->urllib3[secure,socks]~=1.26->selenium) (1.15.0)\n",
            "Requirement already satisfied: pycparser in /usr/local/lib/python3.7/dist-packages (from cffi>=1.12->cryptography>=1.3.4->urllib3[secure,socks]~=1.26->selenium) (2.21)\n",
            "Collecting h11<1,>=0.9.0\n",
            "  Downloading h11-0.13.0-py3-none-any.whl (58 kB)\n",
            "\u001b[K     |████████████████████████████████| 58 kB 4.9 MB/s \n",
            "\u001b[?25hRequirement already satisfied: typing-extensions in /usr/local/lib/python3.7/dist-packages (from h11<1,>=0.9.0->wsproto>=0.14->trio-websocket~=0.9->selenium) (4.1.1)\n",
            "Installing collected packages: sniffio, outcome, h11, cryptography, async-generator, wsproto, urllib3, trio, pyOpenSSL, trio-websocket, selenium\n",
            "  Attempting uninstall: urllib3\n",
            "    Found existing installation: urllib3 1.24.3\n",
            "    Uninstalling urllib3-1.24.3:\n",
            "      Successfully uninstalled urllib3-1.24.3\n",
            "\u001b[31mERROR: pip's dependency resolver does not currently take into account all the packages that are installed. This behaviour is the source of the following dependency conflicts.\n",
            "requests 2.23.0 requires urllib3!=1.25.0,!=1.25.1,<1.26,>=1.21.1, but you have urllib3 1.26.9 which is incompatible.\n",
            "datascience 0.10.6 requires folium==0.2.1, but you have folium 0.8.3 which is incompatible.\u001b[0m\n",
            "Successfully installed async-generator-1.10 cryptography-37.0.4 h11-0.13.0 outcome-1.2.0 pyOpenSSL-22.0.0 selenium-4.3.0 sniffio-1.2.0 trio-0.21.0 trio-websocket-0.9.2 urllib3-1.26.9 wsproto-1.1.0\n",
            "Hit:1 https://developer.download.nvidia.com/compute/cuda/repos/ubuntu1804/x86_64  InRelease\n",
            "Get:2 https://cloud.r-project.org/bin/linux/ubuntu bionic-cran40/ InRelease [3,626 B]\n",
            "Ign:3 https://developer.download.nvidia.com/compute/machine-learning/repos/ubuntu1804/x86_64  InRelease\n",
            "Hit:4 http://archive.ubuntu.com/ubuntu bionic InRelease\n",
            "Hit:5 https://developer.download.nvidia.com/compute/machine-learning/repos/ubuntu1804/x86_64  Release\n",
            "Get:6 http://archive.ubuntu.com/ubuntu bionic-updates InRelease [88.7 kB]\n",
            "Get:7 http://ppa.launchpad.net/c2d4u.team/c2d4u4.0+/ubuntu bionic InRelease [15.9 kB]\n",
            "Get:8 http://security.ubuntu.com/ubuntu bionic-security InRelease [88.7 kB]\n",
            "Get:9 http://archive.ubuntu.com/ubuntu bionic-backports InRelease [74.6 kB]\n",
            "Hit:10 http://ppa.launchpad.net/cran/libgit2/ubuntu bionic InRelease\n",
            "Hit:11 http://ppa.launchpad.net/deadsnakes/ppa/ubuntu bionic InRelease\n",
            "Hit:12 http://ppa.launchpad.net/graphics-drivers/ppa/ubuntu bionic InRelease\n",
            "Get:14 http://ppa.launchpad.net/c2d4u.team/c2d4u4.0+/ubuntu bionic/main Sources [2,075 kB]\n",
            "Get:15 http://archive.ubuntu.com/ubuntu bionic-updates/universe amd64 Packages [2,298 kB]\n",
            "Get:16 http://archive.ubuntu.com/ubuntu bionic-updates/main amd64 Packages [3,302 kB]\n",
            "Get:17 http://archive.ubuntu.com/ubuntu bionic-updates/restricted amd64 Packages [1,075 kB]\n",
            "Get:18 http://ppa.launchpad.net/c2d4u.team/c2d4u4.0+/ubuntu bionic/main amd64 Packages [1,063 kB]\n",
            "Get:19 http://security.ubuntu.com/ubuntu bionic-security/restricted amd64 Packages [1,031 kB]\n",
            "Get:20 http://security.ubuntu.com/ubuntu bionic-security/universe amd64 Packages [1,521 kB]\n",
            "Get:21 http://security.ubuntu.com/ubuntu bionic-security/main amd64 Packages [2,871 kB]\n",
            "Fetched 15.5 MB in 6s (2,454 kB/s)\n",
            "Reading package lists... Done\n",
            "Reading package lists... Done\n",
            "Building dependency tree       \n",
            "Reading state information... Done\n",
            "The following package was automatically installed and is no longer required:\n",
            "  libnvidia-common-460\n",
            "Use 'apt autoremove' to remove it.\n",
            "The following additional packages will be installed:\n",
            "  chromium-browser chromium-browser-l10n chromium-codecs-ffmpeg-extra\n",
            "Suggested packages:\n",
            "  webaccounts-chromium-extension unity-chromium-extension\n",
            "The following NEW packages will be installed:\n",
            "  chromium-browser chromium-browser-l10n chromium-chromedriver\n",
            "  chromium-codecs-ffmpeg-extra\n",
            "0 upgraded, 4 newly installed, 0 to remove and 66 not upgraded.\n",
            "Need to get 89.8 MB of archives.\n",
            "After this operation, 302 MB of additional disk space will be used.\n",
            "Get:1 http://archive.ubuntu.com/ubuntu bionic-updates/universe amd64 chromium-codecs-ffmpeg-extra amd64 101.0.4951.64-0ubuntu0.18.04.1 [1,142 kB]\n",
            "Get:2 http://archive.ubuntu.com/ubuntu bionic-updates/universe amd64 chromium-browser amd64 101.0.4951.64-0ubuntu0.18.04.1 [78.5 MB]\n",
            "Get:3 http://archive.ubuntu.com/ubuntu bionic-updates/universe amd64 chromium-browser-l10n all 101.0.4951.64-0ubuntu0.18.04.1 [4,980 kB]\n",
            "Get:4 http://archive.ubuntu.com/ubuntu bionic-updates/universe amd64 chromium-chromedriver amd64 101.0.4951.64-0ubuntu0.18.04.1 [5,153 kB]\n",
            "Fetched 89.8 MB in 3s (32.9 MB/s)\n",
            "Selecting previously unselected package chromium-codecs-ffmpeg-extra.\n",
            "(Reading database ... 155639 files and directories currently installed.)\n",
            "Preparing to unpack .../chromium-codecs-ffmpeg-extra_101.0.4951.64-0ubuntu0.18.04.1_amd64.deb ...\n",
            "Unpacking chromium-codecs-ffmpeg-extra (101.0.4951.64-0ubuntu0.18.04.1) ...\n",
            "Selecting previously unselected package chromium-browser.\n",
            "Preparing to unpack .../chromium-browser_101.0.4951.64-0ubuntu0.18.04.1_amd64.deb ...\n",
            "Unpacking chromium-browser (101.0.4951.64-0ubuntu0.18.04.1) ...\n",
            "Selecting previously unselected package chromium-browser-l10n.\n",
            "Preparing to unpack .../chromium-browser-l10n_101.0.4951.64-0ubuntu0.18.04.1_all.deb ...\n",
            "Unpacking chromium-browser-l10n (101.0.4951.64-0ubuntu0.18.04.1) ...\n",
            "Selecting previously unselected package chromium-chromedriver.\n",
            "Preparing to unpack .../chromium-chromedriver_101.0.4951.64-0ubuntu0.18.04.1_amd64.deb ...\n",
            "Unpacking chromium-chromedriver (101.0.4951.64-0ubuntu0.18.04.1) ...\n",
            "Setting up chromium-codecs-ffmpeg-extra (101.0.4951.64-0ubuntu0.18.04.1) ...\n",
            "Setting up chromium-browser (101.0.4951.64-0ubuntu0.18.04.1) ...\n",
            "update-alternatives: using /usr/bin/chromium-browser to provide /usr/bin/x-www-browser (x-www-browser) in auto mode\n",
            "update-alternatives: using /usr/bin/chromium-browser to provide /usr/bin/gnome-www-browser (gnome-www-browser) in auto mode\n",
            "Setting up chromium-chromedriver (101.0.4951.64-0ubuntu0.18.04.1) ...\n",
            "Setting up chromium-browser-l10n (101.0.4951.64-0ubuntu0.18.04.1) ...\n",
            "Processing triggers for man-db (2.8.3-2ubuntu0.1) ...\n",
            "Processing triggers for hicolor-icon-theme (0.17-2) ...\n",
            "Processing triggers for mime-support (3.60ubuntu1) ...\n",
            "Processing triggers for libc-bin (2.27-3ubuntu1.3) ...\n",
            "/sbin/ldconfig.real: /usr/local/lib/python3.7/dist-packages/ideep4py/lib/libmkldnn.so.0 is not a symbolic link\n",
            "\n"
          ]
        }
      ],
      "source": [
        "# install selenium and other resources for crawling data\n",
        "!pip install selenium\n",
        "!apt-get update\n",
        "!apt install chromium-chromedriver"
      ]
    },
    {
      "cell_type": "code",
      "source": [
        "import re\n",
        "import time\n",
        "import pandas as pd\n",
        "\n",
        "from selenium import webdriver\n",
        "from selenium.webdriver.common.by import By\n",
        "from selenium.common.exceptions import NoSuchElementException"
      ],
      "metadata": {
        "id": "BtJ0XQrqV8x4"
      },
      "execution_count": 2,
      "outputs": []
    },
    {
      "cell_type": "code",
      "source": [
        "DRIVER = None"
      ],
      "metadata": {
        "id": "npKeYnz6WCx8"
      },
      "execution_count": 30,
      "outputs": []
    },
    {
      "cell_type": "code",
      "source": [
        "def initialize_driver():\n",
        "    global DRIVER\n",
        "    if DRIVER is None:\n",
        "        print('Initiating driver...')\n",
        "        chrome_options = webdriver.ChromeOptions()\n",
        "        chrome_options.add_argument('-headless') \n",
        "        chrome_options.add_argument('-no-sandbox') \n",
        "        DRIVER = webdriver.Chrome('chromedriver',options=chrome_options)  # Create the new chrome browser with specific options\n",
        "        print('Finished!')"
      ],
      "metadata": {
        "id": "qDN3JnmVWEZy"
      },
      "execution_count": 31,
      "outputs": []
    },
    {
      "cell_type": "code",
      "source": [
        "def close_driver():\n",
        "    global DRIVER\n",
        "    if not DRIVER is None:\n",
        "        print(\"Quitting driver...\")\n",
        "        DRIVER.quit()\n",
        "        print(\"Done!\")\n",
        "\n",
        "    DRIVER = None"
      ],
      "metadata": {
        "id": "7iHjs2R2WGuV"
      },
      "execution_count": 32,
      "outputs": []
    },
    {
      "cell_type": "code",
      "source": [
        "close_driver()\n",
        "initialize_driver()"
      ],
      "metadata": {
        "colab": {
          "base_uri": "https://localhost:8080/"
        },
        "id": "9UWDHiidWKlC",
        "outputId": "da67284e-4589-40a9-a769-a0fab805e807"
      },
      "execution_count": 33,
      "outputs": [
        {
          "output_type": "stream",
          "name": "stdout",
          "text": [
            "Initiating driver...\n",
            "Finished!\n"
          ]
        }
      ]
    },
    {
      "cell_type": "code",
      "source": [
        "DRIVER"
      ],
      "metadata": {
        "colab": {
          "base_uri": "https://localhost:8080/"
        },
        "id": "5538doj_WL1Z",
        "outputId": "d5bf8691-14f9-486f-c525-226c8698514b"
      },
      "execution_count": 34,
      "outputs": [
        {
          "output_type": "execute_result",
          "data": {
            "text/plain": [
              "<selenium.webdriver.chrome.webdriver.WebDriver (session=\"9982401fa81d3ea9f99bb022f6ade102\")>"
            ]
          },
          "metadata": {},
          "execution_count": 34
        }
      ]
    },
    {
      "cell_type": "markdown",
      "source": [
        "**PART 1: Input URL and find number of products within that site**"
      ],
      "metadata": {
        "id": "b3aqEbMTT-ZP"
      }
    },
    {
      "cell_type": "code",
      "source": [
        "DRIVER.get('https://tiki.vn/laptop-may-vi-tinh-linh-kien/c1846') #input URL"
      ],
      "metadata": {
        "id": "6sNC8mhSWM_J"
      },
      "execution_count": 44,
      "outputs": []
    },
    {
      "cell_type": "code",
      "source": [
        "products = DRIVER.find_elements(By.CLASS_NAME, 'product-item') #count elements\n",
        "len(products)"
      ],
      "metadata": {
        "colab": {
          "base_uri": "https://localhost:8080/"
        },
        "id": "DvxePIqmFTwh",
        "outputId": "2688f5b6-2b73-4a15-dba2-bcb4ebca80a5"
      },
      "execution_count": 45,
      "outputs": [
        {
          "output_type": "execute_result",
          "data": {
            "text/plain": [
              "48"
            ]
          },
          "metadata": {},
          "execution_count": 45
        }
      ]
    },
    {
      "cell_type": "code",
      "source": [
        "each_product = products[1] #get 1 element out for example"
      ],
      "metadata": {
        "id": "9P596l89PS7Z"
      },
      "execution_count": 51,
      "outputs": []
    },
    {
      "cell_type": "code",
      "source": [
        "each_product.get_attribute"
      ],
      "metadata": {
        "colab": {
          "base_uri": "https://localhost:8080/"
        },
        "id": "yJkXaZpJjNkM",
        "outputId": "bab4cd9e-0848-45ac-8922-da63715bbebc"
      },
      "execution_count": 40,
      "outputs": [
        {
          "output_type": "execute_result",
          "data": {
            "text/plain": [
              "<bound method WebElement.get_attribute of <selenium.webdriver.remote.webelement.WebElement (session=\"9982401fa81d3ea9f99bb022f6ade102\", element=\"490993ff-e5b9-41ae-a486-e6b794bd0dd9\")>>"
            ]
          },
          "metadata": {},
          "execution_count": 40
        }
      ]
    },
    {
      "cell_type": "markdown",
      "source": [
        "**PART 2: Find 4 elements: name, price, product_url, image**"
      ],
      "metadata": {
        "id": "uK4gbcWoSpSK"
      }
    },
    {
      "cell_type": "code",
      "source": [
        "#name\n",
        "name = each_product.find_element(By.TAG_NAME, 'h3')\n",
        "print(name.text)"
      ],
      "metadata": {
        "id": "prtqj24naFnB",
        "colab": {
          "base_uri": "https://localhost:8080/"
        },
        "outputId": "d45348f9-8c12-4375-da47-c21e1fa1ed09"
      },
      "execution_count": 52,
      "outputs": [
        {
          "output_type": "stream",
          "name": "stdout",
          "text": [
            "Phần Mềm Diệt Virus BKAV Profressional Internet Security (1 năm) - Hàng Chính Hãng\n"
          ]
        }
      ]
    },
    {
      "cell_type": "code",
      "source": [
        "#price\n",
        "price = each_product.find_element(By.CLASS_NAME, 'price-discount__price')\n",
        "print(price.text)"
      ],
      "metadata": {
        "id": "_-fCPKi_fT6P",
        "colab": {
          "base_uri": "https://localhost:8080/"
        },
        "outputId": "46129e2f-037d-480e-f5c2-41f908d3bd5f"
      },
      "execution_count": 14,
      "outputs": [
        {
          "output_type": "stream",
          "name": "stdout",
          "text": [
            "239.000 ₫\n"
          ]
        }
      ]
    },
    {
      "cell_type": "code",
      "source": [
        "#get product url\n",
        "url = each_product.get_attribute('href')\n",
        "print(url)"
      ],
      "metadata": {
        "id": "XaNVXpqZbfGH",
        "colab": {
          "base_uri": "https://localhost:8080/"
        },
        "outputId": "5374fb73-aedb-4d45-eba5-08f04c3a8ce1"
      },
      "execution_count": 15,
      "outputs": [
        {
          "output_type": "stream",
          "name": "stdout",
          "text": [
            "https://tiki.vn/bo-kich-song-wifi-xiaomi-repeater-pro-hang-nhap-khau-p17967481.html?spid=42240501\n"
          ]
        }
      ]
    },
    {
      "cell_type": "code",
      "source": [
        "#image\n",
        "image = each_product.find_element(By.TAG_NAME, 'source')\n",
        "print(image.get_attribute('srcset'))"
      ],
      "metadata": {
        "id": "3RHVbLP_izTP",
        "colab": {
          "base_uri": "https://localhost:8080/"
        },
        "outputId": "d44844a7-d720-41fd-c327-a730188655d9"
      },
      "execution_count": 16,
      "outputs": [
        {
          "output_type": "stream",
          "name": "stdout",
          "text": [
            "https://salt.tikicdn.com/cache/200x200/ts/product/68/76/90/fb3b1d8cedf13c4cbfdfe35605b1f84d.jpg.webp\n"
          ]
        }
      ]
    },
    {
      "cell_type": "code",
      "source": [
        "#create a function that aggregates the above information\n",
        "def scrap_item(item):\n",
        "  name = item.find_element(By.TAG_NAME, 'h3').text\n",
        "  price = item.find_element(By.CLASS_NAME, 'price-discount__price').text\n",
        "  url = item.get_attribute('href')\n",
        "  image = item.find_element(By.TAG_NAME, 'source').get_attribute('srcset')\n",
        "\n",
        "  info = {\n",
        "      'name' : name,\n",
        "      'price' : price,\n",
        "      'url': url,\n",
        "      'image' : image\n",
        "  }\n",
        "  return info"
      ],
      "metadata": {
        "id": "hqSHYlcspFU-"
      },
      "execution_count": 46,
      "outputs": []
    },
    {
      "cell_type": "code",
      "source": [
        "extracted_items = []\n"
      ],
      "metadata": {
        "id": "2mMAbpiJPryn"
      },
      "execution_count": 47,
      "outputs": []
    },
    {
      "cell_type": "code",
      "source": [
        "for item in products:\n",
        "  extracted_items.append(scrap_item(item))"
      ],
      "metadata": {
        "id": "tIrrgJApqfti"
      },
      "execution_count": 48,
      "outputs": []
    },
    {
      "cell_type": "code",
      "source": [
        "print(extracted_items)"
      ],
      "metadata": {
        "id": "ECVnXM36rEEd",
        "colab": {
          "base_uri": "https://localhost:8080/"
        },
        "outputId": "c0fb102f-7b62-4107-ec73-b65f1ff5d60e"
      },
      "execution_count": 20,
      "outputs": [
        {
          "output_type": "stream",
          "name": "stdout",
          "text": [
            "[]\n"
          ]
        }
      ]
    },
    {
      "cell_type": "markdown",
      "source": [
        "**PART 3: Save results as CSV file**"
      ],
      "metadata": {
        "id": "XuGHpM2UrLAh"
      }
    },
    {
      "cell_type": "code",
      "source": [
        "import pandas as pd"
      ],
      "metadata": {
        "id": "VMEPIkJJrjCd"
      },
      "execution_count": 21,
      "outputs": []
    },
    {
      "cell_type": "code",
      "source": [
        "df = pd.DataFrame(extracted_items, columns=['name', 'price', 'url', 'image'])"
      ],
      "metadata": {
        "id": "P5wky1EbrlEE"
      },
      "execution_count": 53,
      "outputs": []
    },
    {
      "cell_type": "code",
      "source": [
        "df"
      ],
      "metadata": {
        "id": "iFtJH46ZsCWj",
        "colab": {
          "base_uri": "https://localhost:8080/",
          "height": 1000
        },
        "outputId": "2976813d-4a58-4a4d-8f5c-23216412998c"
      },
      "execution_count": 54,
      "outputs": [
        {
          "output_type": "execute_result",
          "data": {
            "text/plain": [
              "                                                 name         price  \\\n",
              "0   Bộ lưu điện, bộ cấp điện liên tục UPS Prolink ...   1.290.000 ₫   \n",
              "1   Phần Mềm Diệt Virus BKAV Profressional Interne...     205.000 ₫   \n",
              "2   Ổ cứng SSD 128GB Lexar NS100 2.5-Inch SATA III...     515.000 ₫   \n",
              "3                                                                     \n",
              "4       Hộp mực dành cho máy in canon Lbp 6030/ 6030w     135.000 ₫   \n",
              "5   Phần mềm Microsoft 365 Family English APAC EM ...   1.290.000 ₫   \n",
              "6   Bộ Phát Wifi TP-Link Archer C54 Băng Tần Kép C...     429.000 ₫   \n",
              "7                                                                     \n",
              "8   Màn Hình LG 29'' 21:9 UltraWide 29WN600-W Full...   5.889.000 ₫   \n",
              "9   Bộ Kích Sóng Wifi Xiaomi Repeater Pro - Hàng N...     243.000 ₫   \n",
              "10  Bộ Mở Rộng Sóng Wifi TP-Link TL-WA850RE Chuẩn ...     399.000 ₫   \n",
              "11                                                                    \n",
              "12  Máy Tính Xách Tay Laptop Huawei Matebook D15 (...  10.989.000 ₫   \n",
              "13  TOTOLINK - A720R - Router băng tần kép AC1200 ...     350.000 ₫   \n",
              "14  Router Wifi Chuẩn N 300Mbps TP-Link TL-WR840N ...     297.000 ₫   \n",
              "15                                                                    \n",
              "16  Màn hình máy tính LG 29WP60G-B 29 inch UltraWi...   6.199.000 ₫   \n",
              "17  Màn hình MSI PRO MP241X 23.8 inch FHD/VA 75Hz ...   2.990.000 ₫   \n",
              "18  Ổ cứng SSD 256GB Lexar NS100 2.5-Inch SATA III...     744.000 ₫   \n",
              "19                                                                    \n",
              "20  Màn Hình Gaming LG 27QN600-B 27 inch QHD (2560...   6.430.000 ₫   \n",
              "21  Bộ Chuyển Đổi USB Wifi TP-Link Archer T2U Nano...     239.000 ₫   \n",
              "22  Màn Hình Cong Samsung LC27F397FHEXXV 27inch Fu...   4.290.000 ₫   \n",
              "23                                                                    \n",
              "24  Hộp đựng ổ cứng HDD/SSD 2.5\" QGeeM Gen2|cổng U...     455.000 ₫   \n",
              "25  Ổ Cứng SSD Kingston A400 (240GB) - Hàng Chính ...     812.000 ₫   \n",
              "26  Màn Hình Samsung LU28R550UQEXXV 28'' UHD 4K (3...   7.690.000 ₫   \n",
              "27                                                                    \n",
              "28  Bộ nguồn cấp điện liên tục UPS PROLINK 650VA (...     840.000 ₫   \n",
              "29  Bộ Chuyển Đổi USB Wifi Nano TP-Link TL-WN725N ...     146.000 ₫   \n",
              "30  Máy In Laser Đơn Năng Canon LBP 2900 - Hàng ch...   4.550.000 ₫   \n",
              "31                                                                    \n",
              "32  Combo 10 chai Mực Nạp Viettoner cho máy in Can...     250.000 ₫   \n",
              "33  Ổ cứng SSD Samsung 870 EVO SATA III 2.5\" SSD 5...   1.590.000 ₫   \n",
              "34  Máy In Laser Đơn Năng Canon LBP 6230DN Duplex ...   4.880.000 ₫   \n",
              "35                                                                    \n",
              "36  Trống (Drum) Dùng Cho Máy Photocopy Toshiba E2...     140.000 ₫   \n",
              "37  RAM Laptop Samsung 8GB DDR4 Bus 3200 - Hàng Nh...     797.777 ₫   \n",
              "38  Bộ Mở Rộng Sóng Wifi Mesh TP-Link RE315 Chuẩn ...     549.000 ₫   \n",
              "39                                                                    \n",
              "40  Bộ chia mạng switch 5 cổng RJ45 10/100/1000Mbq...     359.000 ₫   \n",
              "41   Hộp mực dành cho máy in Laser Brother HL-L2321D.     114.900 ₫   \n",
              "42  Bộ Kích Sóng Wifi Repeater Băng Tần Kép AC750 ...     453.000 ₫   \n",
              "43                                                                    \n",
              "44  Màn Hình LG 24MP88HV-S 24inch FullHD 5ms 60Hz ...   4.750.000 ₫   \n",
              "45  Bộ Phát Wifi 4G LTE TP-Link TL-MR6400 Chuẩn N ...   1.440.000 ₫   \n",
              "46  Màn hình máy tính Dell P3421W ( 34inch WQHD 34...  13.790.000 ₫   \n",
              "47                                                                    \n",
              "\n",
              "                                                  url  \\\n",
              "0   https://tka.tiki.vn/pixel/pixel?data=djAwMUUgg...   \n",
              "1   https://tiki.vn/phan-mem-diet-virus-bkav-profr...   \n",
              "2   https://tiki.vn/o-cung-ssd-128gb-lexar-ns100-2...   \n",
              "3   https://tiki.vn/man-hinh-may-tinh-xiaomi-mi-de...   \n",
              "4   https://tka.tiki.vn/pixel/pixel?data=djAwMZob-...   \n",
              "5   https://tiki.vn/phan-mem-microsoft-365-family-...   \n",
              "6   https://tiki.vn/bo-phat-wifi-tp-link-archer-c5...   \n",
              "7   https://tiki.vn/usb-64gb-cao-cap-thiet-ke-nho-...   \n",
              "8   https://tka.tiki.vn/pixel/pixel?data=djAwMfEyP...   \n",
              "9   https://tiki.vn/bo-kich-song-wifi-xiaomi-repea...   \n",
              "10  https://tiki.vn/bo-mo-rong-song-wifi-tp-link-t...   \n",
              "11  https://tiki.vn/bo-chuyen-doi-usb-wifi-tp-link...   \n",
              "12  https://tka.tiki.vn/pixel/pixel?data=djAwMXUjY...   \n",
              "13  https://tiki.vn/totolink-a720r-router-bang-tan...   \n",
              "14  https://tiki.vn/router-wifi-chuan-n-300mbps-tp...   \n",
              "15  https://tiki.vn/totolink-ex200_v2-mo-rong-song...   \n",
              "16  https://tka.tiki.vn/pixel/pixel?data=djAwMdRXt...   \n",
              "17  https://tiki.vn/man-hinh-msi-pro-mp241x-23-8-i...   \n",
              "18  https://tiki.vn/o-cung-ssd-256gb-lexar-ns100-2...   \n",
              "19  https://tiki.vn/phan-mem-microsoft-365-persona...   \n",
              "20  https://tka.tiki.vn/pixel/pixel?data=djAwMQzhg...   \n",
              "21  https://tiki.vn/bo-chuyen-doi-usb-wifi-tp-link...   \n",
              "22  https://tiki.vn/man-hinh-cong-samsung-lc27f397...   \n",
              "23  https://tiki.vn/o-cung-di-dong-wd-elements-1tb...   \n",
              "24  https://tka.tiki.vn/pixel/pixel?data=djAwMXM6r...   \n",
              "25  https://tiki.vn/o-cung-ssd-kingston-a400-240gb...   \n",
              "26  https://tiki.vn/man-hinh-samsung-lu28r550uqexx...   \n",
              "27  https://tiki.vn/hop-muc-may-in-canon-lbp-2900-...   \n",
              "28  https://tka.tiki.vn/pixel/pixel?data=djAwMbOex...   \n",
              "29  https://tiki.vn/bo-chuyen-doi-usb-wifi-nano-tp...   \n",
              "30  https://tiki.vn/may-in-laser-don-nang-canon-lb...   \n",
              "31  https://tiki.vn/bo-kich-song-wifi-repeater-300...   \n",
              "32  https://tka.tiki.vn/pixel/pixel?data=djAwMfdyC...   \n",
              "33  https://tiki.vn/o-cung-ssd-samsung-870-evo-sat...   \n",
              "34  https://tiki.vn/may-in-laser-don-nang-canon-lb...   \n",
              "35  https://tiki.vn/may-in-laser-trang-den-hp-neve...   \n",
              "36  https://tka.tiki.vn/pixel/pixel?data=djAwMSGit...   \n",
              "37  https://tiki.vn/ram-laptop-samsung-8gb-ddr4-bu...   \n",
              "38  https://tiki.vn/bo-mo-rong-song-wifi-mesh-tp-l...   \n",
              "39  https://tiki.vn/o-cung-di-dong-hdd-wd-my-passp...   \n",
              "40  https://tka.tiki.vn/pixel/pixel?data=djAwMZOPy...   \n",
              "41  https://tiki.vn/hop-muc-may-in-laser-brother-h...   \n",
              "42  https://tiki.vn/bo-kich-song-wifi-repeater-ban...   \n",
              "43  https://tiki.vn/man-hinh-dell-s2721qs-27inch-4...   \n",
              "44  https://tka.tiki.vn/pixel/pixel?data=djAwMbr9b...   \n",
              "45  https://tiki.vn/bo-phat-wifi-4g-lte-tp-link-tl...   \n",
              "46  https://tiki.vn/man-hinh-may-tinh-dell-p3421w-...   \n",
              "47  https://tiki.vn/macbook-air-m1-2020-p124742926...   \n",
              "\n",
              "                                                image  \n",
              "0   https://salt.tikicdn.com/cache/200x200/ts/prod...  \n",
              "1   https://salt.tikicdn.com/cache/200x200/ts/prod...  \n",
              "2   https://salt.tikicdn.com/cache/200x200/media/c...  \n",
              "3   https://salt.tikicdn.com/cache/200x200/ts/prod...  \n",
              "4   https://salt.tikicdn.com/cache/200x200/ts/prod...  \n",
              "5   https://salt.tikicdn.com/cache/200x200/ts/prod...  \n",
              "6   https://salt.tikicdn.com/cache/200x200/ts/prod...  \n",
              "7   https://salt.tikicdn.com/cache/200x200/ts/prod...  \n",
              "8   https://salt.tikicdn.com/cache/200x200/ts/prod...  \n",
              "9   https://salt.tikicdn.com/cache/200x200/ts/prod...  \n",
              "10  https://salt.tikicdn.com/cache/200x200/ts/prod...  \n",
              "11  https://salt.tikicdn.com/cache/200x200/ts/prod...  \n",
              "12  https://salt.tikicdn.com/cache/200x200/ts/prod...  \n",
              "13  https://salt.tikicdn.com/cache/200x200/ts/prod...  \n",
              "14  https://salt.tikicdn.com/cache/200x200/ts/prod...  \n",
              "15  https://salt.tikicdn.com/cache/200x200/ts/prod...  \n",
              "16  https://salt.tikicdn.com/cache/200x200/ts/prod...  \n",
              "17  https://salt.tikicdn.com/cache/200x200/ts/prod...  \n",
              "18  https://salt.tikicdn.com/cache/200x200/ts/prod...  \n",
              "19  https://salt.tikicdn.com/cache/200x200/ts/prod...  \n",
              "20  https://salt.tikicdn.com/cache/200x200/ts/prod...  \n",
              "21  https://salt.tikicdn.com/cache/200x200/ts/prod...  \n",
              "22  https://salt.tikicdn.com/cache/200x200/ts/prod...  \n",
              "23  https://salt.tikicdn.com/cache/200x200/media/c...  \n",
              "24  https://salt.tikicdn.com/cache/200x200/ts/prod...  \n",
              "25  https://salt.tikicdn.com/cache/200x200/ts/prod...  \n",
              "26  https://salt.tikicdn.com/cache/200x200/ts/prod...  \n",
              "27  https://salt.tikicdn.com/cache/200x200/ts/prod...  \n",
              "28  https://salt.tikicdn.com/cache/200x200/ts/prod...  \n",
              "29  https://salt.tikicdn.com/cache/200x200/media/c...  \n",
              "30  https://salt.tikicdn.com/cache/200x200/media/c...  \n",
              "31  https://salt.tikicdn.com/cache/200x200/ts/prod...  \n",
              "32  https://salt.tikicdn.com/cache/200x200/ts/prod...  \n",
              "33  https://salt.tikicdn.com/cache/200x200/ts/prod...  \n",
              "34  https://salt.tikicdn.com/cache/200x200/media/c...  \n",
              "35  https://salt.tikicdn.com/cache/200x200/ts/prod...  \n",
              "36  https://salt.tikicdn.com/cache/200x200/ts/prod...  \n",
              "37  https://salt.tikicdn.com/cache/200x200/ts/prod...  \n",
              "38  https://salt.tikicdn.com/cache/200x200/ts/prod...  \n",
              "39  https://salt.tikicdn.com/cache/200x200/ts/prod...  \n",
              "40  https://salt.tikicdn.com/cache/200x200/ts/prod...  \n",
              "41  https://salt.tikicdn.com/cache/200x200/ts/prod...  \n",
              "42  https://salt.tikicdn.com/cache/200x200/media/c...  \n",
              "43  https://salt.tikicdn.com/cache/200x200/ts/prod...  \n",
              "44  https://salt.tikicdn.com/cache/200x200/ts/prod...  \n",
              "45  https://salt.tikicdn.com/cache/200x200/ts/prod...  \n",
              "46  https://salt.tikicdn.com/cache/200x200/ts/prod...  \n",
              "47  https://salt.tikicdn.com/cache/200x200/media/c...  "
            ],
            "text/html": [
              "\n",
              "  <div id=\"df-64c713d0-ba40-4b90-bab9-6841d4e43927\">\n",
              "    <div class=\"colab-df-container\">\n",
              "      <div>\n",
              "<style scoped>\n",
              "    .dataframe tbody tr th:only-of-type {\n",
              "        vertical-align: middle;\n",
              "    }\n",
              "\n",
              "    .dataframe tbody tr th {\n",
              "        vertical-align: top;\n",
              "    }\n",
              "\n",
              "    .dataframe thead th {\n",
              "        text-align: right;\n",
              "    }\n",
              "</style>\n",
              "<table border=\"1\" class=\"dataframe\">\n",
              "  <thead>\n",
              "    <tr style=\"text-align: right;\">\n",
              "      <th></th>\n",
              "      <th>name</th>\n",
              "      <th>price</th>\n",
              "      <th>url</th>\n",
              "      <th>image</th>\n",
              "    </tr>\n",
              "  </thead>\n",
              "  <tbody>\n",
              "    <tr>\n",
              "      <th>0</th>\n",
              "      <td>Bộ lưu điện, bộ cấp điện liên tục UPS Prolink ...</td>\n",
              "      <td>1.290.000 ₫</td>\n",
              "      <td>https://tka.tiki.vn/pixel/pixel?data=djAwMUUgg...</td>\n",
              "      <td>https://salt.tikicdn.com/cache/200x200/ts/prod...</td>\n",
              "    </tr>\n",
              "    <tr>\n",
              "      <th>1</th>\n",
              "      <td>Phần Mềm Diệt Virus BKAV Profressional Interne...</td>\n",
              "      <td>205.000 ₫</td>\n",
              "      <td>https://tiki.vn/phan-mem-diet-virus-bkav-profr...</td>\n",
              "      <td>https://salt.tikicdn.com/cache/200x200/ts/prod...</td>\n",
              "    </tr>\n",
              "    <tr>\n",
              "      <th>2</th>\n",
              "      <td>Ổ cứng SSD 128GB Lexar NS100 2.5-Inch SATA III...</td>\n",
              "      <td>515.000 ₫</td>\n",
              "      <td>https://tiki.vn/o-cung-ssd-128gb-lexar-ns100-2...</td>\n",
              "      <td>https://salt.tikicdn.com/cache/200x200/media/c...</td>\n",
              "    </tr>\n",
              "    <tr>\n",
              "      <th>3</th>\n",
              "      <td></td>\n",
              "      <td></td>\n",
              "      <td>https://tiki.vn/man-hinh-may-tinh-xiaomi-mi-de...</td>\n",
              "      <td>https://salt.tikicdn.com/cache/200x200/ts/prod...</td>\n",
              "    </tr>\n",
              "    <tr>\n",
              "      <th>4</th>\n",
              "      <td>Hộp mực dành cho máy in canon Lbp 6030/ 6030w</td>\n",
              "      <td>135.000 ₫</td>\n",
              "      <td>https://tka.tiki.vn/pixel/pixel?data=djAwMZob-...</td>\n",
              "      <td>https://salt.tikicdn.com/cache/200x200/ts/prod...</td>\n",
              "    </tr>\n",
              "    <tr>\n",
              "      <th>5</th>\n",
              "      <td>Phần mềm Microsoft 365 Family English APAC EM ...</td>\n",
              "      <td>1.290.000 ₫</td>\n",
              "      <td>https://tiki.vn/phan-mem-microsoft-365-family-...</td>\n",
              "      <td>https://salt.tikicdn.com/cache/200x200/ts/prod...</td>\n",
              "    </tr>\n",
              "    <tr>\n",
              "      <th>6</th>\n",
              "      <td>Bộ Phát Wifi TP-Link Archer C54 Băng Tần Kép C...</td>\n",
              "      <td>429.000 ₫</td>\n",
              "      <td>https://tiki.vn/bo-phat-wifi-tp-link-archer-c5...</td>\n",
              "      <td>https://salt.tikicdn.com/cache/200x200/ts/prod...</td>\n",
              "    </tr>\n",
              "    <tr>\n",
              "      <th>7</th>\n",
              "      <td></td>\n",
              "      <td></td>\n",
              "      <td>https://tiki.vn/usb-64gb-cao-cap-thiet-ke-nho-...</td>\n",
              "      <td>https://salt.tikicdn.com/cache/200x200/ts/prod...</td>\n",
              "    </tr>\n",
              "    <tr>\n",
              "      <th>8</th>\n",
              "      <td>Màn Hình LG 29'' 21:9 UltraWide 29WN600-W Full...</td>\n",
              "      <td>5.889.000 ₫</td>\n",
              "      <td>https://tka.tiki.vn/pixel/pixel?data=djAwMfEyP...</td>\n",
              "      <td>https://salt.tikicdn.com/cache/200x200/ts/prod...</td>\n",
              "    </tr>\n",
              "    <tr>\n",
              "      <th>9</th>\n",
              "      <td>Bộ Kích Sóng Wifi Xiaomi Repeater Pro - Hàng N...</td>\n",
              "      <td>243.000 ₫</td>\n",
              "      <td>https://tiki.vn/bo-kich-song-wifi-xiaomi-repea...</td>\n",
              "      <td>https://salt.tikicdn.com/cache/200x200/ts/prod...</td>\n",
              "    </tr>\n",
              "    <tr>\n",
              "      <th>10</th>\n",
              "      <td>Bộ Mở Rộng Sóng Wifi TP-Link TL-WA850RE Chuẩn ...</td>\n",
              "      <td>399.000 ₫</td>\n",
              "      <td>https://tiki.vn/bo-mo-rong-song-wifi-tp-link-t...</td>\n",
              "      <td>https://salt.tikicdn.com/cache/200x200/ts/prod...</td>\n",
              "    </tr>\n",
              "    <tr>\n",
              "      <th>11</th>\n",
              "      <td></td>\n",
              "      <td></td>\n",
              "      <td>https://tiki.vn/bo-chuyen-doi-usb-wifi-tp-link...</td>\n",
              "      <td>https://salt.tikicdn.com/cache/200x200/ts/prod...</td>\n",
              "    </tr>\n",
              "    <tr>\n",
              "      <th>12</th>\n",
              "      <td>Máy Tính Xách Tay Laptop Huawei Matebook D15 (...</td>\n",
              "      <td>10.989.000 ₫</td>\n",
              "      <td>https://tka.tiki.vn/pixel/pixel?data=djAwMXUjY...</td>\n",
              "      <td>https://salt.tikicdn.com/cache/200x200/ts/prod...</td>\n",
              "    </tr>\n",
              "    <tr>\n",
              "      <th>13</th>\n",
              "      <td>TOTOLINK - A720R - Router băng tần kép AC1200 ...</td>\n",
              "      <td>350.000 ₫</td>\n",
              "      <td>https://tiki.vn/totolink-a720r-router-bang-tan...</td>\n",
              "      <td>https://salt.tikicdn.com/cache/200x200/ts/prod...</td>\n",
              "    </tr>\n",
              "    <tr>\n",
              "      <th>14</th>\n",
              "      <td>Router Wifi Chuẩn N 300Mbps TP-Link TL-WR840N ...</td>\n",
              "      <td>297.000 ₫</td>\n",
              "      <td>https://tiki.vn/router-wifi-chuan-n-300mbps-tp...</td>\n",
              "      <td>https://salt.tikicdn.com/cache/200x200/ts/prod...</td>\n",
              "    </tr>\n",
              "    <tr>\n",
              "      <th>15</th>\n",
              "      <td></td>\n",
              "      <td></td>\n",
              "      <td>https://tiki.vn/totolink-ex200_v2-mo-rong-song...</td>\n",
              "      <td>https://salt.tikicdn.com/cache/200x200/ts/prod...</td>\n",
              "    </tr>\n",
              "    <tr>\n",
              "      <th>16</th>\n",
              "      <td>Màn hình máy tính LG 29WP60G-B 29 inch UltraWi...</td>\n",
              "      <td>6.199.000 ₫</td>\n",
              "      <td>https://tka.tiki.vn/pixel/pixel?data=djAwMdRXt...</td>\n",
              "      <td>https://salt.tikicdn.com/cache/200x200/ts/prod...</td>\n",
              "    </tr>\n",
              "    <tr>\n",
              "      <th>17</th>\n",
              "      <td>Màn hình MSI PRO MP241X 23.8 inch FHD/VA 75Hz ...</td>\n",
              "      <td>2.990.000 ₫</td>\n",
              "      <td>https://tiki.vn/man-hinh-msi-pro-mp241x-23-8-i...</td>\n",
              "      <td>https://salt.tikicdn.com/cache/200x200/ts/prod...</td>\n",
              "    </tr>\n",
              "    <tr>\n",
              "      <th>18</th>\n",
              "      <td>Ổ cứng SSD 256GB Lexar NS100 2.5-Inch SATA III...</td>\n",
              "      <td>744.000 ₫</td>\n",
              "      <td>https://tiki.vn/o-cung-ssd-256gb-lexar-ns100-2...</td>\n",
              "      <td>https://salt.tikicdn.com/cache/200x200/ts/prod...</td>\n",
              "    </tr>\n",
              "    <tr>\n",
              "      <th>19</th>\n",
              "      <td></td>\n",
              "      <td></td>\n",
              "      <td>https://tiki.vn/phan-mem-microsoft-365-persona...</td>\n",
              "      <td>https://salt.tikicdn.com/cache/200x200/ts/prod...</td>\n",
              "    </tr>\n",
              "    <tr>\n",
              "      <th>20</th>\n",
              "      <td>Màn Hình Gaming LG 27QN600-B 27 inch QHD (2560...</td>\n",
              "      <td>6.430.000 ₫</td>\n",
              "      <td>https://tka.tiki.vn/pixel/pixel?data=djAwMQzhg...</td>\n",
              "      <td>https://salt.tikicdn.com/cache/200x200/ts/prod...</td>\n",
              "    </tr>\n",
              "    <tr>\n",
              "      <th>21</th>\n",
              "      <td>Bộ Chuyển Đổi USB Wifi TP-Link Archer T2U Nano...</td>\n",
              "      <td>239.000 ₫</td>\n",
              "      <td>https://tiki.vn/bo-chuyen-doi-usb-wifi-tp-link...</td>\n",
              "      <td>https://salt.tikicdn.com/cache/200x200/ts/prod...</td>\n",
              "    </tr>\n",
              "    <tr>\n",
              "      <th>22</th>\n",
              "      <td>Màn Hình Cong Samsung LC27F397FHEXXV 27inch Fu...</td>\n",
              "      <td>4.290.000 ₫</td>\n",
              "      <td>https://tiki.vn/man-hinh-cong-samsung-lc27f397...</td>\n",
              "      <td>https://salt.tikicdn.com/cache/200x200/ts/prod...</td>\n",
              "    </tr>\n",
              "    <tr>\n",
              "      <th>23</th>\n",
              "      <td></td>\n",
              "      <td></td>\n",
              "      <td>https://tiki.vn/o-cung-di-dong-wd-elements-1tb...</td>\n",
              "      <td>https://salt.tikicdn.com/cache/200x200/media/c...</td>\n",
              "    </tr>\n",
              "    <tr>\n",
              "      <th>24</th>\n",
              "      <td>Hộp đựng ổ cứng HDD/SSD 2.5\" QGeeM Gen2|cổng U...</td>\n",
              "      <td>455.000 ₫</td>\n",
              "      <td>https://tka.tiki.vn/pixel/pixel?data=djAwMXM6r...</td>\n",
              "      <td>https://salt.tikicdn.com/cache/200x200/ts/prod...</td>\n",
              "    </tr>\n",
              "    <tr>\n",
              "      <th>25</th>\n",
              "      <td>Ổ Cứng SSD Kingston A400 (240GB) - Hàng Chính ...</td>\n",
              "      <td>812.000 ₫</td>\n",
              "      <td>https://tiki.vn/o-cung-ssd-kingston-a400-240gb...</td>\n",
              "      <td>https://salt.tikicdn.com/cache/200x200/ts/prod...</td>\n",
              "    </tr>\n",
              "    <tr>\n",
              "      <th>26</th>\n",
              "      <td>Màn Hình Samsung LU28R550UQEXXV 28'' UHD 4K (3...</td>\n",
              "      <td>7.690.000 ₫</td>\n",
              "      <td>https://tiki.vn/man-hinh-samsung-lu28r550uqexx...</td>\n",
              "      <td>https://salt.tikicdn.com/cache/200x200/ts/prod...</td>\n",
              "    </tr>\n",
              "    <tr>\n",
              "      <th>27</th>\n",
              "      <td></td>\n",
              "      <td></td>\n",
              "      <td>https://tiki.vn/hop-muc-may-in-canon-lbp-2900-...</td>\n",
              "      <td>https://salt.tikicdn.com/cache/200x200/ts/prod...</td>\n",
              "    </tr>\n",
              "    <tr>\n",
              "      <th>28</th>\n",
              "      <td>Bộ nguồn cấp điện liên tục UPS PROLINK 650VA (...</td>\n",
              "      <td>840.000 ₫</td>\n",
              "      <td>https://tka.tiki.vn/pixel/pixel?data=djAwMbOex...</td>\n",
              "      <td>https://salt.tikicdn.com/cache/200x200/ts/prod...</td>\n",
              "    </tr>\n",
              "    <tr>\n",
              "      <th>29</th>\n",
              "      <td>Bộ Chuyển Đổi USB Wifi Nano TP-Link TL-WN725N ...</td>\n",
              "      <td>146.000 ₫</td>\n",
              "      <td>https://tiki.vn/bo-chuyen-doi-usb-wifi-nano-tp...</td>\n",
              "      <td>https://salt.tikicdn.com/cache/200x200/media/c...</td>\n",
              "    </tr>\n",
              "    <tr>\n",
              "      <th>30</th>\n",
              "      <td>Máy In Laser Đơn Năng Canon LBP 2900 - Hàng ch...</td>\n",
              "      <td>4.550.000 ₫</td>\n",
              "      <td>https://tiki.vn/may-in-laser-don-nang-canon-lb...</td>\n",
              "      <td>https://salt.tikicdn.com/cache/200x200/media/c...</td>\n",
              "    </tr>\n",
              "    <tr>\n",
              "      <th>31</th>\n",
              "      <td></td>\n",
              "      <td></td>\n",
              "      <td>https://tiki.vn/bo-kich-song-wifi-repeater-300...</td>\n",
              "      <td>https://salt.tikicdn.com/cache/200x200/ts/prod...</td>\n",
              "    </tr>\n",
              "    <tr>\n",
              "      <th>32</th>\n",
              "      <td>Combo 10 chai Mực Nạp Viettoner cho máy in Can...</td>\n",
              "      <td>250.000 ₫</td>\n",
              "      <td>https://tka.tiki.vn/pixel/pixel?data=djAwMfdyC...</td>\n",
              "      <td>https://salt.tikicdn.com/cache/200x200/ts/prod...</td>\n",
              "    </tr>\n",
              "    <tr>\n",
              "      <th>33</th>\n",
              "      <td>Ổ cứng SSD Samsung 870 EVO SATA III 2.5\" SSD 5...</td>\n",
              "      <td>1.590.000 ₫</td>\n",
              "      <td>https://tiki.vn/o-cung-ssd-samsung-870-evo-sat...</td>\n",
              "      <td>https://salt.tikicdn.com/cache/200x200/ts/prod...</td>\n",
              "    </tr>\n",
              "    <tr>\n",
              "      <th>34</th>\n",
              "      <td>Máy In Laser Đơn Năng Canon LBP 6230DN Duplex ...</td>\n",
              "      <td>4.880.000 ₫</td>\n",
              "      <td>https://tiki.vn/may-in-laser-don-nang-canon-lb...</td>\n",
              "      <td>https://salt.tikicdn.com/cache/200x200/media/c...</td>\n",
              "    </tr>\n",
              "    <tr>\n",
              "      <th>35</th>\n",
              "      <td></td>\n",
              "      <td></td>\n",
              "      <td>https://tiki.vn/may-in-laser-trang-den-hp-neve...</td>\n",
              "      <td>https://salt.tikicdn.com/cache/200x200/ts/prod...</td>\n",
              "    </tr>\n",
              "    <tr>\n",
              "      <th>36</th>\n",
              "      <td>Trống (Drum) Dùng Cho Máy Photocopy Toshiba E2...</td>\n",
              "      <td>140.000 ₫</td>\n",
              "      <td>https://tka.tiki.vn/pixel/pixel?data=djAwMSGit...</td>\n",
              "      <td>https://salt.tikicdn.com/cache/200x200/ts/prod...</td>\n",
              "    </tr>\n",
              "    <tr>\n",
              "      <th>37</th>\n",
              "      <td>RAM Laptop Samsung 8GB DDR4 Bus 3200 - Hàng Nh...</td>\n",
              "      <td>797.777 ₫</td>\n",
              "      <td>https://tiki.vn/ram-laptop-samsung-8gb-ddr4-bu...</td>\n",
              "      <td>https://salt.tikicdn.com/cache/200x200/ts/prod...</td>\n",
              "    </tr>\n",
              "    <tr>\n",
              "      <th>38</th>\n",
              "      <td>Bộ Mở Rộng Sóng Wifi Mesh TP-Link RE315 Chuẩn ...</td>\n",
              "      <td>549.000 ₫</td>\n",
              "      <td>https://tiki.vn/bo-mo-rong-song-wifi-mesh-tp-l...</td>\n",
              "      <td>https://salt.tikicdn.com/cache/200x200/ts/prod...</td>\n",
              "    </tr>\n",
              "    <tr>\n",
              "      <th>39</th>\n",
              "      <td></td>\n",
              "      <td></td>\n",
              "      <td>https://tiki.vn/o-cung-di-dong-hdd-wd-my-passp...</td>\n",
              "      <td>https://salt.tikicdn.com/cache/200x200/ts/prod...</td>\n",
              "    </tr>\n",
              "    <tr>\n",
              "      <th>40</th>\n",
              "      <td>Bộ chia mạng switch 5 cổng RJ45 10/100/1000Mbq...</td>\n",
              "      <td>359.000 ₫</td>\n",
              "      <td>https://tka.tiki.vn/pixel/pixel?data=djAwMZOPy...</td>\n",
              "      <td>https://salt.tikicdn.com/cache/200x200/ts/prod...</td>\n",
              "    </tr>\n",
              "    <tr>\n",
              "      <th>41</th>\n",
              "      <td>Hộp mực dành cho máy in Laser Brother HL-L2321D.</td>\n",
              "      <td>114.900 ₫</td>\n",
              "      <td>https://tiki.vn/hop-muc-may-in-laser-brother-h...</td>\n",
              "      <td>https://salt.tikicdn.com/cache/200x200/ts/prod...</td>\n",
              "    </tr>\n",
              "    <tr>\n",
              "      <th>42</th>\n",
              "      <td>Bộ Kích Sóng Wifi Repeater Băng Tần Kép AC750 ...</td>\n",
              "      <td>453.000 ₫</td>\n",
              "      <td>https://tiki.vn/bo-kich-song-wifi-repeater-ban...</td>\n",
              "      <td>https://salt.tikicdn.com/cache/200x200/media/c...</td>\n",
              "    </tr>\n",
              "    <tr>\n",
              "      <th>43</th>\n",
              "      <td></td>\n",
              "      <td></td>\n",
              "      <td>https://tiki.vn/man-hinh-dell-s2721qs-27inch-4...</td>\n",
              "      <td>https://salt.tikicdn.com/cache/200x200/ts/prod...</td>\n",
              "    </tr>\n",
              "    <tr>\n",
              "      <th>44</th>\n",
              "      <td>Màn Hình LG 24MP88HV-S 24inch FullHD 5ms 60Hz ...</td>\n",
              "      <td>4.750.000 ₫</td>\n",
              "      <td>https://tka.tiki.vn/pixel/pixel?data=djAwMbr9b...</td>\n",
              "      <td>https://salt.tikicdn.com/cache/200x200/ts/prod...</td>\n",
              "    </tr>\n",
              "    <tr>\n",
              "      <th>45</th>\n",
              "      <td>Bộ Phát Wifi 4G LTE TP-Link TL-MR6400 Chuẩn N ...</td>\n",
              "      <td>1.440.000 ₫</td>\n",
              "      <td>https://tiki.vn/bo-phat-wifi-4g-lte-tp-link-tl...</td>\n",
              "      <td>https://salt.tikicdn.com/cache/200x200/ts/prod...</td>\n",
              "    </tr>\n",
              "    <tr>\n",
              "      <th>46</th>\n",
              "      <td>Màn hình máy tính Dell P3421W ( 34inch WQHD 34...</td>\n",
              "      <td>13.790.000 ₫</td>\n",
              "      <td>https://tiki.vn/man-hinh-may-tinh-dell-p3421w-...</td>\n",
              "      <td>https://salt.tikicdn.com/cache/200x200/ts/prod...</td>\n",
              "    </tr>\n",
              "    <tr>\n",
              "      <th>47</th>\n",
              "      <td></td>\n",
              "      <td></td>\n",
              "      <td>https://tiki.vn/macbook-air-m1-2020-p124742926...</td>\n",
              "      <td>https://salt.tikicdn.com/cache/200x200/media/c...</td>\n",
              "    </tr>\n",
              "  </tbody>\n",
              "</table>\n",
              "</div>\n",
              "      <button class=\"colab-df-convert\" onclick=\"convertToInteractive('df-64c713d0-ba40-4b90-bab9-6841d4e43927')\"\n",
              "              title=\"Convert this dataframe to an interactive table.\"\n",
              "              style=\"display:none;\">\n",
              "        \n",
              "  <svg xmlns=\"http://www.w3.org/2000/svg\" height=\"24px\"viewBox=\"0 0 24 24\"\n",
              "       width=\"24px\">\n",
              "    <path d=\"M0 0h24v24H0V0z\" fill=\"none\"/>\n",
              "    <path d=\"M18.56 5.44l.94 2.06.94-2.06 2.06-.94-2.06-.94-.94-2.06-.94 2.06-2.06.94zm-11 1L8.5 8.5l.94-2.06 2.06-.94-2.06-.94L8.5 2.5l-.94 2.06-2.06.94zm10 10l.94 2.06.94-2.06 2.06-.94-2.06-.94-.94-2.06-.94 2.06-2.06.94z\"/><path d=\"M17.41 7.96l-1.37-1.37c-.4-.4-.92-.59-1.43-.59-.52 0-1.04.2-1.43.59L10.3 9.45l-7.72 7.72c-.78.78-.78 2.05 0 2.83L4 21.41c.39.39.9.59 1.41.59.51 0 1.02-.2 1.41-.59l7.78-7.78 2.81-2.81c.8-.78.8-2.07 0-2.86zM5.41 20L4 18.59l7.72-7.72 1.47 1.35L5.41 20z\"/>\n",
              "  </svg>\n",
              "      </button>\n",
              "      \n",
              "  <style>\n",
              "    .colab-df-container {\n",
              "      display:flex;\n",
              "      flex-wrap:wrap;\n",
              "      gap: 12px;\n",
              "    }\n",
              "\n",
              "    .colab-df-convert {\n",
              "      background-color: #E8F0FE;\n",
              "      border: none;\n",
              "      border-radius: 50%;\n",
              "      cursor: pointer;\n",
              "      display: none;\n",
              "      fill: #1967D2;\n",
              "      height: 32px;\n",
              "      padding: 0 0 0 0;\n",
              "      width: 32px;\n",
              "    }\n",
              "\n",
              "    .colab-df-convert:hover {\n",
              "      background-color: #E2EBFA;\n",
              "      box-shadow: 0px 1px 2px rgba(60, 64, 67, 0.3), 0px 1px 3px 1px rgba(60, 64, 67, 0.15);\n",
              "      fill: #174EA6;\n",
              "    }\n",
              "\n",
              "    [theme=dark] .colab-df-convert {\n",
              "      background-color: #3B4455;\n",
              "      fill: #D2E3FC;\n",
              "    }\n",
              "\n",
              "    [theme=dark] .colab-df-convert:hover {\n",
              "      background-color: #434B5C;\n",
              "      box-shadow: 0px 1px 3px 1px rgba(0, 0, 0, 0.15);\n",
              "      filter: drop-shadow(0px 1px 2px rgba(0, 0, 0, 0.3));\n",
              "      fill: #FFFFFF;\n",
              "    }\n",
              "  </style>\n",
              "\n",
              "      <script>\n",
              "        const buttonEl =\n",
              "          document.querySelector('#df-64c713d0-ba40-4b90-bab9-6841d4e43927 button.colab-df-convert');\n",
              "        buttonEl.style.display =\n",
              "          google.colab.kernel.accessAllowed ? 'block' : 'none';\n",
              "\n",
              "        async function convertToInteractive(key) {\n",
              "          const element = document.querySelector('#df-64c713d0-ba40-4b90-bab9-6841d4e43927');\n",
              "          const dataTable =\n",
              "            await google.colab.kernel.invokeFunction('convertToInteractive',\n",
              "                                                     [key], {});\n",
              "          if (!dataTable) return;\n",
              "\n",
              "          const docLinkHtml = 'Like what you see? Visit the ' +\n",
              "            '<a target=\"_blank\" href=https://colab.research.google.com/notebooks/data_table.ipynb>data table notebook</a>'\n",
              "            + ' to learn more about interactive tables.';\n",
              "          element.innerHTML = '';\n",
              "          dataTable['output_type'] = 'display_data';\n",
              "          await google.colab.output.renderOutput(dataTable, element);\n",
              "          const docLink = document.createElement('div');\n",
              "          docLink.innerHTML = docLinkHtml;\n",
              "          element.appendChild(docLink);\n",
              "        }\n",
              "      </script>\n",
              "    </div>\n",
              "  </div>\n",
              "  "
            ]
          },
          "metadata": {},
          "execution_count": 54
        }
      ]
    },
    {
      "cell_type": "code",
      "source": [
        "df.to_csv('tiki.scraped.csv', index = False)"
      ],
      "metadata": {
        "id": "bmq4kB-zsHYK"
      },
      "execution_count": 55,
      "outputs": []
    }
  ]
}