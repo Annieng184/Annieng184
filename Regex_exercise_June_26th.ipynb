{
  "nbformat": 4,
  "nbformat_minor": 0,
  "metadata": {
    "colab": {
      "name": "Regex exercise_June 26th.ipynb",
      "provenance": [],
      "authorship_tag": "ABX9TyNK7PmRoAxLxl5OKz+5i54k",
      "include_colab_link": true
    },
    "kernelspec": {
      "name": "python3",
      "display_name": "Python 3"
    },
    "language_info": {
      "name": "python"
    }
  },
  "cells": [
    {
      "cell_type": "markdown",
      "metadata": {
        "id": "view-in-github",
        "colab_type": "text"
      },
      "source": [
        "<a href=\"https://colab.research.google.com/github/Annieng184/Annieng184/blob/main/Regex_exercise_June_26th.ipynb\" target=\"_parent\"><img src=\"https://colab.research.google.com/assets/colab-badge.svg\" alt=\"Open In Colab\"/></a>"
      ]
    },
    {
      "cell_type": "code",
      "source": [
        "import re"
      ],
      "metadata": {
        "id": "OIBdJGMhj9Kr"
      },
      "execution_count": null,
      "outputs": []
    },
    {
      "cell_type": "code",
      "execution_count": 23,
      "metadata": {
        "colab": {
          "base_uri": "https://localhost:8080/"
        },
        "id": "qMsapYMjh15i",
        "outputId": "375978dd-6c18-4158-e48f-6fd1d9fc3095"
      },
      "outputs": [
        {
          "output_type": "stream",
          "name": "stdout",
          "text": [
            "Enter string here: anniebrb\n",
            "True\n"
          ]
        }
      ],
      "source": [
        "#Write a Python program that matches a string that has an 'a' followed by anything, ending in 'b'.\n",
        "n = str(input('Enter string here: '))\n",
        "def text_match(n):\n",
        "  pattern = r'a.*b$'\n",
        "  if re.search(pattern, n):\n",
        "    return True\n",
        "  else:\n",
        "    return False\n",
        "\n",
        "print(text_match(n))"
      ]
    },
    {
      "cell_type": "code",
      "source": [
        "#Write a Python function to split a string at uppercase letters\n",
        "n = str(input('Enter string here: '))\n",
        "def split_upper(n):\n",
        "  return re.findall('[A-Z][a-z]*', n)\n",
        "print(split_upper(n))\n"
      ],
      "metadata": {
        "colab": {
          "base_uri": "https://localhost:8080/"
        },
        "id": "uaN2X0TDlW-u",
        "outputId": "a73ebe84-5dd5-4134-84eb-cdb4141ec4a7"
      },
      "execution_count": 24,
      "outputs": [
        {
          "output_type": "stream",
          "name": "stdout",
          "text": [
            "Enter string here: HowWasYourDay\n",
            "['How', 'Was', 'Your', 'Day']\n"
          ]
        }
      ]
    },
    {
      "cell_type": "code",
      "source": [
        "#Write function to find only the part of the email before the \"@\" sign excluding the \"@\" sign using REGEX.\n",
        "def find_string(n):\n",
        "  n = str(input('Enter a string here: ')).split(\" \")\n",
        "  get_list = []\n",
        "  \n",
        "  for i in n:\n",
        "    get_list += re.findall(r'.*@',i)\n",
        "  final_list = [i.replace('@', '') for i in get_list]\n",
        "  return final_list\n",
        "print(find_string(n))"
      ],
      "metadata": {
        "id": "uNEWRIaUyAkm",
        "colab": {
          "base_uri": "https://localhost:8080/"
        },
        "outputId": "b192f810-3082-45a9-c3cd-32251c638a26"
      },
      "execution_count": 26,
      "outputs": [
        {
          "output_type": "stream",
          "name": "stdout",
          "text": [
            "Enter a string here: My personal email is hatrang1847@gmail.com. My company email is annie.ng@tiktok.com\n",
            "['hatrang1847', 'annie.ng']\n"
          ]
        }
      ]
    }
  ]
}