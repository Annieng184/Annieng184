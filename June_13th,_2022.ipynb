{
  "nbformat": 4,
  "nbformat_minor": 0,
  "metadata": {
    "colab": {
      "name": "June 13th, 2022.ipynb",
      "provenance": [],
      "authorship_tag": "ABX9TyO9wiKIwTp7COr0wR9LGM1H",
      "include_colab_link": true
    },
    "kernelspec": {
      "name": "python3",
      "display_name": "Python 3"
    },
    "language_info": {
      "name": "python"
    }
  },
  "cells": [
    {
      "cell_type": "markdown",
      "metadata": {
        "id": "view-in-github",
        "colab_type": "text"
      },
      "source": [
        "<a href=\"https://colab.research.google.com/github/Annieng184/Annieng184/blob/main/June_13th%2C_2022.ipynb\" target=\"_parent\"><img src=\"https://colab.research.google.com/assets/colab-badge.svg\" alt=\"Open In Colab\"/></a>"
      ]
    },
    {
      "cell_type": "code",
      "execution_count": null,
      "metadata": {
        "colab": {
          "base_uri": "https://localhost:8080/"
        },
        "id": "v3iIKC4M_V4G",
        "outputId": "3a06572c-b429-4e09-9348-57acdb9f61b4"
      },
      "outputs": [
        {
          "output_type": "stream",
          "name": "stdout",
          "text": [
            "Enter something here: Elon Musk\n",
            "Elsk\n"
          ]
        }
      ],
      "source": [
        "#Get a string made of the first 2 and the last 2 characters from a given a string. If the string length is less than 2, return instead of the empty string\n",
        "str = input('Enter something here: ')\n",
        "if len(str) >2:\n",
        "  print(str[:2]+str[-2:])\n",
        "else:\n",
        "  print(\"\")"
      ]
    },
    {
      "cell_type": "code",
      "source": [
        "#Get a string from a given string where all occurrences of its first char have been changed to '$', except the first char itself\n",
        "str = input('Enter something here: ')\n",
        "print(str[0]+str[1:].replace(str[0], '$'))"
      ],
      "metadata": {
        "colab": {
          "base_uri": "https://localhost:8080/"
        },
        "id": "dr-an_rA_kIO",
        "outputId": "1c5d6de7-eb81-4000-af4f-b94b7c5a89fa"
      },
      "execution_count": null,
      "outputs": [
        {
          "output_type": "stream",
          "name": "stdout",
          "text": [
            "Enter something here: coderschool\n",
            "coders$hool\n"
          ]
        }
      ]
    },
    {
      "cell_type": "code",
      "source": [
        "#Remove the n-th index character from a non-empty string\n",
        "str = input('Enter something here: ')\n",
        "n = int(input('Enter n-th index: '))\n",
        "def remove_char(str, n):\n",
        "  first_part = str[:n]\n",
        "  second_part = str[n+1:]\n",
        "  return first_part + second_part\n",
        "print(remove_char(str, n))"
      ],
      "metadata": {
        "colab": {
          "base_uri": "https://localhost:8080/"
        },
        "id": "lxJHVvz__qcJ",
        "outputId": "63d42b68-1d4d-49f1-ee82-2216824b49c2"
      },
      "execution_count": null,
      "outputs": [
        {
          "output_type": "stream",
          "name": "stdout",
          "text": [
            "Enter something here: coderschool\n",
            "Enter n-th index: 3\n",
            "codrschool\n"
          ]
        }
      ]
    }
  ]
}