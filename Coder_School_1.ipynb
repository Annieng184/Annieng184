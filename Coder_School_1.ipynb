{
  "cells": [
    {
      "cell_type": "markdown",
      "metadata": {
        "id": "view-in-github",
        "colab_type": "text"
      },
      "source": [
        "<a href=\"https://colab.research.google.com/github/Annieng184/Annieng184/blob/main/Coder_School_1.ipynb\" target=\"_parent\"><img src=\"https://colab.research.google.com/assets/colab-badge.svg\" alt=\"Open In Colab\"/></a>"
      ]
    },
    {
      "cell_type": "code",
      "source": [
        "a = True\n",
        "b = True\n",
        "c = False\n",
        "print((a or b) and c)"
      ],
      "metadata": {
        "colab": {
          "base_uri": "https://localhost:8080/"
        },
        "id": "PadjQO6XVWmc",
        "outputId": "2a7d3ebb-01e4-493e-bf85-23f6b161d284"
      },
      "id": "PadjQO6XVWmc",
      "execution_count": 2,
      "outputs": [
        {
          "output_type": "stream",
          "name": "stdout",
          "text": [
            "False\n"
          ]
        }
      ]
    },
    {
      "cell_type": "code",
      "source": [
        "a = 1.84\n",
        "print(type(a))\n",
        "a = int(a)\n",
        "print(a)\n",
        "print(type(a))"
      ],
      "metadata": {
        "colab": {
          "base_uri": "https://localhost:8080/"
        },
        "id": "nYU-gTnWXJII",
        "outputId": "1b300187-906c-4fa6-cd7f-6ff0ed762bf6"
      },
      "id": "nYU-gTnWXJII",
      "execution_count": 5,
      "outputs": [
        {
          "output_type": "stream",
          "name": "stdout",
          "text": [
            "<class 'float'>\n",
            "1\n",
            "<class 'int'>\n"
          ]
        }
      ]
    },
    {
      "cell_type": "code",
      "source": [
        ""
      ],
      "metadata": {
        "id": "-VuFXRqpZOIn"
      },
      "id": "-VuFXRqpZOIn",
      "execution_count": null,
      "outputs": []
    },
    {
      "cell_type": "code",
      "source": [
        "birthday_string = 'I am '\n",
        "age = 24\n",
        "birthday_string_2 = ' years old today'\n",
        "full_birthday = birthday_string + str(age) + birthday_string_2\n",
        "print(full_birthday)\n",
        "\n",
        "print(birthday_string,age,birthday_string_2)"
      ],
      "metadata": {
        "colab": {
          "base_uri": "https://localhost:8080/"
        },
        "id": "NPS_tbqAZOoq",
        "outputId": "7a1702f6-f70c-4813-a40f-112674e8fe31"
      },
      "id": "NPS_tbqAZOoq",
      "execution_count": 11,
      "outputs": [
        {
          "output_type": "stream",
          "name": "stdout",
          "text": [
            "I am 24 years old today\n",
            "I am  24  years old today\n"
          ]
        }
      ]
    },
    {
      "cell_type": "code",
      "source": [
        "#Given a three-digit number. Find the sum of its digit\n",
        "abc = int(input('Enter 3-digit number: '))\n",
        "a = abc//100\n",
        "b = (abc - a*100)// 10\n",
        "c = abc %10\n",
        "print(a+b+c)"
      ],
      "metadata": {
        "colab": {
          "base_uri": "https://localhost:8080/"
        },
        "id": "97_C2b56bK5J",
        "outputId": "f283b19b-7966-49fb-f080-abd64ec40e05"
      },
      "id": "97_C2b56bK5J",
      "execution_count": 17,
      "outputs": [
        {
          "output_type": "stream",
          "name": "stdout",
          "text": [
            "Enter 3-digit number: 123\n",
            "6\n"
          ]
        }
      ]
    }
  ],
  "metadata": {
    "colab": {
      "name": "Coder School 1.ipynb",
      "provenance": [],
      "include_colab_link": true
    },
    "kernelspec": {
      "display_name": "Python 3",
      "language": "python",
      "name": "python3"
    },
    "language_info": {
      "codemirror_mode": {
        "name": "ipython",
        "version": 3
      },
      "file_extension": ".py",
      "mimetype": "text/x-python",
      "name": "python",
      "nbconvert_exporter": "python",
      "pygments_lexer": "ipython3",
      "version": "3.7.10"
    }
  },
  "nbformat": 4,
  "nbformat_minor": 5
}