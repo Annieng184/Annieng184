{
  "nbformat": 4,
  "nbformat_minor": 0,
  "metadata": {
    "colab": {
      "name": "June 12th 2022.ipynb",
      "provenance": [],
      "authorship_tag": "ABX9TyPkQ1bhjc9X7jr4znIv28jB",
      "include_colab_link": true
    },
    "kernelspec": {
      "name": "python3",
      "display_name": "Python 3"
    },
    "language_info": {
      "name": "python"
    }
  },
  "cells": [
    {
      "cell_type": "markdown",
      "metadata": {
        "id": "view-in-github",
        "colab_type": "text"
      },
      "source": [
        "<a href=\"https://colab.research.google.com/github/Annieng184/Annieng184/blob/main/June_12th_2022.ipynb\" target=\"_parent\"><img src=\"https://colab.research.google.com/assets/colab-badge.svg\" alt=\"Open In Colab\"/></a>"
      ]
    },
    {
      "cell_type": "code",
      "execution_count": 14,
      "metadata": {
        "colab": {
          "base_uri": "https://localhost:8080/"
        },
        "id": "gK1NtfiqkeAl",
        "outputId": "4be12aaf-b42c-4ee2-e946-cbb5d3cb8333"
      },
      "outputs": [
        {
          "name": "stdout",
          "output_type": "stream",
          "text": [
            "Enter 3 numbers: 3,8,9\n"
          ]
        },
        {
          "output_type": "execute_result",
          "data": {
            "text/plain": [
              "9"
            ]
          },
          "metadata": {},
          "execution_count": 14
        }
      ],
      "source": [
        "#Write a Python function to find and return the max of three numbers\n",
        "\n",
        "a,b,c = map(int, input('Enter 3 numbers: ').split(','))\n",
        "def max_of_three(a,b,c):\n",
        "  if a>b>c:\n",
        "    return a\n",
        "  elif b>a>c:\n",
        "    return b\n",
        "  else:\n",
        "    return c\n",
        "max_of_three(a,b,c) "
      ]
    },
    {
      "cell_type": "code",
      "source": [
        "#Write a program to create function can accept two numbers and calculate their sum and difference. The difference should be non-negative\n",
        "a,b = map(int, input('Enter 2 numbers: ').split(','))\n",
        "def calculation(a,b):\n",
        "  return a+b, abs(a-b)\n",
        "print(calculation(a,b))"
      ],
      "metadata": {
        "colab": {
          "base_uri": "https://localhost:8080/"
        },
        "id": "zRGZswvompz_",
        "outputId": "61aa7665-df72-442a-baec-eb87dde41bb3"
      },
      "execution_count": 17,
      "outputs": [
        {
          "output_type": "stream",
          "name": "stdout",
          "text": [
            "Enter 2 numbers: 20,10\n",
            "(30, 10)\n"
          ]
        }
      ]
    },
    {
      "cell_type": "code",
      "source": [
        "#Write a function product to multiply all of the numbers in a list together\n",
        "L = list(map(int, input('Enter a list of numbers: ').split(',')))\n",
        "def product(L):\n",
        "  prod = 1\n",
        "  for i in L:\n",
        "    if i == 0:\n",
        "      return 0\n",
        "    else: \n",
        "      prod = prod *i\n",
        "  return prod\n",
        "print(product(L))\n"
      ],
      "metadata": {
        "colab": {
          "base_uri": "https://localhost:8080/"
        },
        "id": "7uQFHm8EoOab",
        "outputId": "e0991634-78e5-4888-fc79-8191c6541aeb"
      },
      "execution_count": 20,
      "outputs": [
        {
          "output_type": "stream",
          "name": "stdout",
          "text": [
            "Enter a list of numbers: 1,2,3,4,5\n",
            "120\n"
          ]
        }
      ]
    },
    {
      "cell_type": "code",
      "source": [
        "#Define a function which counts the number of vowels and consonants in a word\n",
        "message = input('Type something here: ')\n",
        "vowel_list = ['a', 'e', 'i', 'o', 'u', 'A', 'E', 'I', 'O', 'U']\n",
        "def count_vowels_consonants(message):\n",
        "  vowels = consonants = 0\n",
        "  for i in message:\n",
        "    if i in vowel_list:\n",
        "      vowels += 1\n",
        "    elif i == ' ':\n",
        "      None\n",
        "    else:\n",
        "      consonants +=1\n",
        "  return vowels, consonants\n",
        "vowels, consonants = count_vowels_consonants(message)\n",
        "print('Number of vowels ', vowels)\n",
        "print('Number of consonants ', consonants)\n"
      ],
      "metadata": {
        "colab": {
          "base_uri": "https://localhost:8080/"
        },
        "id": "OnRkuGgZqu9x",
        "outputId": "323b377a-367f-4979-8b7b-49d66299301b"
      },
      "execution_count": 30,
      "outputs": [
        {
          "output_type": "stream",
          "name": "stdout",
          "text": [
            "Type something here: Warren Buffett\n",
            "Number of vowels  4\n",
            "Number of consonants  9\n"
          ]
        }
      ]
    },
    {
      "cell_type": "code",
      "source": [
        "#Write a Python function that accepts a string and returns the number of upper case letters and lower case letters\n",
        "message = input('Type something here: ')\n",
        "def count_upper_lower(message):\n",
        "  upper = lower = 0\n",
        "  for i in message:\n",
        "    if i.isupper():\n",
        "      upper +=1\n",
        "    elif i == ' ':\n",
        "      None\n",
        "    else: \n",
        "      lower +=1\n",
        "  return upper, lower\n",
        "upper, lower = count_upper_lower(message)\n",
        "print('Number of upper case ', upper)\n",
        "print('Number of lower case ', lower)\n",
        "    "
      ],
      "metadata": {
        "colab": {
          "base_uri": "https://localhost:8080/"
        },
        "id": "AsBNU2TjvdZy",
        "outputId": "df06402d-f991-404d-876e-10dd6173976a"
      },
      "execution_count": 32,
      "outputs": [
        {
          "output_type": "stream",
          "name": "stdout",
          "text": [
            "Type something here: Warren Buffett\n",
            "Number of upper case  2\n",
            "Number of lower case  11\n"
          ]
        }
      ]
    }
  ]
}