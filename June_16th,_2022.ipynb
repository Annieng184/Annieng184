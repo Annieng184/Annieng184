{
  "nbformat": 4,
  "nbformat_minor": 0,
  "metadata": {
    "colab": {
      "name": "June 16th, 2022.ipynb",
      "provenance": [],
      "toc_visible": true,
      "authorship_tag": "ABX9TyNfclkPxhL6OIZewUAZv3Vr",
      "include_colab_link": true
    },
    "kernelspec": {
      "name": "python3",
      "display_name": "Python 3"
    },
    "language_info": {
      "name": "python"
    }
  },
  "cells": [
    {
      "cell_type": "markdown",
      "metadata": {
        "id": "view-in-github",
        "colab_type": "text"
      },
      "source": [
        "<a href=\"https://colab.research.google.com/github/Annieng184/Annieng184/blob/main/June_16th%2C_2022.ipynb\" target=\"_parent\"><img src=\"https://colab.research.google.com/assets/colab-badge.svg\" alt=\"Open In Colab\"/></a>"
      ]
    },
    {
      "cell_type": "code",
      "source": [
        "#Write program to print all even numbers from 1 to n\n",
        "n = int(input('Enter a number: '))\n",
        "for i in range(1,n+1):\n",
        "  if i%2 ==0:\n",
        "    print(i, end = ' ')"
      ],
      "metadata": {
        "colab": {
          "base_uri": "https://localhost:8080/"
        },
        "id": "nbMian2rLrFD",
        "outputId": "e44f7397-64b5-4ff5-c25b-7e10eae69c19"
      },
      "execution_count": 21,
      "outputs": [
        {
          "output_type": "stream",
          "name": "stdout",
          "text": [
            "Enter a number: 5\n",
            "2 4 "
          ]
        }
      ]
    },
    {
      "cell_type": "code",
      "source": [
        "#Write a program to find sum of all even numbers between 1 to n\n",
        "n = int(input('Enter a number: '))\n",
        "count = 0\n",
        "for i in range(1, n+1):\n",
        "  if i %2 ==0:\n",
        "    count = count +i\n",
        "print(count)"
      ],
      "metadata": {
        "colab": {
          "base_uri": "https://localhost:8080/"
        },
        "id": "01Z0YfcKMoQC",
        "outputId": "39898396-05c9-4b59-c705-d1bec97a5eec"
      },
      "execution_count": 25,
      "outputs": [
        {
          "output_type": "stream",
          "name": "stdout",
          "text": [
            "Enter a number: 5\n",
            "6\n"
          ]
        }
      ]
    },
    {
      "cell_type": "code",
      "source": [
        "#Given a tuple of 2 positive integers where the second integer is larger than the first, print out all the integers between those two integers\n",
        "T = (3,6)\n",
        "for i in range(T[0], T[1]+1):\n",
        "  print(i, end = ' ')"
      ],
      "metadata": {
        "colab": {
          "base_uri": "https://localhost:8080/"
        },
        "id": "KtIiMnq6NO-F",
        "outputId": "05a8330c-117e-4f17-e06f-17058f0462f9"
      },
      "execution_count": 30,
      "outputs": [
        {
          "output_type": "stream",
          "name": "stdout",
          "text": [
            "3 4 5 6 "
          ]
        }
      ]
    },
    {
      "cell_type": "code",
      "source": [
        "#the factorial of an integer n, denoted by n! is the following product: 𝑛!=1×2×3×…×𝑛 For a given integer n calculate the value n!\n",
        "n = int(input('Enter a number: '))\n",
        "total = 1\n",
        "for i in range(1, n+1):\n",
        "  total = total*i\n",
        "print(total)\n"
      ],
      "metadata": {
        "colab": {
          "base_uri": "https://localhost:8080/"
        },
        "id": "gtKHGhhHOr6s",
        "outputId": "e4da8ee8-b40a-4897-db70-b9b2c753c1e2"
      },
      "execution_count": 42,
      "outputs": [
        {
          "output_type": "stream",
          "name": "stdout",
          "text": [
            "Enter a number: 4\n",
            "24\n"
          ]
        }
      ]
    },
    {
      "cell_type": "code",
      "source": [
        "#Given a positive integer n, print out all of its factors. \n",
        "n = int(input('Enter a number: '))\n",
        "total =1\n",
        "for i in range(1,n+1):\n",
        "  if n%i ==0:\n",
        "    print(i)"
      ],
      "metadata": {
        "colab": {
          "base_uri": "https://localhost:8080/"
        },
        "id": "cSkcV689T7LK",
        "outputId": "4db62eb8-ef04-4a74-de0f-150258fee003"
      },
      "execution_count": 46,
      "outputs": [
        {
          "output_type": "stream",
          "name": "stdout",
          "text": [
            "Enter a number: 7\n",
            "1\n",
            "7\n"
          ]
        }
      ]
    },
    {
      "cell_type": "code",
      "source": [
        "#Given an integer n>1, check if it is a prime number. Print `True` if it is, and `False` if it isn't\n",
        "n = int(input('Enter a number: '))\n",
        "total = 0\n",
        "for i in range(1, n+1):\n",
        "  if n%i ==0:\n",
        "    total +=1\n",
        "if total >2:\n",
        "  print('False')\n",
        "else:\n",
        "  print('True')\n"
      ],
      "metadata": {
        "colab": {
          "base_uri": "https://localhost:8080/"
        },
        "id": "g5g-pPInVItz",
        "outputId": "60333138-f831-4cc8-d8be-352fc0b1a33f"
      },
      "execution_count": 52,
      "outputs": [
        {
          "output_type": "stream",
          "name": "stdout",
          "text": [
            "Enter a number: 33\n",
            "False\n"
          ]
        }
      ]
    },
    {
      "cell_type": "code",
      "source": [
        "#Given an integer n>1, check if it is a perfect number. Print `True` if it is, and `False` if it isn't.\n",
        "n = int(input('Enter a number: '))\n",
        "count = 0\n",
        "for i in range(1, n):\n",
        "  if n%i ==0:\n",
        "    count += i\n",
        "if count ==n:\n",
        "  print(True)\n",
        "else:\n",
        "  print(False)"
      ],
      "metadata": {
        "colab": {
          "base_uri": "https://localhost:8080/"
        },
        "id": "7OaogwibVIlA",
        "outputId": "c10f3526-e2be-4d72-bf55-df6b9cdc098a"
      },
      "execution_count": 58,
      "outputs": [
        {
          "output_type": "stream",
          "name": "stdout",
          "text": [
            "Enter a number: 6\n",
            "True\n"
          ]
        }
      ]
    },
    {
      "cell_type": "code",
      "source": [
        "#Given an integer n, print out its multiplication table.\n",
        "n = int(input('Enter a number: '))\n",
        "for i in range(1, 11):\n",
        "  print(f'{i}x{n} = {i*n}')"
      ],
      "metadata": {
        "colab": {
          "base_uri": "https://localhost:8080/"
        },
        "id": "7HQVgz3nYx_k",
        "outputId": "a894e261-8f4b-4981-93f3-cdfdc15e751a"
      },
      "execution_count": 65,
      "outputs": [
        {
          "output_type": "stream",
          "name": "stdout",
          "text": [
            "Enter a number: 2\n",
            "1x2 = 2\n",
            "2x2 = 4\n",
            "3x2 = 6\n",
            "4x2 = 8\n",
            "5x2 = 10\n",
            "6x2 = 12\n",
            "7x2 = 14\n",
            "8x2 = 16\n",
            "9x2 = 18\n",
            "10x2 = 20\n"
          ]
        }
      ]
    }
  ]
}