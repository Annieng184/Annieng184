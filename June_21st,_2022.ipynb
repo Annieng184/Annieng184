{
  "nbformat": 4,
  "nbformat_minor": 0,
  "metadata": {
    "colab": {
      "name": "June 21st, 2022.ipynb",
      "provenance": [],
      "authorship_tag": "ABX9TyPsitRQaQfiDUnoPFYgSLil",
      "include_colab_link": true
    },
    "kernelspec": {
      "name": "python3",
      "display_name": "Python 3"
    },
    "language_info": {
      "name": "python"
    }
  },
  "cells": [
    {
      "cell_type": "markdown",
      "metadata": {
        "id": "view-in-github",
        "colab_type": "text"
      },
      "source": [
        "<a href=\"https://colab.research.google.com/github/Annieng184/Annieng184/blob/main/June_21st%2C_2022.ipynb\" target=\"_parent\"><img src=\"https://colab.research.google.com/assets/colab-badge.svg\" alt=\"Open In Colab\"/></a>"
      ]
    },
    {
      "cell_type": "code",
      "execution_count": 1,
      "metadata": {
        "colab": {
          "base_uri": "https://localhost:8080/"
        },
        "id": "oPBvcB7AE5ax",
        "outputId": "374f8a35-0a9e-45bd-ff5c-4032e8e1792d"
      },
      "outputs": [
        {
          "output_type": "stream",
          "name": "stdout",
          "text": [
            "1\n"
          ]
        }
      ],
      "source": [
        "#Complete a function to count how many times the smallest number of a list appears in that list.\n",
        "my_list_1 = [-3, 0, 3, 4, 2, -1, 9, 6]\n",
        "def count_min(my_list_1):\n",
        "  count = 0\n",
        "  list_min = min(my_list_1)\n",
        "  count = my_list_1.count(list_min)\n",
        "  return count\n",
        "print(count_min(my_list_1))"
      ]
    },
    {
      "cell_type": "code",
      "source": [
        "#Complete a function to calculate the difference between maximum and minimum values of a tuple of integers\n",
        "\n",
        "my_tuple = (-3, 0, 3, 4, 2, -1, 9, 6)\n",
        "def calculate_range(my_tuple):\n",
        "  max_list = max(my_tuple)\n",
        "  min_list = min(my_tuple)\n",
        "  return max_list - min_list\n",
        "print(calculate_range(my_tuple))\n"
      ],
      "metadata": {
        "colab": {
          "base_uri": "https://localhost:8080/"
        },
        "id": "fAhMbkERFKow",
        "outputId": "bb3e63a6-bc39-499d-d9e2-ec22e8b98bf0"
      },
      "execution_count": 2,
      "outputs": [
        {
          "output_type": "stream",
          "name": "stdout",
          "text": [
            "12\n"
          ]
        }
      ]
    },
    {
      "cell_type": "code",
      "source": [
        "#Complete a function that reads an email address. If True, returns the username; otherwise returns the domain name\n",
        "email = str(input('Enter email: '))\n",
        "check = input('True or False: ') \n",
        "if check == 'True':\n",
        "  check = True\n",
        "elif check == 'False':\n",
        "  check = False\n",
        "\n",
        "\n",
        "def extract_email(email, check):\n",
        "  if check is True:\n",
        "    return email.split('@')[0]\n",
        "  else:\n",
        "    return email.split('@')[1]\n",
        "\n",
        "print(extract_email(email, check))\n"
      ],
      "metadata": {
        "colab": {
          "base_uri": "https://localhost:8080/"
        },
        "id": "-3IqPeK4FSWk",
        "outputId": "eb7fecf5-e7ee-4598-f8fa-a3998773956d"
      },
      "execution_count": 3,
      "outputs": [
        {
          "output_type": "stream",
          "name": "stdout",
          "text": [
            "Enter email: hatrang1847@gmail.com\n",
            "True or False: True\n",
            "hatrang1847\n"
          ]
        }
      ]
    },
    {
      "cell_type": "code",
      "source": [
        "#Complete a function to calculate the total weight and total price of one item, and return one of those values depending on a second input argument.\n",
        "\n",
        "item_1 = {'unit_weight': 1.5, 'unit_price': 2, 'number_of_units': 5}\n",
        "check = input('True or False  ')\n",
        "\n",
        "if check == 'True':\n",
        "  check = True\n",
        "elif check == 'False':\n",
        "  check = False\n",
        "\n",
        "def item_calculator(item_1, check):\n",
        "  if check is True:\n",
        "    return item_1['unit_weight'] * item_1['number_of_units']\n",
        "  elif check is False:\n",
        "    return item_1['unit_price'] * item_1['number_of_units']\n",
        "\n",
        "print(item_calculator(item_1, check))\n",
        "\n",
        "\n"
      ],
      "metadata": {
        "colab": {
          "base_uri": "https://localhost:8080/"
        },
        "id": "38LN4L12Fsy4",
        "outputId": "a7b7ff0c-7cc1-4067-f480-ff7ef82a16cc"
      },
      "execution_count": 7,
      "outputs": [
        {
          "output_type": "stream",
          "name": "stdout",
          "text": [
            "True or False  True\n",
            "7.5\n"
          ]
        }
      ]
    }
  ]
}