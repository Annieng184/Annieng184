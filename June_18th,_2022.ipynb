{
  "nbformat": 4,
  "nbformat_minor": 0,
  "metadata": {
    "colab": {
      "name": "June 18th, 2022.ipynb",
      "provenance": [],
      "authorship_tag": "ABX9TyPCeVQ1T1IGgTo9l4cBqvKn",
      "include_colab_link": true
    },
    "kernelspec": {
      "name": "python3",
      "display_name": "Python 3"
    },
    "language_info": {
      "name": "python"
    }
  },
  "cells": [
    {
      "cell_type": "markdown",
      "metadata": {
        "id": "view-in-github",
        "colab_type": "text"
      },
      "source": [
        "<a href=\"https://colab.research.google.com/github/Annieng184/Annieng184/blob/main/June_18th%2C_2022.ipynb\" target=\"_parent\"><img src=\"https://colab.research.google.com/assets/colab-badge.svg\" alt=\"Open In Colab\"/></a>"
      ]
    },
    {
      "cell_type": "markdown",
      "source": [
        ""
      ],
      "metadata": {
        "id": "aA1U2dcutO3M"
      }
    },
    {
      "cell_type": "code",
      "source": [
        "#Write a function to combine 2 different dictionaries into a single dictionary and return the combined dictionary\n",
        "dict_1 = {1:1, 2:4}\n",
        "dict_2 = {3:9, 4:16}\n",
        "def combine_dict(dict_1, dict_2):\n",
        "  result = {}\n",
        "  result.update(dict_1)\n",
        "  result.update(dict_2)\n",
        "  return result\n",
        "print(combine_dict(dict_1, dict_2))"
      ],
      "metadata": {
        "colab": {
          "base_uri": "https://localhost:8080/"
        },
        "id": "S6K4R6D1tQG0",
        "outputId": "395ea65f-49fb-4852-c2dc-947dd5e42e54"
      },
      "execution_count": 1,
      "outputs": [
        {
          "output_type": "stream",
          "name": "stdout",
          "text": [
            "{1: 1, 2: 4, 3: 9, 4: 16}\n"
          ]
        }
      ]
    },
    {
      "cell_type": "code",
      "source": [
        "#Write a function squares_dict(n) to create a dictionary with 1,2,...,n as keys and 1**2, 2**2,..., n**2 as values\n",
        "n = int(input('Enter a number: '))\n",
        "def squares_dict(n):\n",
        "  result = {}\n",
        "  for i in range(1, n+1):\n",
        "    result[i] = i**2\n",
        "  return result\n",
        "print(squares_dict(n))"
      ],
      "metadata": {
        "colab": {
          "base_uri": "https://localhost:8080/"
        },
        "id": "ceD-FxXftVfi",
        "outputId": "de4c75cb-c58d-4c09-95ef-db2737461726"
      },
      "execution_count": 2,
      "outputs": [
        {
          "output_type": "stream",
          "name": "stdout",
          "text": [
            "Enter a number: 10\n",
            "{1: 1, 2: 4, 3: 9, 4: 16, 5: 25, 6: 36, 7: 49, 8: 64, 9: 81, 10: 100}\n"
          ]
        }
      ]
    },
    {
      "cell_type": "code",
      "source": [
        "#Write a function two_lists_to_dict(list_1, list_2) to create a dictionary with values in list_1 as dictionary keys and values in list_2 as dictionary values\n",
        "list_1 = [5,6,7,8]\n",
        "list_2 = [10,11,12,13]\n",
        "def two_lists_to_dict(list_1, list_2):\n",
        "  result = {}\n",
        "  for i in range(len(list_1)):\n",
        "    key = list_1[i]\n",
        "    value = list_2[i]\n",
        "    result[key] = value\n",
        "  return result\n",
        "print(two_lists_to_dict(list_1, list_2))"
      ],
      "metadata": {
        "colab": {
          "base_uri": "https://localhost:8080/"
        },
        "id": "BgQtcRODth21",
        "outputId": "39a99a14-2ee1-4a5a-b3c5-59d638576c6b"
      },
      "execution_count": 3,
      "outputs": [
        {
          "output_type": "stream",
          "name": "stdout",
          "text": [
            "{5: 10, 6: 11, 7: 12, 8: 13}\n"
          ]
        }
      ]
    },
    {
      "cell_type": "code",
      "source": [
        "#Write a function that takes a dictionary my_dict and returns the key that has the maximum value\n",
        "def max_key(my_dict):\n",
        "  return max(my_dict, key=my_dict.get)\n",
        "my_dict = {'Betty': 3.2, 'Chris': 7.31, 'Adam': 2.58, 'Elise': 4.90, 'David': 5.76}\n",
        "my_dict.get\n",
        "print(max_key(my_dict))"
      ],
      "metadata": {
        "colab": {
          "base_uri": "https://localhost:8080/"
        },
        "id": "8rSNdxzptnU-",
        "outputId": "7f109b8f-ffcb-43c4-a8e2-d770c1689ef8"
      },
      "execution_count": 6,
      "outputs": [
        {
          "output_type": "stream",
          "name": "stdout",
          "text": [
            "Chris\n"
          ]
        }
      ]
    }
  ]
}