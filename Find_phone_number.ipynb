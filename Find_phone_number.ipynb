{
  "nbformat": 4,
  "nbformat_minor": 0,
  "metadata": {
    "colab": {
      "name": "Find phone number.ipynb",
      "provenance": [],
      "authorship_tag": "ABX9TyNde5OkWeFN3pamGZZ6smoI",
      "include_colab_link": true
    },
    "kernelspec": {
      "name": "python3",
      "display_name": "Python 3"
    },
    "language_info": {
      "name": "python"
    }
  },
  "cells": [
    {
      "cell_type": "markdown",
      "metadata": {
        "id": "view-in-github",
        "colab_type": "text"
      },
      "source": [
        "<a href=\"https://colab.research.google.com/github/Annieng184/Annieng184/blob/main/Find_phone_number.ipynb\" target=\"_parent\"><img src=\"https://colab.research.google.com/assets/colab-badge.svg\" alt=\"Open In Colab\"/></a>"
      ]
    },
    {
      "cell_type": "code",
      "execution_count": 1,
      "metadata": {
        "id": "JsRTO41Yl75q"
      },
      "outputs": [],
      "source": [
        "import re\n"
      ]
    },
    {
      "cell_type": "code",
      "source": [
        "#Create a program that will help verify if the phone number format that was input by the customers is correct or not. The phone number has to follow these formats:\n",
        "# 0123456789\n",
        "# 0123 456 789\n",
        "# 0123-456-789\n",
        "# 0123.456.789\n",
        "# +84123456789\n",
        "# +84 123456789\n",
        "# +84 123 456 789\n",
        "n = str(input('Enter phone number here: '))\n",
        "def find_phone_number(n):\n",
        "    pattern = r'^(0|\\+84\\s?)\\d{3}(\\.|\\-|\\s)?\\d{3}(\\.|\\-|\\s)?\\d{3}$'\n",
        "    match_obj = re.search(pattern, n)\n",
        "    if match_obj:\n",
        "        return True\n",
        "    return False\n",
        "\n",
        "print(find_phone_number(n))"
      ],
      "metadata": {
        "colab": {
          "base_uri": "https://localhost:8080/"
        },
        "id": "cAcIOM8vz4uW",
        "outputId": "508ad823-9347-4f94-c553-d66e38f2520b"
      },
      "execution_count": 3,
      "outputs": [
        {
          "output_type": "stream",
          "name": "stdout",
          "text": [
            "Enter phone number here: 0909881804\n",
            "True\n"
          ]
        }
      ]
    }
  ]
}